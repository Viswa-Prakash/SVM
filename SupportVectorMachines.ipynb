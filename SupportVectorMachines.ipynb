{
 "cells": [
  {
   "cell_type": "markdown",
   "metadata": {
    "id": "PgV6v6HjtV4G"
   },
   "source": [
    "# Introduction - SVM "
   ]
  },
  {
   "cell_type": "markdown",
   "metadata": {
    "id": "GNWq4Gg_tV4j"
   },
   "source": [
    "SVM is the Supervised Machine Learning algorithm used for both classification, regression. But mostly preferred for classification.\n",
    "\n",
    "Given a dataset, the algorithm tries to divide the data using hyperplanes and then makes the predictions. SVM is a non-probabilistic linear classifier. While other classifiers, when classifying, predict the probability of a data point to belong to one group or the another, SVM directly says to which group the datapoint belongs to without using any probability calculation.\n"
   ]
  },
  {
   "cell_type": "markdown",
   "metadata": {
    "id": "fRsdwN8NtV4n"
   },
   "source": [
    "\n",
    "How it works?\n",
    "- SVM constructs a best line or the decision boundary called **Hyperplane** which can be used for classification or regression or outlier detection.  The dimension of the hyperplane depends upon the number of features. If the number of input features is 2, then the hyperplane is just a line. If the number of input features is 3, then the hyperplane becomes a two-dimensional plane.\n",
    "\n",
    "- This hyperplane creates 2 margin lines parallel to it which have some distance so that it can distinctly classify the data points. The distance between the 2 margin lines are called **marginal distance**.\n",
    "\n",
    "- These 2 margin lines passes through the most nearest +ve points and the most nearest -ve points. Those points through which the margin lines pass are called **support vectors**. Support vectors are important as it helps to determine the maximum distance of the marginal plane.\n",
    " "
   ]
  },
  {
   "cell_type": "markdown",
   "metadata": {
    "id": "CVpgFs1ZtV4q"
   },
   "source": [
    "## Understanding the Mathematics involved\n",
    "Let’s take the example of the following dataset and see how can we divide the data into appropriate groups.\n",
    "<img src='SVM_intution.PNG'  width=\"300\">"
   ]
  },
  {
   "cell_type": "markdown",
   "metadata": {
    "id": "Zqv8K2ijtV4u"
   },
   "source": [
    "We can see that there are two groups of data. The question is how to divide these points into two groups. It can be done using any of the three lines. Or, for that purpose, there can be an infinite number of straight lines that can divide these points into two classes. Now, which line to choose?\n",
    "SVM solves this problem using the maximum margin as shown \n",
    "<img src='SVM_hyperplane.PNG' width=\"400\">\n"
   ]
  },
  {
   "cell_type": "markdown",
   "metadata": {
    "id": "hqJEJxZ_tV41"
   },
   "source": [
    "The black line in the middle is the optimum classifier. This line is drawn to maximise the distance of the classifier line from the nearest points in the two classes. It is also called a __hyperplane__ in terms of  SVM. \n",
    "A _Hyperplane_ is an n-1 dimensional plane which optimally divides the data of n dimensions. Here, as we have only a 2-D data, so the hyperplane can be represented using one dimension only. Hence, the hyperplane is a line here.\n",
    "The two points (highlighted with circles) which are on the yellow lines, they are called the __support vectors__. As it is a 2-D figure, they are points. In a multi-dimensional space, they will be vectors, and hence, the name- support vector machine as the algorithm creates the optimum classification line by maximising its distance from the two support vectors.\n",
    "\n",
    "##### Significance of marginal distance:\n",
    "![SVM1%20%282%29.png](attachment:SVM1%20%282%29.png)\n",
    "\n",
    "\n",
    "Which of these lines suits our problem? Observe Fig (i) & (ii), line is close to the data points. So any minor change in the data point might cause this point to fall in to the other class. Whereas in Fig(iii), the line looks more stable as it is far from data points on either side and not susceptible to small changes in data points. Hence hyperplane with the maximum marginal distance is considered to be the best hyperplane.\n",
    "\n",
    "All three lines, classifies correctly in training data. But the 3rd line will work well with new data too and the rest might have lot of errors.\n",
    "\n",
    " - Hence, the optimal hyperplane is the one which is farthest from our training data points ie., the line which has maximum marginal distance. \n",
    " \n",
    "When the data is not linearly separable,  then to create a hyperplane to separate data into different groups, the SVM algorithm needs to perform computations in a higher-dimensional space. But the introduction of new dimensions makes the computations for the SVMs more intensive, which impacts the algorithm performance. To rectify this, mathematicians came up with the approach of Kernel methods. \n",
    "Kernel methods use kernel functions available in mathematics. The unique feature of a kernel function is to compute in a higher-dimensional space without calculating the new coordinates in that higher dimension. It implicitly uses predefined mathematical functions to do operations on the existing points which mimic the computation in a higher-dimensional space without adding to the computation cost as they are not actually calculating the coordinates in the higher dimension thereby avoiding the computation of calculating distances from the newly computed points.  This is called the kernel trick.\n",
    "<img src= \"SVM_3D_Hyperplane.PNG\" width=\"300\">\n",
    "                                                                        Image: bogotobogo.com \n"
   ]
  },
  {
   "cell_type": "markdown",
   "metadata": {
    "id": "NJG0adLUtV45"
   },
   "source": [
    "In the left diagram above, we have a non-linear distribution of data as we can not classify a data using a linear equation. To solve this problem, we can project the points in a 3-dimensional space and then derive a plane which divides the data into two parts. In theory, that’s what a kernel function does without computing the additional coordinates for the higher dimension.\n"
   ]
  },
  {
   "cell_type": "markdown",
   "metadata": {
    "id": "Tz-SfT2ktV49"
   },
   "source": [
    "## Python Implementation"
   ]
  },
  {
   "cell_type": "markdown",
   "metadata": {
    "id": "ZK0mGjI8tV5C"
   },
   "source": [
    "### Business Case:-To find out based on given features whether the loan will get approved or not"
   ]
  },
  {
   "cell_type": "code",
   "execution_count": null,
   "metadata": {
    "id": "p-1egS-YtV5G"
   },
   "outputs": [],
   "source": [
    "## Supervised learning with classification task(2 classes)"
   ]
  },
  {
   "cell_type": "code",
   "execution_count": 1,
   "metadata": {
    "executionInfo": {
     "elapsed": 419,
     "status": "ok",
     "timestamp": 1642344544478,
     "user": {
      "displayName": "Shubhangi Sakarkar",
      "photoUrl": "https://lh3.googleusercontent.com/a-/AOh14GjiJriRrUWKSeoxmYnVoL2uz2i6E3RLOwZgeqHG=s64",
      "userId": "12180749557274197061"
     },
     "user_tz": -330
    },
    "id": "KbOTlr-ntV5M"
   },
   "outputs": [],
   "source": [
    "##importing the libraries\n",
    "import pandas as pd\n",
    "import numpy as np\n",
    "import seaborn as sns\n",
    "import matplotlib.pyplot as plt\n",
    "%matplotlib inline"
   ]
  },
  {
   "cell_type": "code",
   "execution_count": 27,
   "metadata": {
    "executionInfo": {
     "elapsed": 414,
     "status": "ok",
     "timestamp": 1642344581849,
     "user": {
      "displayName": "Shubhangi Sakarkar",
      "photoUrl": "https://lh3.googleusercontent.com/a-/AOh14GjiJriRrUWKSeoxmYnVoL2uz2i6E3RLOwZgeqHG=s64",
      "userId": "12180749557274197061"
     },
     "user_tz": -330
    },
    "id": "jB8u6VJwtV5O"
   },
   "outputs": [],
   "source": [
    "## loading the data\n",
    "data=pd.read_csv('loan_approved.csv')"
   ]
  },
  {
   "cell_type": "code",
   "execution_count": 3,
   "metadata": {
    "id": "2zUtrJ_YtV5P"
   },
   "outputs": [
    {
     "data": {
      "text/html": [
       "<div>\n",
       "<style scoped>\n",
       "    .dataframe tbody tr th:only-of-type {\n",
       "        vertical-align: middle;\n",
       "    }\n",
       "\n",
       "    .dataframe tbody tr th {\n",
       "        vertical-align: top;\n",
       "    }\n",
       "\n",
       "    .dataframe thead th {\n",
       "        text-align: right;\n",
       "    }\n",
       "</style>\n",
       "<table border=\"1\" class=\"dataframe\">\n",
       "  <thead>\n",
       "    <tr style=\"text-align: right;\">\n",
       "      <th></th>\n",
       "      <th>Loan_ID</th>\n",
       "      <th>Gender</th>\n",
       "      <th>Married</th>\n",
       "      <th>Dependents</th>\n",
       "      <th>Education</th>\n",
       "      <th>Self_Employed</th>\n",
       "      <th>ApplicantIncome</th>\n",
       "      <th>CoapplicantIncome</th>\n",
       "      <th>LoanAmount</th>\n",
       "      <th>Loan_Amount_Term</th>\n",
       "      <th>Credit_History</th>\n",
       "      <th>Property_Area</th>\n",
       "      <th>Loan_Status (Approved)</th>\n",
       "    </tr>\n",
       "  </thead>\n",
       "  <tbody>\n",
       "    <tr>\n",
       "      <th>0</th>\n",
       "      <td>LP001002</td>\n",
       "      <td>Male</td>\n",
       "      <td>No</td>\n",
       "      <td>0</td>\n",
       "      <td>Graduate</td>\n",
       "      <td>No</td>\n",
       "      <td>5849</td>\n",
       "      <td>0.0</td>\n",
       "      <td>NaN</td>\n",
       "      <td>360.0</td>\n",
       "      <td>1.0</td>\n",
       "      <td>Urban</td>\n",
       "      <td>Y</td>\n",
       "    </tr>\n",
       "    <tr>\n",
       "      <th>1</th>\n",
       "      <td>LP001003</td>\n",
       "      <td>Male</td>\n",
       "      <td>Yes</td>\n",
       "      <td>1</td>\n",
       "      <td>Graduate</td>\n",
       "      <td>No</td>\n",
       "      <td>4583</td>\n",
       "      <td>1508.0</td>\n",
       "      <td>128.0</td>\n",
       "      <td>360.0</td>\n",
       "      <td>1.0</td>\n",
       "      <td>Rural</td>\n",
       "      <td>N</td>\n",
       "    </tr>\n",
       "    <tr>\n",
       "      <th>2</th>\n",
       "      <td>LP001005</td>\n",
       "      <td>Male</td>\n",
       "      <td>Yes</td>\n",
       "      <td>0</td>\n",
       "      <td>Graduate</td>\n",
       "      <td>Yes</td>\n",
       "      <td>3000</td>\n",
       "      <td>0.0</td>\n",
       "      <td>66.0</td>\n",
       "      <td>360.0</td>\n",
       "      <td>1.0</td>\n",
       "      <td>Urban</td>\n",
       "      <td>Y</td>\n",
       "    </tr>\n",
       "    <tr>\n",
       "      <th>3</th>\n",
       "      <td>LP001006</td>\n",
       "      <td>Male</td>\n",
       "      <td>Yes</td>\n",
       "      <td>0</td>\n",
       "      <td>Not Graduate</td>\n",
       "      <td>No</td>\n",
       "      <td>2583</td>\n",
       "      <td>2358.0</td>\n",
       "      <td>120.0</td>\n",
       "      <td>360.0</td>\n",
       "      <td>1.0</td>\n",
       "      <td>Urban</td>\n",
       "      <td>Y</td>\n",
       "    </tr>\n",
       "    <tr>\n",
       "      <th>4</th>\n",
       "      <td>LP001008</td>\n",
       "      <td>Male</td>\n",
       "      <td>No</td>\n",
       "      <td>0</td>\n",
       "      <td>Graduate</td>\n",
       "      <td>No</td>\n",
       "      <td>6000</td>\n",
       "      <td>0.0</td>\n",
       "      <td>141.0</td>\n",
       "      <td>360.0</td>\n",
       "      <td>1.0</td>\n",
       "      <td>Urban</td>\n",
       "      <td>Y</td>\n",
       "    </tr>\n",
       "  </tbody>\n",
       "</table>\n",
       "</div>"
      ],
      "text/plain": [
       "    Loan_ID Gender Married Dependents     Education Self_Employed  \\\n",
       "0  LP001002   Male      No          0      Graduate            No   \n",
       "1  LP001003   Male     Yes          1      Graduate            No   \n",
       "2  LP001005   Male     Yes          0      Graduate           Yes   \n",
       "3  LP001006   Male     Yes          0  Not Graduate            No   \n",
       "4  LP001008   Male      No          0      Graduate            No   \n",
       "\n",
       "   ApplicantIncome  CoapplicantIncome  LoanAmount  Loan_Amount_Term  \\\n",
       "0             5849                0.0         NaN             360.0   \n",
       "1             4583             1508.0       128.0             360.0   \n",
       "2             3000                0.0        66.0             360.0   \n",
       "3             2583             2358.0       120.0             360.0   \n",
       "4             6000                0.0       141.0             360.0   \n",
       "\n",
       "   Credit_History Property_Area Loan_Status (Approved)  \n",
       "0             1.0         Urban                      Y  \n",
       "1             1.0         Rural                      N  \n",
       "2             1.0         Urban                      Y  \n",
       "3             1.0         Urban                      Y  \n",
       "4             1.0         Urban                      Y  "
      ]
     },
     "execution_count": 3,
     "metadata": {},
     "output_type": "execute_result"
    }
   ],
   "source": [
    "## Getting the first few rows of data\n",
    "data.head()"
   ]
  },
  {
   "cell_type": "code",
   "execution_count": null,
   "metadata": {},
   "outputs": [],
   "source": [
    "# Domian analysis."
   ]
  },
  {
   "cell_type": "markdown",
   "metadata": {
    "id": "0H6eCq4atV5R"
   },
   "source": [
    "## Basic Checks"
   ]
  },
  {
   "cell_type": "code",
   "execution_count": null,
   "metadata": {},
   "outputs": [],
   "source": [
    "head,tail,info,describe for both numerical and categorical"
   ]
  },
  {
   "cell_type": "code",
   "execution_count": null,
   "metadata": {
    "scrolled": true
   },
   "outputs": [],
   "source": [
    "data.describe(include='O')"
   ]
  },
  {
   "cell_type": "code",
   "execution_count": null,
   "metadata": {},
   "outputs": [],
   "source": [
    "data.info()"
   ]
  },
  {
   "cell_type": "markdown",
   "metadata": {
    "id": "-A2vQg3htV5T"
   },
   "source": [
    "## Exploratory Data Analysis"
   ]
  },
  {
   "cell_type": "code",
   "execution_count": null,
   "metadata": {},
   "outputs": [],
   "source": [
    "# Univariate analysis\n",
    "# Bivaraite analysis--Autoviz"
   ]
  },
  {
   "cell_type": "code",
   "execution_count": 4,
   "metadata": {
    "collapsed": true
   },
   "outputs": [
    {
     "name": "stdout",
     "output_type": "stream",
     "text": [
      "Requirement already satisfied: autoviz in /Users/dms/opt/anaconda3/lib/python3.9/site-packages (0.1.35)\n",
      "Requirement already satisfied: ipython in /Users/dms/opt/anaconda3/lib/python3.9/site-packages (from autoviz) (7.29.0)\n",
      "Requirement already satisfied: wordcloud in /Users/dms/opt/anaconda3/lib/python3.9/site-packages (from autoviz) (1.8.1)\n",
      "Collecting fsspec==0.8.3\n",
      "  Using cached fsspec-0.8.3-py3-none-any.whl (88 kB)\n",
      "Requirement already satisfied: matplotlib>=3.3.3 in /Users/dms/opt/anaconda3/lib/python3.9/site-packages (from autoviz) (3.4.3)\n",
      "Requirement already satisfied: nltk in /Users/dms/opt/anaconda3/lib/python3.9/site-packages (from autoviz) (3.6.5)\n",
      "Requirement already satisfied: bokeh==2.4.2 in /Users/dms/opt/anaconda3/lib/python3.9/site-packages (from autoviz) (2.4.2)\n",
      "Requirement already satisfied: statsmodels in /Users/dms/opt/anaconda3/lib/python3.9/site-packages (from autoviz) (0.12.2)\n",
      "Requirement already satisfied: panel==0.12.6 in /Users/dms/opt/anaconda3/lib/python3.9/site-packages (from autoviz) (0.12.6)\n",
      "Requirement already satisfied: emoji in /Users/dms/opt/anaconda3/lib/python3.9/site-packages (from autoviz) (1.6.3)\n",
      "Requirement already satisfied: holoviews==1.14.6 in /Users/dms/opt/anaconda3/lib/python3.9/site-packages (from autoviz) (1.14.6)\n",
      "Requirement already satisfied: jupyter in /Users/dms/opt/anaconda3/lib/python3.9/site-packages (from autoviz) (1.0.0)\n",
      "Requirement already satisfied: pandas in /Users/dms/opt/anaconda3/lib/python3.9/site-packages (from autoviz) (1.3.4)\n",
      "Requirement already satisfied: xgboost in /Users/dms/opt/anaconda3/lib/python3.9/site-packages (from autoviz) (1.5.0)\n",
      "Requirement already satisfied: seaborn>=0.11.1 in /Users/dms/opt/anaconda3/lib/python3.9/site-packages (from autoviz) (0.11.2)\n",
      "Requirement already satisfied: scikit-learn in /Users/dms/opt/anaconda3/lib/python3.9/site-packages (from autoviz) (1.0.2)\n",
      "Requirement already satisfied: textblob in /Users/dms/opt/anaconda3/lib/python3.9/site-packages (from autoviz) (0.17.1)\n",
      "Requirement already satisfied: hvplot==0.7.3 in /Users/dms/opt/anaconda3/lib/python3.9/site-packages (from autoviz) (0.7.3)\n",
      "Requirement already satisfied: xlrd in /Users/dms/opt/anaconda3/lib/python3.9/site-packages (from autoviz) (2.0.1)\n",
      "Requirement already satisfied: packaging>=16.8 in /Users/dms/opt/anaconda3/lib/python3.9/site-packages (from bokeh==2.4.2->autoviz) (21.0)\n",
      "Requirement already satisfied: pillow>=7.1.0 in /Users/dms/opt/anaconda3/lib/python3.9/site-packages (from bokeh==2.4.2->autoviz) (8.4.0)\n",
      "Requirement already satisfied: PyYAML>=3.10 in /Users/dms/opt/anaconda3/lib/python3.9/site-packages (from bokeh==2.4.2->autoviz) (6.0)\n",
      "Requirement already satisfied: numpy>=1.11.3 in /Users/dms/opt/anaconda3/lib/python3.9/site-packages (from bokeh==2.4.2->autoviz) (1.20.3)\n",
      "Requirement already satisfied: tornado>=5.1 in /Users/dms/opt/anaconda3/lib/python3.9/site-packages (from bokeh==2.4.2->autoviz) (6.1)\n",
      "Requirement already satisfied: Jinja2>=2.9 in /Users/dms/opt/anaconda3/lib/python3.9/site-packages (from bokeh==2.4.2->autoviz) (2.11.3)\n",
      "Requirement already satisfied: typing-extensions>=3.10.0 in /Users/dms/opt/anaconda3/lib/python3.9/site-packages (from bokeh==2.4.2->autoviz) (3.10.0.2)\n",
      "Requirement already satisfied: pyviz-comms>=0.7.4 in /Users/dms/opt/anaconda3/lib/python3.9/site-packages (from holoviews==1.14.6->autoviz) (2.1.0)\n",
      "Requirement already satisfied: param<2.0,>=1.9.3 in /Users/dms/opt/anaconda3/lib/python3.9/site-packages (from holoviews==1.14.6->autoviz) (1.12.0)\n",
      "Requirement already satisfied: colorcet in /Users/dms/opt/anaconda3/lib/python3.9/site-packages (from holoviews==1.14.6->autoviz) (3.0.0)\n",
      "Requirement already satisfied: tqdm>=4.48.0 in /Users/dms/opt/anaconda3/lib/python3.9/site-packages (from panel==0.12.6->autoviz) (4.62.3)\n",
      "Requirement already satisfied: pyct>=0.4.4 in /Users/dms/opt/anaconda3/lib/python3.9/site-packages (from panel==0.12.6->autoviz) (0.4.8)\n",
      "Requirement already satisfied: markdown in /Users/dms/opt/anaconda3/lib/python3.9/site-packages (from panel==0.12.6->autoviz) (3.3.6)\n",
      "Requirement already satisfied: bleach in /Users/dms/opt/anaconda3/lib/python3.9/site-packages (from panel==0.12.6->autoviz) (4.0.0)\n",
      "Requirement already satisfied: requests in /Users/dms/opt/anaconda3/lib/python3.9/site-packages (from panel==0.12.6->autoviz) (2.26.0)\n",
      "Requirement already satisfied: MarkupSafe>=0.23 in /Users/dms/opt/anaconda3/lib/python3.9/site-packages (from Jinja2>=2.9->bokeh==2.4.2->autoviz) (1.1.1)\n",
      "Requirement already satisfied: python-dateutil>=2.7 in /Users/dms/opt/anaconda3/lib/python3.9/site-packages (from matplotlib>=3.3.3->autoviz) (2.8.2)\n",
      "Requirement already satisfied: cycler>=0.10 in /Users/dms/opt/anaconda3/lib/python3.9/site-packages (from matplotlib>=3.3.3->autoviz) (0.10.0)\n",
      "Requirement already satisfied: pyparsing>=2.2.1 in /Users/dms/opt/anaconda3/lib/python3.9/site-packages (from matplotlib>=3.3.3->autoviz) (3.0.4)\n",
      "Requirement already satisfied: kiwisolver>=1.0.1 in /Users/dms/opt/anaconda3/lib/python3.9/site-packages (from matplotlib>=3.3.3->autoviz) (1.3.1)\n",
      "Requirement already satisfied: six in /Users/dms/opt/anaconda3/lib/python3.9/site-packages (from cycler>=0.10->matplotlib>=3.3.3->autoviz) (1.16.0)\n",
      "Requirement already satisfied: pytz>=2017.3 in /Users/dms/opt/anaconda3/lib/python3.9/site-packages (from pandas->autoviz) (2021.3)\n",
      "Requirement already satisfied: scipy>=1.0 in /Users/dms/opt/anaconda3/lib/python3.9/site-packages (from seaborn>=0.11.1->autoviz) (1.7.1)\n",
      "Requirement already satisfied: webencodings in /Users/dms/opt/anaconda3/lib/python3.9/site-packages (from bleach->panel==0.12.6->autoviz) (0.5.1)\n",
      "Requirement already satisfied: prompt-toolkit!=3.0.0,!=3.0.1,<3.1.0,>=2.0.0 in /Users/dms/opt/anaconda3/lib/python3.9/site-packages (from ipython->autoviz) (3.0.20)\n",
      "Requirement already satisfied: decorator in /Users/dms/opt/anaconda3/lib/python3.9/site-packages (from ipython->autoviz) (5.1.0)\n",
      "Requirement already satisfied: jedi>=0.16 in /Users/dms/opt/anaconda3/lib/python3.9/site-packages (from ipython->autoviz) (0.18.0)\n",
      "Requirement already satisfied: appnope in /Users/dms/opt/anaconda3/lib/python3.9/site-packages (from ipython->autoviz) (0.1.2)\n",
      "Requirement already satisfied: matplotlib-inline in /Users/dms/opt/anaconda3/lib/python3.9/site-packages (from ipython->autoviz) (0.1.2)\n",
      "Requirement already satisfied: setuptools>=18.5 in /Users/dms/opt/anaconda3/lib/python3.9/site-packages (from ipython->autoviz) (58.0.4)\n",
      "Requirement already satisfied: pickleshare in /Users/dms/opt/anaconda3/lib/python3.9/site-packages (from ipython->autoviz) (0.7.5)\n",
      "Requirement already satisfied: traitlets>=4.2 in /Users/dms/opt/anaconda3/lib/python3.9/site-packages (from ipython->autoviz) (5.1.0)\n",
      "Requirement already satisfied: backcall in /Users/dms/opt/anaconda3/lib/python3.9/site-packages (from ipython->autoviz) (0.2.0)\n",
      "Requirement already satisfied: pygments in /Users/dms/opt/anaconda3/lib/python3.9/site-packages (from ipython->autoviz) (2.10.0)\n",
      "Requirement already satisfied: pexpect>4.3 in /Users/dms/opt/anaconda3/lib/python3.9/site-packages (from ipython->autoviz) (4.8.0)\n",
      "Requirement already satisfied: parso<0.9.0,>=0.8.0 in /Users/dms/opt/anaconda3/lib/python3.9/site-packages (from jedi>=0.16->ipython->autoviz) (0.8.2)\n",
      "Requirement already satisfied: ptyprocess>=0.5 in /Users/dms/opt/anaconda3/lib/python3.9/site-packages (from pexpect>4.3->ipython->autoviz) (0.7.0)\n",
      "Requirement already satisfied: wcwidth in /Users/dms/opt/anaconda3/lib/python3.9/site-packages (from prompt-toolkit!=3.0.0,!=3.0.1,<3.1.0,>=2.0.0->ipython->autoviz) (0.2.5)\n",
      "Requirement already satisfied: jupyter-console in /Users/dms/opt/anaconda3/lib/python3.9/site-packages (from jupyter->autoviz) (6.4.0)\n",
      "Requirement already satisfied: ipykernel in /Users/dms/opt/anaconda3/lib/python3.9/site-packages (from jupyter->autoviz) (6.4.1)\n",
      "Requirement already satisfied: ipywidgets in /Users/dms/opt/anaconda3/lib/python3.9/site-packages (from jupyter->autoviz) (7.6.5)\n",
      "Requirement already satisfied: qtconsole in /Users/dms/opt/anaconda3/lib/python3.9/site-packages (from jupyter->autoviz) (5.1.1)\n",
      "Requirement already satisfied: notebook in /Users/dms/opt/anaconda3/lib/python3.9/site-packages (from jupyter->autoviz) (6.4.5)\n",
      "Requirement already satisfied: nbconvert in /Users/dms/opt/anaconda3/lib/python3.9/site-packages (from jupyter->autoviz) (6.1.0)\n",
      "Requirement already satisfied: jupyter-client<8.0 in /Users/dms/opt/anaconda3/lib/python3.9/site-packages (from ipykernel->jupyter->autoviz) (6.1.12)\n",
      "Requirement already satisfied: debugpy<2.0,>=1.0.0 in /Users/dms/opt/anaconda3/lib/python3.9/site-packages (from ipykernel->jupyter->autoviz) (1.4.1)\n"
     ]
    },
    {
     "name": "stdout",
     "output_type": "stream",
     "text": [
      "Requirement already satisfied: ipython-genutils in /Users/dms/opt/anaconda3/lib/python3.9/site-packages (from ipykernel->jupyter->autoviz) (0.2.0)\n",
      "Requirement already satisfied: pyzmq>=13 in /Users/dms/opt/anaconda3/lib/python3.9/site-packages (from jupyter-client<8.0->ipykernel->jupyter->autoviz) (22.2.1)\n",
      "Requirement already satisfied: jupyter-core>=4.6.0 in /Users/dms/opt/anaconda3/lib/python3.9/site-packages (from jupyter-client<8.0->ipykernel->jupyter->autoviz) (4.8.1)\n",
      "Requirement already satisfied: nbformat>=4.2.0 in /Users/dms/opt/anaconda3/lib/python3.9/site-packages (from ipywidgets->jupyter->autoviz) (5.1.3)\n",
      "Requirement already satisfied: jupyterlab-widgets>=1.0.0 in /Users/dms/opt/anaconda3/lib/python3.9/site-packages (from ipywidgets->jupyter->autoviz) (1.0.0)\n",
      "Requirement already satisfied: widgetsnbextension~=3.5.0 in /Users/dms/opt/anaconda3/lib/python3.9/site-packages (from ipywidgets->jupyter->autoviz) (3.5.1)\n",
      "Requirement already satisfied: jsonschema!=2.5.0,>=2.4 in /Users/dms/opt/anaconda3/lib/python3.9/site-packages (from nbformat>=4.2.0->ipywidgets->jupyter->autoviz) (3.2.0)\n",
      "Requirement already satisfied: pyrsistent>=0.14.0 in /Users/dms/opt/anaconda3/lib/python3.9/site-packages (from jsonschema!=2.5.0,>=2.4->nbformat>=4.2.0->ipywidgets->jupyter->autoviz) (0.18.0)\n",
      "Requirement already satisfied: attrs>=17.4.0 in /Users/dms/opt/anaconda3/lib/python3.9/site-packages (from jsonschema!=2.5.0,>=2.4->nbformat>=4.2.0->ipywidgets->jupyter->autoviz) (21.2.0)\n",
      "Requirement already satisfied: terminado>=0.8.3 in /Users/dms/opt/anaconda3/lib/python3.9/site-packages (from notebook->jupyter->autoviz) (0.9.4)\n",
      "Requirement already satisfied: Send2Trash>=1.5.0 in /Users/dms/opt/anaconda3/lib/python3.9/site-packages (from notebook->jupyter->autoviz) (1.8.0)\n",
      "Requirement already satisfied: argon2-cffi in /Users/dms/opt/anaconda3/lib/python3.9/site-packages (from notebook->jupyter->autoviz) (20.1.0)\n",
      "Requirement already satisfied: prometheus-client in /Users/dms/opt/anaconda3/lib/python3.9/site-packages (from notebook->jupyter->autoviz) (0.11.0)\n",
      "Requirement already satisfied: cffi>=1.0.0 in /Users/dms/opt/anaconda3/lib/python3.9/site-packages (from argon2-cffi->notebook->jupyter->autoviz) (1.14.6)\n",
      "Requirement already satisfied: pycparser in /Users/dms/opt/anaconda3/lib/python3.9/site-packages (from cffi>=1.0.0->argon2-cffi->notebook->jupyter->autoviz) (2.20)\n",
      "Requirement already satisfied: importlib-metadata>=4.4 in /Users/dms/opt/anaconda3/lib/python3.9/site-packages (from markdown->panel==0.12.6->autoviz) (4.8.1)\n",
      "Requirement already satisfied: zipp>=0.5 in /Users/dms/opt/anaconda3/lib/python3.9/site-packages (from importlib-metadata>=4.4->markdown->panel==0.12.6->autoviz) (3.6.0)\n",
      "Requirement already satisfied: testpath in /Users/dms/opt/anaconda3/lib/python3.9/site-packages (from nbconvert->jupyter->autoviz) (0.5.0)\n",
      "Requirement already satisfied: jupyterlab-pygments in /Users/dms/opt/anaconda3/lib/python3.9/site-packages (from nbconvert->jupyter->autoviz) (0.1.2)\n",
      "Requirement already satisfied: mistune<2,>=0.8.1 in /Users/dms/opt/anaconda3/lib/python3.9/site-packages (from nbconvert->jupyter->autoviz) (0.8.4)\n",
      "Requirement already satisfied: pandocfilters>=1.4.1 in /Users/dms/opt/anaconda3/lib/python3.9/site-packages (from nbconvert->jupyter->autoviz) (1.4.3)\n",
      "Requirement already satisfied: nbclient<0.6.0,>=0.5.0 in /Users/dms/opt/anaconda3/lib/python3.9/site-packages (from nbconvert->jupyter->autoviz) (0.5.3)\n",
      "Requirement already satisfied: entrypoints>=0.2.2 in /Users/dms/opt/anaconda3/lib/python3.9/site-packages (from nbconvert->jupyter->autoviz) (0.3)\n",
      "Requirement already satisfied: defusedxml in /Users/dms/opt/anaconda3/lib/python3.9/site-packages (from nbconvert->jupyter->autoviz) (0.7.1)\n",
      "Requirement already satisfied: async-generator in /Users/dms/opt/anaconda3/lib/python3.9/site-packages (from nbclient<0.6.0,>=0.5.0->nbconvert->jupyter->autoviz) (1.10)\n",
      "Requirement already satisfied: nest-asyncio in /Users/dms/opt/anaconda3/lib/python3.9/site-packages (from nbclient<0.6.0,>=0.5.0->nbconvert->jupyter->autoviz) (1.5.1)\n",
      "Requirement already satisfied: click in /Users/dms/opt/anaconda3/lib/python3.9/site-packages (from nltk->autoviz) (8.0.3)\n",
      "Requirement already satisfied: joblib in /Users/dms/opt/anaconda3/lib/python3.9/site-packages (from nltk->autoviz) (1.1.0)\n",
      "Requirement already satisfied: regex>=2021.8.3 in /Users/dms/opt/anaconda3/lib/python3.9/site-packages (from nltk->autoviz) (2021.8.3)\n",
      "Requirement already satisfied: qtpy in /Users/dms/opt/anaconda3/lib/python3.9/site-packages (from qtconsole->jupyter->autoviz) (1.10.0)\n",
      "Requirement already satisfied: urllib3<1.27,>=1.21.1 in /Users/dms/opt/anaconda3/lib/python3.9/site-packages (from requests->panel==0.12.6->autoviz) (1.26.7)\n",
      "Requirement already satisfied: idna<4,>=2.5 in /Users/dms/opt/anaconda3/lib/python3.9/site-packages (from requests->panel==0.12.6->autoviz) (3.2)\n",
      "Requirement already satisfied: certifi>=2017.4.17 in /Users/dms/opt/anaconda3/lib/python3.9/site-packages (from requests->panel==0.12.6->autoviz) (2021.10.8)\n",
      "Requirement already satisfied: charset-normalizer~=2.0.0 in /Users/dms/opt/anaconda3/lib/python3.9/site-packages (from requests->panel==0.12.6->autoviz) (2.0.4)\n",
      "Requirement already satisfied: threadpoolctl>=2.0.0 in /Users/dms/opt/anaconda3/lib/python3.9/site-packages (from scikit-learn->autoviz) (2.2.0)\n",
      "Requirement already satisfied: patsy>=0.5 in /Users/dms/opt/anaconda3/lib/python3.9/site-packages (from statsmodels->autoviz) (0.5.2)\n",
      "Installing collected packages: fsspec\n",
      "  Attempting uninstall: fsspec\n",
      "    Found existing installation: fsspec 2022.1.0\n",
      "    Uninstalling fsspec-2022.1.0:\n",
      "      Successfully uninstalled fsspec-2022.1.0\n",
      "Successfully installed fsspec-0.8.3\n"
     ]
    }
   ],
   "source": [
    "!pip install autoviz"
   ]
  },
  {
   "cell_type": "code",
   "execution_count": 9,
   "metadata": {},
   "outputs": [],
   "source": [
    "from autoviz.AutoViz_Class import AutoViz_Class\n",
    "%matplotlib inline\n",
    "\n",
    "AV = AutoViz_Class()"
   ]
  },
  {
   "cell_type": "code",
   "execution_count": 10,
   "metadata": {
    "collapsed": true
   },
   "outputs": [
    {
     "name": "stdout",
     "output_type": "stream",
     "text": [
      "Shape of your Data Set loaded: (614, 13)\n",
      "############## C L A S S I F Y I N G  V A R I A B L E S  ####################\n",
      "Classifying variables in data set...\n",
      "    13 Predictors classified...\n",
      "        1 variables removed since they were ID or low-information variables\n",
      "Number of All Scatter Plots = 6\n"
     ]
    },
    {
     "data": {
      "image/png": "[encoded data removed]",
      "text/plain": [
       "<Figure size 1080x576 with 3 Axes>"
      ]
     },
     "metadata": {
      "needs_background": "light"
     },
     "output_type": "display_data"
    },
    {
     "name": "stdout",
     "output_type": "stream",
     "text": [
      "Could not draw Distribution Plot\n"
     ]
    },
    {
     "data": {
      "image/png": "[encoded data removed]",
      "text/plain": [
       "<Figure size 1080x1080 with 9 Axes>"
      ]
     },
     "metadata": {
      "needs_background": "light"
     },
     "output_type": "display_data"
    },
    {
     "data": {
      "image/png": "[encoded data removed]",
      "text/plain": [
       "<Figure size 1080x1800 with 1 Axes>"
      ]
     },
     "metadata": {
      "needs_background": "light"
     },
     "output_type": "display_data"
    },
    {
     "data": {
      "image/png": "[encoded data removed]",
      "text/plain": [
       "<Figure size 1080x288 with 1 Axes>"
      ]
     },
     "metadata": {
      "needs_background": "light"
     },
     "output_type": "display_data"
    },
    {
     "data": {
      "image/png": "[encoded data removed]",
      "text/plain": [
       "<Figure size 1080x720 with 2 Axes>"
      ]
     },
     "metadata": {
      "needs_background": "light"
     },
     "output_type": "display_data"
    },
    {
     "data": {
      "image/png": "[encoded data removed]",
      "text/plain": [
       "<Figure size 1440x4320 with 24 Axes>"
      ]
     },
     "metadata": {
      "needs_background": "light"
     },
     "output_type": "display_data"
    },
    {
     "name": "stdout",
     "output_type": "stream",
     "text": [
      "Time to run AutoViz = 11 seconds \n",
      "\n",
      " ###################### AUTO VISUALIZATION Completed ########################\n"
     ]
    }
   ],
   "source": [
    "filename = \"\"\n",
    "sep = \",\"\n",
    "dft = AV.AutoViz(\n",
    "    filename,\n",
    "    sep=\",\",\n",
    "    depVar=\"\",\n",
    "    dfte=data,\n",
    "    header=0,\n",
    "    verbose=0,\n",
    "    lowess=False,\n",
    "    chart_format=\"svg\",\n",
    "    max_rows_analyzed=150000,\n",
    "    max_cols_analyzed=30,\n",
    "    save_plot_dir=None\n",
    ")"
   ]
  },
  {
   "cell_type": "code",
   "execution_count": null,
   "metadata": {},
   "outputs": [],
   "source": [
    "# Task:-Prepare an EDA report on above data."
   ]
  },
  {
   "cell_type": "markdown",
   "metadata": {
    "id": "oGvYld_4tV5X"
   },
   "source": [
    "## Data Preprocessing Pipeline"
   ]
  },
  {
   "cell_type": "code",
   "execution_count": 11,
   "metadata": {
    "collapsed": true,
    "id": "dwYo-Oc0tV5a"
   },
   "outputs": [
    {
     "data": {
      "text/plain": [
       "Loan_ID                    0\n",
       "Gender                    13\n",
       "Married                    3\n",
       "Dependents                15\n",
       "Education                  0\n",
       "Self_Employed             32\n",
       "ApplicantIncome            0\n",
       "CoapplicantIncome          0\n",
       "LoanAmount                22\n",
       "Loan_Amount_Term          14\n",
       "Credit_History            50\n",
       "Property_Area              0\n",
       "Loan_Status (Approved)     0\n",
       "dtype: int64"
      ]
     },
     "execution_count": 11,
     "metadata": {},
     "output_type": "execute_result"
    }
   ],
   "source": [
    "## Checking missing values\n",
    "\n",
    "data.isnull().sum()"
   ]
  },
  {
   "cell_type": "code",
   "execution_count": null,
   "metadata": {
    "id": "d55o3UkktV5c"
   },
   "outputs": [],
   "source": [
    "data.shape"
   ]
  },
  {
   "cell_type": "code",
   "execution_count": 12,
   "metadata": {
    "collapsed": true,
    "id": "ceoT8kmatV5e"
   },
   "outputs": [
    {
     "data": {
      "text/html": [
       "<div>\n",
       "<style scoped>\n",
       "    .dataframe tbody tr th:only-of-type {\n",
       "        vertical-align: middle;\n",
       "    }\n",
       "\n",
       "    .dataframe tbody tr th {\n",
       "        vertical-align: top;\n",
       "    }\n",
       "\n",
       "    .dataframe thead th {\n",
       "        text-align: right;\n",
       "    }\n",
       "</style>\n",
       "<table border=\"1\" class=\"dataframe\">\n",
       "  <thead>\n",
       "    <tr style=\"text-align: right;\">\n",
       "      <th></th>\n",
       "      <th>Loan_ID</th>\n",
       "      <th>Gender</th>\n",
       "      <th>Married</th>\n",
       "      <th>Dependents</th>\n",
       "      <th>Education</th>\n",
       "      <th>Self_Employed</th>\n",
       "      <th>ApplicantIncome</th>\n",
       "      <th>CoapplicantIncome</th>\n",
       "      <th>LoanAmount</th>\n",
       "      <th>Loan_Amount_Term</th>\n",
       "      <th>Credit_History</th>\n",
       "      <th>Property_Area</th>\n",
       "      <th>Loan_Status (Approved)</th>\n",
       "    </tr>\n",
       "  </thead>\n",
       "  <tbody>\n",
       "    <tr>\n",
       "      <th>23</th>\n",
       "      <td>LP001050</td>\n",
       "      <td>NaN</td>\n",
       "      <td>Yes</td>\n",
       "      <td>2</td>\n",
       "      <td>Not Graduate</td>\n",
       "      <td>No</td>\n",
       "      <td>3365</td>\n",
       "      <td>1917.0</td>\n",
       "      <td>112.0</td>\n",
       "      <td>360.0</td>\n",
       "      <td>0.0</td>\n",
       "      <td>Rural</td>\n",
       "      <td>N</td>\n",
       "    </tr>\n",
       "    <tr>\n",
       "      <th>126</th>\n",
       "      <td>LP001448</td>\n",
       "      <td>NaN</td>\n",
       "      <td>Yes</td>\n",
       "      <td>3+</td>\n",
       "      <td>Graduate</td>\n",
       "      <td>No</td>\n",
       "      <td>23803</td>\n",
       "      <td>0.0</td>\n",
       "      <td>370.0</td>\n",
       "      <td>360.0</td>\n",
       "      <td>1.0</td>\n",
       "      <td>Rural</td>\n",
       "      <td>Y</td>\n",
       "    </tr>\n",
       "    <tr>\n",
       "      <th>171</th>\n",
       "      <td>LP001585</td>\n",
       "      <td>NaN</td>\n",
       "      <td>Yes</td>\n",
       "      <td>3+</td>\n",
       "      <td>Graduate</td>\n",
       "      <td>No</td>\n",
       "      <td>51763</td>\n",
       "      <td>0.0</td>\n",
       "      <td>700.0</td>\n",
       "      <td>300.0</td>\n",
       "      <td>1.0</td>\n",
       "      <td>Urban</td>\n",
       "      <td>Y</td>\n",
       "    </tr>\n",
       "    <tr>\n",
       "      <th>188</th>\n",
       "      <td>LP001644</td>\n",
       "      <td>NaN</td>\n",
       "      <td>Yes</td>\n",
       "      <td>0</td>\n",
       "      <td>Graduate</td>\n",
       "      <td>Yes</td>\n",
       "      <td>674</td>\n",
       "      <td>5296.0</td>\n",
       "      <td>168.0</td>\n",
       "      <td>360.0</td>\n",
       "      <td>1.0</td>\n",
       "      <td>Rural</td>\n",
       "      <td>Y</td>\n",
       "    </tr>\n",
       "    <tr>\n",
       "      <th>314</th>\n",
       "      <td>LP002024</td>\n",
       "      <td>NaN</td>\n",
       "      <td>Yes</td>\n",
       "      <td>0</td>\n",
       "      <td>Graduate</td>\n",
       "      <td>No</td>\n",
       "      <td>2473</td>\n",
       "      <td>1843.0</td>\n",
       "      <td>159.0</td>\n",
       "      <td>360.0</td>\n",
       "      <td>1.0</td>\n",
       "      <td>Rural</td>\n",
       "      <td>N</td>\n",
       "    </tr>\n",
       "    <tr>\n",
       "      <th>334</th>\n",
       "      <td>LP002103</td>\n",
       "      <td>NaN</td>\n",
       "      <td>Yes</td>\n",
       "      <td>1</td>\n",
       "      <td>Graduate</td>\n",
       "      <td>Yes</td>\n",
       "      <td>9833</td>\n",
       "      <td>1833.0</td>\n",
       "      <td>182.0</td>\n",
       "      <td>180.0</td>\n",
       "      <td>1.0</td>\n",
       "      <td>Urban</td>\n",
       "      <td>Y</td>\n",
       "    </tr>\n",
       "    <tr>\n",
       "      <th>460</th>\n",
       "      <td>LP002478</td>\n",
       "      <td>NaN</td>\n",
       "      <td>Yes</td>\n",
       "      <td>0</td>\n",
       "      <td>Graduate</td>\n",
       "      <td>Yes</td>\n",
       "      <td>2083</td>\n",
       "      <td>4083.0</td>\n",
       "      <td>160.0</td>\n",
       "      <td>360.0</td>\n",
       "      <td>NaN</td>\n",
       "      <td>Semiurban</td>\n",
       "      <td>Y</td>\n",
       "    </tr>\n",
       "    <tr>\n",
       "      <th>467</th>\n",
       "      <td>LP002501</td>\n",
       "      <td>NaN</td>\n",
       "      <td>Yes</td>\n",
       "      <td>0</td>\n",
       "      <td>Graduate</td>\n",
       "      <td>No</td>\n",
       "      <td>16692</td>\n",
       "      <td>0.0</td>\n",
       "      <td>110.0</td>\n",
       "      <td>360.0</td>\n",
       "      <td>1.0</td>\n",
       "      <td>Semiurban</td>\n",
       "      <td>Y</td>\n",
       "    </tr>\n",
       "    <tr>\n",
       "      <th>477</th>\n",
       "      <td>LP002530</td>\n",
       "      <td>NaN</td>\n",
       "      <td>Yes</td>\n",
       "      <td>2</td>\n",
       "      <td>Graduate</td>\n",
       "      <td>No</td>\n",
       "      <td>2873</td>\n",
       "      <td>1872.0</td>\n",
       "      <td>132.0</td>\n",
       "      <td>360.0</td>\n",
       "      <td>0.0</td>\n",
       "      <td>Semiurban</td>\n",
       "      <td>N</td>\n",
       "    </tr>\n",
       "    <tr>\n",
       "      <th>507</th>\n",
       "      <td>LP002625</td>\n",
       "      <td>NaN</td>\n",
       "      <td>No</td>\n",
       "      <td>0</td>\n",
       "      <td>Graduate</td>\n",
       "      <td>No</td>\n",
       "      <td>3583</td>\n",
       "      <td>0.0</td>\n",
       "      <td>96.0</td>\n",
       "      <td>360.0</td>\n",
       "      <td>1.0</td>\n",
       "      <td>Urban</td>\n",
       "      <td>N</td>\n",
       "    </tr>\n",
       "    <tr>\n",
       "      <th>576</th>\n",
       "      <td>LP002872</td>\n",
       "      <td>NaN</td>\n",
       "      <td>Yes</td>\n",
       "      <td>0</td>\n",
       "      <td>Graduate</td>\n",
       "      <td>No</td>\n",
       "      <td>3087</td>\n",
       "      <td>2210.0</td>\n",
       "      <td>136.0</td>\n",
       "      <td>360.0</td>\n",
       "      <td>0.0</td>\n",
       "      <td>Semiurban</td>\n",
       "      <td>N</td>\n",
       "    </tr>\n",
       "    <tr>\n",
       "      <th>588</th>\n",
       "      <td>LP002925</td>\n",
       "      <td>NaN</td>\n",
       "      <td>No</td>\n",
       "      <td>0</td>\n",
       "      <td>Graduate</td>\n",
       "      <td>No</td>\n",
       "      <td>4750</td>\n",
       "      <td>0.0</td>\n",
       "      <td>94.0</td>\n",
       "      <td>360.0</td>\n",
       "      <td>1.0</td>\n",
       "      <td>Semiurban</td>\n",
       "      <td>Y</td>\n",
       "    </tr>\n",
       "    <tr>\n",
       "      <th>592</th>\n",
       "      <td>LP002933</td>\n",
       "      <td>NaN</td>\n",
       "      <td>No</td>\n",
       "      <td>3+</td>\n",
       "      <td>Graduate</td>\n",
       "      <td>Yes</td>\n",
       "      <td>9357</td>\n",
       "      <td>0.0</td>\n",
       "      <td>292.0</td>\n",
       "      <td>360.0</td>\n",
       "      <td>1.0</td>\n",
       "      <td>Semiurban</td>\n",
       "      <td>Y</td>\n",
       "    </tr>\n",
       "  </tbody>\n",
       "</table>\n",
       "</div>"
      ],
      "text/plain": [
       "      Loan_ID Gender Married Dependents     Education Self_Employed  \\\n",
       "23   LP001050    NaN     Yes          2  Not Graduate            No   \n",
       "126  LP001448    NaN     Yes         3+      Graduate            No   \n",
       "171  LP001585    NaN     Yes         3+      Graduate            No   \n",
       "188  LP001644    NaN     Yes          0      Graduate           Yes   \n",
       "314  LP002024    NaN     Yes          0      Graduate            No   \n",
       "334  LP002103    NaN     Yes          1      Graduate           Yes   \n",
       "460  LP002478    NaN     Yes          0      Graduate           Yes   \n",
       "467  LP002501    NaN     Yes          0      Graduate            No   \n",
       "477  LP002530    NaN     Yes          2      Graduate            No   \n",
       "507  LP002625    NaN      No          0      Graduate            No   \n",
       "576  LP002872    NaN     Yes          0      Graduate            No   \n",
       "588  LP002925    NaN      No          0      Graduate            No   \n",
       "592  LP002933    NaN      No         3+      Graduate           Yes   \n",
       "\n",
       "     ApplicantIncome  CoapplicantIncome  LoanAmount  Loan_Amount_Term  \\\n",
       "23              3365             1917.0       112.0             360.0   \n",
       "126            23803                0.0       370.0             360.0   \n",
       "171            51763                0.0       700.0             300.0   \n",
       "188              674             5296.0       168.0             360.0   \n",
       "314             2473             1843.0       159.0             360.0   \n",
       "334             9833             1833.0       182.0             180.0   \n",
       "460             2083             4083.0       160.0             360.0   \n",
       "467            16692                0.0       110.0             360.0   \n",
       "477             2873             1872.0       132.0             360.0   \n",
       "507             3583                0.0        96.0             360.0   \n",
       "576             3087             2210.0       136.0             360.0   \n",
       "588             4750                0.0        94.0             360.0   \n",
       "592             9357                0.0       292.0             360.0   \n",
       "\n",
       "     Credit_History Property_Area Loan_Status (Approved)  \n",
       "23              0.0         Rural                      N  \n",
       "126             1.0         Rural                      Y  \n",
       "171             1.0         Urban                      Y  \n",
       "188             1.0         Rural                      Y  \n",
       "314             1.0         Rural                      N  \n",
       "334             1.0         Urban                      Y  \n",
       "460             NaN     Semiurban                      Y  \n",
       "467             1.0     Semiurban                      Y  \n",
       "477             0.0     Semiurban                      N  \n",
       "507             1.0         Urban                      N  \n",
       "576             0.0     Semiurban                      N  \n",
       "588             1.0     Semiurban                      Y  \n",
       "592             1.0     Semiurban                      Y  "
      ]
     },
     "execution_count": 12,
     "metadata": {},
     "output_type": "execute_result"
    }
   ],
   "source": [
    "## Getting the rows where values are missed in Gender features\n",
    "data.loc[data['Gender'].isnull()==True]"
   ]
  },
  {
   "cell_type": "code",
   "execution_count": 13,
   "metadata": {
    "id": "sEd_ritGtV5f"
   },
   "outputs": [
    {
     "data": {
      "text/plain": [
       "Male      489\n",
       "Female    112\n",
       "Name: Gender, dtype: int64"
      ]
     },
     "execution_count": 13,
     "metadata": {},
     "output_type": "execute_result"
    }
   ],
   "source": [
    "## Checking the distribution along the both labels\n",
    "data.Gender.value_counts()"
   ]
  },
  {
   "cell_type": "code",
   "execution_count": 14,
   "metadata": {
    "id": "alXHqtzktV5j"
   },
   "outputs": [
    {
     "data": {
      "text/plain": [
       "2.1172638436482085"
      ]
     },
     "execution_count": 14,
     "metadata": {},
     "output_type": "execute_result"
    }
   ],
   "source": [
    "## How much values have been missed\n",
    "data.Gender.isnull().sum()/len(data)*100"
   ]
  },
  {
   "cell_type": "code",
   "execution_count": 15,
   "metadata": {
    "collapsed": true
   },
   "outputs": [
    {
     "data": {
      "text/html": [
       "<div>\n",
       "<style scoped>\n",
       "    .dataframe tbody tr th:only-of-type {\n",
       "        vertical-align: middle;\n",
       "    }\n",
       "\n",
       "    .dataframe tbody tr th {\n",
       "        vertical-align: top;\n",
       "    }\n",
       "\n",
       "    .dataframe thead th {\n",
       "        text-align: right;\n",
       "    }\n",
       "</style>\n",
       "<table border=\"1\" class=\"dataframe\">\n",
       "  <thead>\n",
       "    <tr style=\"text-align: right;\">\n",
       "      <th></th>\n",
       "      <th>Loan_ID</th>\n",
       "      <th>Gender</th>\n",
       "      <th>Married</th>\n",
       "      <th>Dependents</th>\n",
       "      <th>Education</th>\n",
       "      <th>Self_Employed</th>\n",
       "      <th>ApplicantIncome</th>\n",
       "      <th>CoapplicantIncome</th>\n",
       "      <th>LoanAmount</th>\n",
       "      <th>Loan_Amount_Term</th>\n",
       "      <th>Credit_History</th>\n",
       "      <th>Property_Area</th>\n",
       "      <th>Loan_Status (Approved)</th>\n",
       "    </tr>\n",
       "  </thead>\n",
       "  <tbody>\n",
       "    <tr>\n",
       "      <th>0</th>\n",
       "      <td>LP001002</td>\n",
       "      <td>Male</td>\n",
       "      <td>No</td>\n",
       "      <td>0</td>\n",
       "      <td>Graduate</td>\n",
       "      <td>No</td>\n",
       "      <td>5849</td>\n",
       "      <td>0.0</td>\n",
       "      <td>NaN</td>\n",
       "      <td>360.0</td>\n",
       "      <td>1.0</td>\n",
       "      <td>Urban</td>\n",
       "      <td>Y</td>\n",
       "    </tr>\n",
       "    <tr>\n",
       "      <th>1</th>\n",
       "      <td>LP001003</td>\n",
       "      <td>Male</td>\n",
       "      <td>Yes</td>\n",
       "      <td>1</td>\n",
       "      <td>Graduate</td>\n",
       "      <td>No</td>\n",
       "      <td>4583</td>\n",
       "      <td>1508.0</td>\n",
       "      <td>128.0</td>\n",
       "      <td>360.0</td>\n",
       "      <td>1.0</td>\n",
       "      <td>Rural</td>\n",
       "      <td>N</td>\n",
       "    </tr>\n",
       "    <tr>\n",
       "      <th>2</th>\n",
       "      <td>LP001005</td>\n",
       "      <td>Male</td>\n",
       "      <td>Yes</td>\n",
       "      <td>0</td>\n",
       "      <td>Graduate</td>\n",
       "      <td>Yes</td>\n",
       "      <td>3000</td>\n",
       "      <td>0.0</td>\n",
       "      <td>66.0</td>\n",
       "      <td>360.0</td>\n",
       "      <td>1.0</td>\n",
       "      <td>Urban</td>\n",
       "      <td>Y</td>\n",
       "    </tr>\n",
       "    <tr>\n",
       "      <th>3</th>\n",
       "      <td>LP001006</td>\n",
       "      <td>Male</td>\n",
       "      <td>Yes</td>\n",
       "      <td>0</td>\n",
       "      <td>Not Graduate</td>\n",
       "      <td>No</td>\n",
       "      <td>2583</td>\n",
       "      <td>2358.0</td>\n",
       "      <td>120.0</td>\n",
       "      <td>360.0</td>\n",
       "      <td>1.0</td>\n",
       "      <td>Urban</td>\n",
       "      <td>Y</td>\n",
       "    </tr>\n",
       "    <tr>\n",
       "      <th>4</th>\n",
       "      <td>LP001008</td>\n",
       "      <td>Male</td>\n",
       "      <td>No</td>\n",
       "      <td>0</td>\n",
       "      <td>Graduate</td>\n",
       "      <td>No</td>\n",
       "      <td>6000</td>\n",
       "      <td>0.0</td>\n",
       "      <td>141.0</td>\n",
       "      <td>360.0</td>\n",
       "      <td>1.0</td>\n",
       "      <td>Urban</td>\n",
       "      <td>Y</td>\n",
       "    </tr>\n",
       "  </tbody>\n",
       "</table>\n",
       "</div>"
      ],
      "text/plain": [
       "    Loan_ID Gender Married Dependents     Education Self_Employed  \\\n",
       "0  LP001002   Male      No          0      Graduate            No   \n",
       "1  LP001003   Male     Yes          1      Graduate            No   \n",
       "2  LP001005   Male     Yes          0      Graduate           Yes   \n",
       "3  LP001006   Male     Yes          0  Not Graduate            No   \n",
       "4  LP001008   Male      No          0      Graduate            No   \n",
       "\n",
       "   ApplicantIncome  CoapplicantIncome  LoanAmount  Loan_Amount_Term  \\\n",
       "0             5849                0.0         NaN             360.0   \n",
       "1             4583             1508.0       128.0             360.0   \n",
       "2             3000                0.0        66.0             360.0   \n",
       "3             2583             2358.0       120.0             360.0   \n",
       "4             6000                0.0       141.0             360.0   \n",
       "\n",
       "   Credit_History Property_Area Loan_Status (Approved)  \n",
       "0             1.0         Urban                      Y  \n",
       "1             1.0         Rural                      N  \n",
       "2             1.0         Urban                      Y  \n",
       "3             1.0         Urban                      Y  \n",
       "4             1.0         Urban                      Y  "
      ]
     },
     "execution_count": 15,
     "metadata": {},
     "output_type": "execute_result"
    }
   ],
   "source": [
    "data.head()"
   ]
  },
  {
   "cell_type": "code",
   "execution_count": 17,
   "metadata": {
    "collapsed": true
   },
   "outputs": [
    {
     "data": {
      "text/plain": [
       "<AxesSubplot:xlabel='Gender', ylabel='count'>"
      ]
     },
     "execution_count": 17,
     "metadata": {},
     "output_type": "execute_result"
    },
    {
     "data": {
      "image/png": "[encoded data removed]",
      "text/plain": [
       "<Figure size 432x288 with 1 Axes>"
      ]
     },
     "metadata": {
      "needs_background": "light"
     },
     "output_type": "display_data"
    }
   ],
   "source": [
    "import seaborn as sns\n",
    "\n",
    "sns.countplot(x='Gender',hue='Loan_Status (Approved)',data=data)"
   ]
  },
  {
   "cell_type": "code",
   "execution_count": 28,
   "metadata": {
    "executionInfo": {
     "elapsed": 386,
     "status": "ok",
     "timestamp": 1642344670732,
     "user": {
      "displayName": "Shubhangi Sakarkar",
      "photoUrl": "https://lh3.googleusercontent.com/a-/AOh14GjiJriRrUWKSeoxmYnVoL2uz2i6E3RLOwZgeqHG=s64",
      "userId": "12180749557274197061"
     },
     "user_tz": -330
    },
    "id": "64rwMCdNtV5n"
   },
   "outputs": [],
   "source": [
    "## Imputing the missing values with mode\n",
    "data.loc[data['Gender'].isnull()==True,'Gender']='Male'"
   ]
  },
  {
   "cell_type": "code",
   "execution_count": null,
   "metadata": {
    "id": "iT4YRcaNtV5n"
   },
   "outputs": [],
   "source": [
    "data.Gender.isnull().sum()"
   ]
  },
  {
   "cell_type": "code",
   "execution_count": null,
   "metadata": {
    "id": "sFVq0iwutV5o"
   },
   "outputs": [],
   "source": [
    "## Getting the values in Dependents\n",
    "data.loc[data['Dependents'].isnull()==True]"
   ]
  },
  {
   "cell_type": "code",
   "execution_count": 19,
   "metadata": {
    "collapsed": true,
    "id": "BYhfilEztV5r"
   },
   "outputs": [
    {
     "data": {
      "text/plain": [
       "0     345\n",
       "1     102\n",
       "2     101\n",
       "3+     51\n",
       "Name: Dependents, dtype: int64"
      ]
     },
     "execution_count": 19,
     "metadata": {},
     "output_type": "execute_result"
    }
   ],
   "source": [
    "data.Dependents.value_counts()"
   ]
  },
  {
   "cell_type": "code",
   "execution_count": 21,
   "metadata": {
    "collapsed": true
   },
   "outputs": [
    {
     "data": {
      "text/plain": [
       "<AxesSubplot:xlabel='Dependents', ylabel='count'>"
      ]
     },
     "execution_count": 21,
     "metadata": {},
     "output_type": "execute_result"
    },
    {
     "data": {
      "image/png": "[encoded data removed]",
      "text/plain": [
       "<Figure size 432x288 with 1 Axes>"
      ]
     },
     "metadata": {
      "needs_background": "light"
     },
     "output_type": "display_data"
    }
   ],
   "source": [
    "sns.countplot(x='Dependents',data=data,hue='Loan_Status')"
   ]
  },
  {
   "cell_type": "code",
   "execution_count": null,
   "metadata": {},
   "outputs": [],
   "source": [
    "pd.crosstab(data.Dependents,data.Loan_Status)"
   ]
  },
  {
   "cell_type": "code",
   "execution_count": 29,
   "metadata": {},
   "outputs": [],
   "source": [
    "## renaming the target column\n",
    "data.rename(columns={\"Loan_Status (Approved)\":'Loan_Status'},inplace=True)"
   ]
  },
  {
   "cell_type": "code",
   "execution_count": 30,
   "metadata": {
    "executionInfo": {
     "elapsed": 414,
     "status": "ok",
     "timestamp": 1642344676977,
     "user": {
      "displayName": "Shubhangi Sakarkar",
      "photoUrl": "https://lh3.googleusercontent.com/a-/AOh14GjiJriRrUWKSeoxmYnVoL2uz2i6E3RLOwZgeqHG=s64",
      "userId": "12180749557274197061"
     },
     "user_tz": -330
    },
    "id": "NMA2PUnitV5r"
   },
   "outputs": [],
   "source": [
    "# From the graphical representation it can be seen that as the number of dependents \n",
    "#getting increased,\n",
    "# the chances of approval is less, since we have missed values and if we approve\n",
    "# loan for them\n",
    "# it can turn into major loss(high chance).Hence we will substitue missing values\n",
    "#by 3+.\n",
    "data.loc[data['Dependents'].isnull()==True,'Dependents']='3+'"
   ]
  },
  {
   "cell_type": "code",
   "execution_count": null,
   "metadata": {
    "id": "Z8dyazLOtV5t"
   },
   "outputs": [],
   "source": [
    "data"
   ]
  },
  {
   "cell_type": "code",
   "execution_count": null,
   "metadata": {
    "id": "C_XIaBedtV5v"
   },
   "outputs": [],
   "source": [
    "## For married feature\n",
    "data.loc[data['Married'].isnull()==True]"
   ]
  },
  {
   "cell_type": "code",
   "execution_count": 23,
   "metadata": {},
   "outputs": [
    {
     "data": {
      "text/plain": [
       "<AxesSubplot:xlabel='Married', ylabel='count'>"
      ]
     },
     "execution_count": 23,
     "metadata": {},
     "output_type": "execute_result"
    },
    {
     "data": {
      "image/png": "[encoded data removed]",
      "text/plain": [
       "<Figure size 432x288 with 1 Axes>"
      ]
     },
     "metadata": {
      "needs_background": "light"
     },
     "output_type": "display_data"
    }
   ],
   "source": [
    "sns.countplot(x='Married',hue='Loan_Status',data=data)"
   ]
  },
  {
   "cell_type": "code",
   "execution_count": null,
   "metadata": {
    "id": "eEesiMnitV5v"
   },
   "outputs": [],
   "source": [
    "## getting the counts\n",
    "data.Married.value_counts()"
   ]
  },
  {
   "cell_type": "code",
   "execution_count": 31,
   "metadata": {
    "executionInfo": {
     "elapsed": 413,
     "status": "ok",
     "timestamp": 1642344684657,
     "user": {
      "displayName": "Shubhangi Sakarkar",
      "photoUrl": "https://lh3.googleusercontent.com/a-/AOh14GjiJriRrUWKSeoxmYnVoL2uz2i6E3RLOwZgeqHG=s64",
      "userId": "12180749557274197061"
     },
     "user_tz": -330
    },
    "id": "HfPxbEXStV5w"
   },
   "outputs": [],
   "source": [
    "## Imputing with yes i.e mode\n",
    "data.loc[data['Married'].isnull()==True,'Married']='Yes'"
   ]
  },
  {
   "cell_type": "code",
   "execution_count": null,
   "metadata": {
    "id": "YiofCYcftV5z"
   },
   "outputs": [],
   "source": [
    "## Checking Self_Employed\n",
    "#data.loc[data['Self_Employed'].isnull()==True]\n",
    "data.loc[data['Self_Employed']=='No']"
   ]
  },
  {
   "cell_type": "code",
   "execution_count": 25,
   "metadata": {
    "collapsed": true
   },
   "outputs": [
    {
     "data": {
      "text/plain": [
       "<AxesSubplot:xlabel='Self_Employed', ylabel='count'>"
      ]
     },
     "execution_count": 25,
     "metadata": {},
     "output_type": "execute_result"
    },
    {
     "data": {
      "image/png": "[encoded data removed]",
      "text/plain": [
       "<Figure size 432x288 with 1 Axes>"
      ]
     },
     "metadata": {
      "needs_background": "light"
     },
     "output_type": "display_data"
    }
   ],
   "source": [
    "sns.countplot(x='Self_Employed',hue='Loan_Status',data=data)"
   ]
  },
  {
   "cell_type": "code",
   "execution_count": null,
   "metadata": {},
   "outputs": [],
   "source": [
    "pd.crosstab(data.Self_Employed,data.Loan_Status)"
   ]
  },
  {
   "cell_type": "code",
   "execution_count": null,
   "metadata": {
    "id": "eSbWzwIutV52"
   },
   "outputs": [],
   "source": [
    "data.Self_Employed.value_counts()"
   ]
  },
  {
   "cell_type": "code",
   "execution_count": null,
   "metadata": {
    "id": "66-6M9f2tV53"
   },
   "outputs": [],
   "source": [
    "sns.countplot(x='Self_Employed',data=data,hue='Loan_Status')"
   ]
  },
  {
   "cell_type": "code",
   "execution_count": 32,
   "metadata": {
    "executionInfo": {
     "elapsed": 545,
     "status": "ok",
     "timestamp": 1642344693671,
     "user": {
      "displayName": "Shubhangi Sakarkar",
      "photoUrl": "https://lh3.googleusercontent.com/a-/AOh14GjiJriRrUWKSeoxmYnVoL2uz2i6E3RLOwZgeqHG=s64",
      "userId": "12180749557274197061"
     },
     "user_tz": -330
    },
    "id": "09MdtEiTtV54"
   },
   "outputs": [],
   "source": [
    "# Replace the nan values with mode\n",
    "data.loc[data['Self_Employed'].isnull()==True,'Self_Employed']='No'"
   ]
  },
  {
   "cell_type": "code",
   "execution_count": 27,
   "metadata": {
    "collapsed": true,
    "id": "vUtjuW5EtV55"
   },
   "outputs": [
    {
     "data": {
      "text/plain": [
       "Loan_ID               0\n",
       "Gender                0\n",
       "Married               0\n",
       "Dependents            0\n",
       "Education             0\n",
       "Self_Employed         0\n",
       "ApplicantIncome       0\n",
       "CoapplicantIncome     0\n",
       "LoanAmount           22\n",
       "Loan_Amount_Term     14\n",
       "Credit_History       50\n",
       "Property_Area         0\n",
       "Loan_Status           0\n",
       "dtype: int64"
      ]
     },
     "execution_count": 27,
     "metadata": {},
     "output_type": "execute_result"
    }
   ],
   "source": [
    "# check for null values\n",
    "data.isnull().sum()"
   ]
  },
  {
   "cell_type": "code",
   "execution_count": 36,
   "metadata": {
    "collapsed": true,
    "id": "5izFJ2GdtV56"
   },
   "outputs": [
    {
     "data": {
      "image/png": "[encoded data removed]",
      "text/plain": [
       "<Figure size 432x288 with 1 Axes>"
      ]
     },
     "metadata": {
      "needs_background": "light"
     },
     "output_type": "display_data"
    }
   ],
   "source": [
    "## Histogram since it has numerical value\n",
    "data.LoanAmount.hist()\n",
    "plt.show()"
   ]
  },
  {
   "cell_type": "markdown",
   "metadata": {
    "id": "G96K4wgQtV58"
   },
   "source": [
    "Since data is skewed, we can use median to replace the nan value. It is recommended to use mean only for symmetric data distribution."
   ]
  },
  {
   "cell_type": "code",
   "execution_count": null,
   "metadata": {
    "id": "Qabd6-ZXtV59"
   },
   "outputs": [],
   "source": [
    "# Check median for LoanAmount column\n",
    "np.median(data.LoanAmount.dropna(axis=0))"
   ]
  },
  {
   "cell_type": "code",
   "execution_count": 33,
   "metadata": {
    "executionInfo": {
     "elapsed": 412,
     "status": "ok",
     "timestamp": 1642344712917,
     "user": {
      "displayName": "Shubhangi Sakarkar",
      "photoUrl": "https://lh3.googleusercontent.com/a-/AOh14GjiJriRrUWKSeoxmYnVoL2uz2i6E3RLOwZgeqHG=s64",
      "userId": "12180749557274197061"
     },
     "user_tz": -330
    },
    "id": "nDBx-pKbtV5-"
   },
   "outputs": [],
   "source": [
    "# Replace the nan values in LoanAmount column with median value\n",
    "data.loc[data['LoanAmount'].isnull()==True,'LoanAmount']=np.median(data.LoanAmount.dropna(axis=0))"
   ]
  },
  {
   "cell_type": "code",
   "execution_count": null,
   "metadata": {
    "id": "KG_rfHOLtV5_"
   },
   "outputs": [],
   "source": [
    "data.LoanAmount.isnull().sum()"
   ]
  },
  {
   "cell_type": "code",
   "execution_count": null,
   "metadata": {},
   "outputs": [],
   "source": [
    "## Laon amount term"
   ]
  },
  {
   "cell_type": "code",
   "execution_count": null,
   "metadata": {
    "id": "d4B9iN_mtV6A"
   },
   "outputs": [],
   "source": [
    "data.Loan_Amount_Term.isnull().sum()"
   ]
  },
  {
   "cell_type": "code",
   "execution_count": 29,
   "metadata": {
    "collapsed": true
   },
   "outputs": [
    {
     "data": {
      "text/plain": [
       "360.0    512\n",
       "180.0     44\n",
       "480.0     15\n",
       "300.0     13\n",
       "240.0      4\n",
       "84.0       4\n",
       "120.0      3\n",
       "60.0       2\n",
       "36.0       2\n",
       "12.0       1\n",
       "Name: Loan_Amount_Term, dtype: int64"
      ]
     },
     "execution_count": 29,
     "metadata": {},
     "output_type": "execute_result"
    }
   ],
   "source": [
    "data.Loan_Amount_Term.value_counts()"
   ]
  },
  {
   "cell_type": "code",
   "execution_count": 34,
   "metadata": {},
   "outputs": [
    {
     "data": {
      "text/plain": [
       "360.0"
      ]
     },
     "execution_count": 34,
     "metadata": {},
     "output_type": "execute_result"
    }
   ],
   "source": [
    "data.Loan_Amount_Term.median()"
   ]
  },
  {
   "cell_type": "code",
   "execution_count": null,
   "metadata": {},
   "outputs": [],
   "source": [
    "data.Loan_Amount_Term.hist()"
   ]
  },
  {
   "cell_type": "code",
   "execution_count": 34,
   "metadata": {},
   "outputs": [],
   "source": [
    "# replace the nan values in Loan_Amount_Term with the median value\n",
    "data.loc[data['Loan_Amount_Term'].isnull()==True,'Loan_Amount_Term']=np.median(data.Loan_Amount_Term.dropna(axis=0))"
   ]
  },
  {
   "cell_type": "code",
   "execution_count": 37,
   "metadata": {
    "id": "lNUVAbDYtV6B"
   },
   "outputs": [
    {
     "data": {
      "text/plain": [
       "1.0    475\n",
       "0.0     89\n",
       "Name: Credit_History, dtype: int64"
      ]
     },
     "execution_count": 37,
     "metadata": {},
     "output_type": "execute_result"
    }
   ],
   "source": [
    "# Credit_History\n",
    "data.Credit_History.value_counts()"
   ]
  },
  {
   "cell_type": "code",
   "execution_count": 38,
   "metadata": {
    "collapsed": true,
    "id": "TzcKk4rxtV6C"
   },
   "outputs": [
    {
     "data": {
      "text/plain": [
       "<AxesSubplot:xlabel='Credit_History', ylabel='count'>"
      ]
     },
     "execution_count": 38,
     "metadata": {},
     "output_type": "execute_result"
    },
    {
     "data": {
      "image/png": "[encoded data removed]",
      "text/plain": [
       "<Figure size 432x288 with 1 Axes>"
      ]
     },
     "metadata": {
      "needs_background": "light"
     },
     "output_type": "display_data"
    }
   ],
   "source": [
    "sns.countplot(x='Credit_History',data=data,hue='Loan_Status')"
   ]
  },
  {
   "cell_type": "code",
   "execution_count": 35,
   "metadata": {
    "executionInfo": {
     "elapsed": 540,
     "status": "ok",
     "timestamp": 1642344724898,
     "user": {
      "displayName": "Shubhangi Sakarkar",
      "photoUrl": "https://lh3.googleusercontent.com/a-/AOh14GjiJriRrUWKSeoxmYnVoL2uz2i6E3RLOwZgeqHG=s64",
      "userId": "12180749557274197061"
     },
     "user_tz": -330
    },
    "id": "V5ag-1LftV6C"
   },
   "outputs": [],
   "source": [
    "data.loc[data['Credit_History'].isnull()==True,'Credit_History']=1.0"
   ]
  },
  {
   "cell_type": "code",
   "execution_count": 36,
   "metadata": {
    "collapsed": true,
    "id": "bMW8fLFDtV6D"
   },
   "outputs": [
    {
     "data": {
      "text/plain": [
       "Loan_ID              0\n",
       "Gender               0\n",
       "Married              0\n",
       "Dependents           0\n",
       "Education            0\n",
       "Self_Employed        0\n",
       "ApplicantIncome      0\n",
       "CoapplicantIncome    0\n",
       "LoanAmount           0\n",
       "Loan_Amount_Term     0\n",
       "Credit_History       0\n",
       "Property_Area        0\n",
       "Loan_Status          0\n",
       "dtype: int64"
      ]
     },
     "execution_count": 36,
     "metadata": {},
     "output_type": "execute_result"
    }
   ],
   "source": [
    "data.isnull().sum()"
   ]
  },
  {
   "cell_type": "code",
   "execution_count": null,
   "metadata": {
    "id": "DTKTxzOqtV6D",
    "scrolled": true
   },
   "outputs": [],
   "source": [
    "## Step 2 Handling the categorical data\n",
    "data.info()"
   ]
  },
  {
   "cell_type": "code",
   "execution_count": null,
   "metadata": {
    "executionInfo": {
     "elapsed": 412,
     "status": "ok",
     "timestamp": 1642344730017,
     "user": {
      "displayName": "Shubhangi Sakarkar",
      "photoUrl": "https://lh3.googleusercontent.com/a-/AOh14GjiJriRrUWKSeoxmYnVoL2uz2i6E3RLOwZgeqHG=s64",
      "userId": "12180749557274197061"
     },
     "user_tz": -330
    },
    "id": "-1RlAuPvtV6F"
   },
   "outputs": [],
   "source": []
  },
  {
   "cell_type": "code",
   "execution_count": 37,
   "metadata": {
    "executionInfo": {
     "elapsed": 611,
     "status": "ok",
     "timestamp": 1642344734522,
     "user": {
      "displayName": "Shubhangi Sakarkar",
      "photoUrl": "https://lh3.googleusercontent.com/a-/AOh14GjiJriRrUWKSeoxmYnVoL2uz2i6E3RLOwZgeqHG=s64",
      "userId": "12180749557274197061"
     },
     "user_tz": -330
    },
    "id": "BYIDkbQQtV6N"
   },
   "outputs": [],
   "source": [
    "## Using label encoder to convert the categorical data to numerical data\n",
    "\n",
    "from sklearn.preprocessing import LabelEncoder\n",
    "lc=LabelEncoder()\n",
    "\n",
    "data.Gender=lc.fit_transform(data.Gender)\n",
    "data.Married=lc.fit_transform(data.Married)\n",
    "data.Education=lc.fit_transform(data.Education)\n",
    "data.Property_Area=lc.fit_transform(data.Property_Area)\n",
    "data.Loan_Status=lc.fit_transform(data.Loan_Status)\n",
    "data.Dependents=lc.fit_transform(data.Dependents)\n",
    "data.Self_Employed=lc.fit_transform(data.Self_Employed)"
   ]
  },
  {
   "cell_type": "code",
   "execution_count": 14,
   "metadata": {
    "collapsed": true,
    "id": "HWkqm1ZAtV6Q"
   },
   "outputs": [
    {
     "data": {
      "text/html": [
       "<div>\n",
       "<style scoped>\n",
       "    .dataframe tbody tr th:only-of-type {\n",
       "        vertical-align: middle;\n",
       "    }\n",
       "\n",
       "    .dataframe tbody tr th {\n",
       "        vertical-align: top;\n",
       "    }\n",
       "\n",
       "    .dataframe thead th {\n",
       "        text-align: right;\n",
       "    }\n",
       "</style>\n",
       "<table border=\"1\" class=\"dataframe\">\n",
       "  <thead>\n",
       "    <tr style=\"text-align: right;\">\n",
       "      <th></th>\n",
       "      <th>Loan_ID</th>\n",
       "      <th>Gender</th>\n",
       "      <th>Married</th>\n",
       "      <th>Dependents</th>\n",
       "      <th>Education</th>\n",
       "      <th>Self_Employed</th>\n",
       "      <th>ApplicantIncome</th>\n",
       "      <th>CoapplicantIncome</th>\n",
       "      <th>LoanAmount</th>\n",
       "      <th>Loan_Amount_Term</th>\n",
       "      <th>Credit_History</th>\n",
       "      <th>Property_Area</th>\n",
       "      <th>Loan_Status</th>\n",
       "    </tr>\n",
       "  </thead>\n",
       "  <tbody>\n",
       "    <tr>\n",
       "      <th>0</th>\n",
       "      <td>LP001002</td>\n",
       "      <td>1</td>\n",
       "      <td>0</td>\n",
       "      <td>0</td>\n",
       "      <td>0</td>\n",
       "      <td>0</td>\n",
       "      <td>5849</td>\n",
       "      <td>0.0</td>\n",
       "      <td>128.0</td>\n",
       "      <td>360.0</td>\n",
       "      <td>1.0</td>\n",
       "      <td>2</td>\n",
       "      <td>1</td>\n",
       "    </tr>\n",
       "    <tr>\n",
       "      <th>1</th>\n",
       "      <td>LP001003</td>\n",
       "      <td>1</td>\n",
       "      <td>1</td>\n",
       "      <td>1</td>\n",
       "      <td>0</td>\n",
       "      <td>0</td>\n",
       "      <td>4583</td>\n",
       "      <td>1508.0</td>\n",
       "      <td>128.0</td>\n",
       "      <td>360.0</td>\n",
       "      <td>1.0</td>\n",
       "      <td>0</td>\n",
       "      <td>0</td>\n",
       "    </tr>\n",
       "    <tr>\n",
       "      <th>2</th>\n",
       "      <td>LP001005</td>\n",
       "      <td>1</td>\n",
       "      <td>1</td>\n",
       "      <td>0</td>\n",
       "      <td>0</td>\n",
       "      <td>1</td>\n",
       "      <td>3000</td>\n",
       "      <td>0.0</td>\n",
       "      <td>66.0</td>\n",
       "      <td>360.0</td>\n",
       "      <td>1.0</td>\n",
       "      <td>2</td>\n",
       "      <td>1</td>\n",
       "    </tr>\n",
       "    <tr>\n",
       "      <th>3</th>\n",
       "      <td>LP001006</td>\n",
       "      <td>1</td>\n",
       "      <td>1</td>\n",
       "      <td>0</td>\n",
       "      <td>1</td>\n",
       "      <td>0</td>\n",
       "      <td>2583</td>\n",
       "      <td>2358.0</td>\n",
       "      <td>120.0</td>\n",
       "      <td>360.0</td>\n",
       "      <td>1.0</td>\n",
       "      <td>2</td>\n",
       "      <td>1</td>\n",
       "    </tr>\n",
       "    <tr>\n",
       "      <th>4</th>\n",
       "      <td>LP001008</td>\n",
       "      <td>1</td>\n",
       "      <td>0</td>\n",
       "      <td>0</td>\n",
       "      <td>0</td>\n",
       "      <td>0</td>\n",
       "      <td>6000</td>\n",
       "      <td>0.0</td>\n",
       "      <td>141.0</td>\n",
       "      <td>360.0</td>\n",
       "      <td>1.0</td>\n",
       "      <td>2</td>\n",
       "      <td>1</td>\n",
       "    </tr>\n",
       "  </tbody>\n",
       "</table>\n",
       "</div>"
      ],
      "text/plain": [
       "    Loan_ID  Gender  Married  Dependents  Education  Self_Employed  \\\n",
       "0  LP001002       1        0           0          0              0   \n",
       "1  LP001003       1        1           1          0              0   \n",
       "2  LP001005       1        1           0          0              1   \n",
       "3  LP001006       1        1           0          1              0   \n",
       "4  LP001008       1        0           0          0              0   \n",
       "\n",
       "   ApplicantIncome  CoapplicantIncome  LoanAmount  Loan_Amount_Term  \\\n",
       "0             5849                0.0       128.0             360.0   \n",
       "1             4583             1508.0       128.0             360.0   \n",
       "2             3000                0.0        66.0             360.0   \n",
       "3             2583             2358.0       120.0             360.0   \n",
       "4             6000                0.0       141.0             360.0   \n",
       "\n",
       "   Credit_History  Property_Area  Loan_Status  \n",
       "0             1.0              2            1  \n",
       "1             1.0              0            0  \n",
       "2             1.0              2            1  \n",
       "3             1.0              2            1  \n",
       "4             1.0              2            1  "
      ]
     },
     "execution_count": 14,
     "metadata": {},
     "output_type": "execute_result"
    }
   ],
   "source": [
    "data.head()"
   ]
  },
  {
   "cell_type": "code",
   "execution_count": 26,
   "metadata": {
    "collapsed": true
   },
   "outputs": [
    {
     "data": {
      "text/html": [
       "<div>\n",
       "<style scoped>\n",
       "    .dataframe tbody tr th:only-of-type {\n",
       "        vertical-align: middle;\n",
       "    }\n",
       "\n",
       "    .dataframe tbody tr th {\n",
       "        vertical-align: top;\n",
       "    }\n",
       "\n",
       "    .dataframe thead th {\n",
       "        text-align: right;\n",
       "    }\n",
       "</style>\n",
       "<table border=\"1\" class=\"dataframe\">\n",
       "  <thead>\n",
       "    <tr style=\"text-align: right;\">\n",
       "      <th></th>\n",
       "      <th>Loan_ID</th>\n",
       "      <th>Gender</th>\n",
       "      <th>Married</th>\n",
       "      <th>Dependents</th>\n",
       "      <th>Education</th>\n",
       "      <th>Self_Employed</th>\n",
       "      <th>ApplicantIncome</th>\n",
       "      <th>CoapplicantIncome</th>\n",
       "      <th>LoanAmount</th>\n",
       "      <th>Loan_Amount_Term</th>\n",
       "      <th>Credit_History</th>\n",
       "      <th>Property_Area</th>\n",
       "      <th>Loan_Status (Approved)</th>\n",
       "    </tr>\n",
       "  </thead>\n",
       "  <tbody>\n",
       "    <tr>\n",
       "      <th>0</th>\n",
       "      <td>LP001002</td>\n",
       "      <td>Male</td>\n",
       "      <td>No</td>\n",
       "      <td>0</td>\n",
       "      <td>Graduate</td>\n",
       "      <td>No</td>\n",
       "      <td>5849</td>\n",
       "      <td>0.0</td>\n",
       "      <td>NaN</td>\n",
       "      <td>360.0</td>\n",
       "      <td>1.0</td>\n",
       "      <td>Urban</td>\n",
       "      <td>Y</td>\n",
       "    </tr>\n",
       "    <tr>\n",
       "      <th>1</th>\n",
       "      <td>LP001003</td>\n",
       "      <td>Male</td>\n",
       "      <td>Yes</td>\n",
       "      <td>1</td>\n",
       "      <td>Graduate</td>\n",
       "      <td>No</td>\n",
       "      <td>4583</td>\n",
       "      <td>1508.0</td>\n",
       "      <td>128.0</td>\n",
       "      <td>360.0</td>\n",
       "      <td>1.0</td>\n",
       "      <td>Rural</td>\n",
       "      <td>N</td>\n",
       "    </tr>\n",
       "    <tr>\n",
       "      <th>2</th>\n",
       "      <td>LP001005</td>\n",
       "      <td>Male</td>\n",
       "      <td>Yes</td>\n",
       "      <td>0</td>\n",
       "      <td>Graduate</td>\n",
       "      <td>Yes</td>\n",
       "      <td>3000</td>\n",
       "      <td>0.0</td>\n",
       "      <td>66.0</td>\n",
       "      <td>360.0</td>\n",
       "      <td>1.0</td>\n",
       "      <td>Urban</td>\n",
       "      <td>Y</td>\n",
       "    </tr>\n",
       "    <tr>\n",
       "      <th>3</th>\n",
       "      <td>LP001006</td>\n",
       "      <td>Male</td>\n",
       "      <td>Yes</td>\n",
       "      <td>0</td>\n",
       "      <td>Not Graduate</td>\n",
       "      <td>No</td>\n",
       "      <td>2583</td>\n",
       "      <td>2358.0</td>\n",
       "      <td>120.0</td>\n",
       "      <td>360.0</td>\n",
       "      <td>1.0</td>\n",
       "      <td>Urban</td>\n",
       "      <td>Y</td>\n",
       "    </tr>\n",
       "    <tr>\n",
       "      <th>4</th>\n",
       "      <td>LP001008</td>\n",
       "      <td>Male</td>\n",
       "      <td>No</td>\n",
       "      <td>0</td>\n",
       "      <td>Graduate</td>\n",
       "      <td>No</td>\n",
       "      <td>6000</td>\n",
       "      <td>0.0</td>\n",
       "      <td>141.0</td>\n",
       "      <td>360.0</td>\n",
       "      <td>1.0</td>\n",
       "      <td>Urban</td>\n",
       "      <td>Y</td>\n",
       "    </tr>\n",
       "  </tbody>\n",
       "</table>\n",
       "</div>"
      ],
      "text/plain": [
       "    Loan_ID Gender Married Dependents     Education Self_Employed  \\\n",
       "0  LP001002   Male      No          0      Graduate            No   \n",
       "1  LP001003   Male     Yes          1      Graduate            No   \n",
       "2  LP001005   Male     Yes          0      Graduate           Yes   \n",
       "3  LP001006   Male     Yes          0  Not Graduate            No   \n",
       "4  LP001008   Male      No          0      Graduate            No   \n",
       "\n",
       "   ApplicantIncome  CoapplicantIncome  LoanAmount  Loan_Amount_Term  \\\n",
       "0             5849                0.0         NaN             360.0   \n",
       "1             4583             1508.0       128.0             360.0   \n",
       "2             3000                0.0        66.0             360.0   \n",
       "3             2583             2358.0       120.0             360.0   \n",
       "4             6000                0.0       141.0             360.0   \n",
       "\n",
       "   Credit_History Property_Area Loan_Status (Approved)  \n",
       "0             1.0         Urban                      Y  \n",
       "1             1.0         Rural                      N  \n",
       "2             1.0         Urban                      Y  \n",
       "3             1.0         Urban                      Y  \n",
       "4             1.0         Urban                      Y  "
      ]
     },
     "execution_count": 26,
     "metadata": {},
     "output_type": "execute_result"
    }
   ],
   "source": [
    "data.head()"
   ]
  },
  {
   "cell_type": "code",
   "execution_count": 24,
   "metadata": {},
   "outputs": [],
   "source": [
    "## One hot encoding\n",
    "df1=pd.get_dummies(data['Gender'],prefix='Gender',drop_first=True)\n",
    "data=pd.concat([data,df1],axis=1).drop(['Gender'],axis=1)"
   ]
  },
  {
   "cell_type": "code",
   "execution_count": 23,
   "metadata": {
    "collapsed": true
   },
   "outputs": [
    {
     "data": {
      "text/html": [
       "<div>\n",
       "<style scoped>\n",
       "    .dataframe tbody tr th:only-of-type {\n",
       "        vertical-align: middle;\n",
       "    }\n",
       "\n",
       "    .dataframe tbody tr th {\n",
       "        vertical-align: top;\n",
       "    }\n",
       "\n",
       "    .dataframe thead th {\n",
       "        text-align: right;\n",
       "    }\n",
       "</style>\n",
       "<table border=\"1\" class=\"dataframe\">\n",
       "  <thead>\n",
       "    <tr style=\"text-align: right;\">\n",
       "      <th></th>\n",
       "      <th>Gender_Female</th>\n",
       "      <th>Gender_Male</th>\n",
       "    </tr>\n",
       "  </thead>\n",
       "  <tbody>\n",
       "    <tr>\n",
       "      <th>0</th>\n",
       "      <td>0</td>\n",
       "      <td>1</td>\n",
       "    </tr>\n",
       "    <tr>\n",
       "      <th>1</th>\n",
       "      <td>0</td>\n",
       "      <td>1</td>\n",
       "    </tr>\n",
       "    <tr>\n",
       "      <th>2</th>\n",
       "      <td>0</td>\n",
       "      <td>1</td>\n",
       "    </tr>\n",
       "    <tr>\n",
       "      <th>3</th>\n",
       "      <td>0</td>\n",
       "      <td>1</td>\n",
       "    </tr>\n",
       "    <tr>\n",
       "      <th>4</th>\n",
       "      <td>0</td>\n",
       "      <td>1</td>\n",
       "    </tr>\n",
       "    <tr>\n",
       "      <th>...</th>\n",
       "      <td>...</td>\n",
       "      <td>...</td>\n",
       "    </tr>\n",
       "    <tr>\n",
       "      <th>609</th>\n",
       "      <td>1</td>\n",
       "      <td>0</td>\n",
       "    </tr>\n",
       "    <tr>\n",
       "      <th>610</th>\n",
       "      <td>0</td>\n",
       "      <td>1</td>\n",
       "    </tr>\n",
       "    <tr>\n",
       "      <th>611</th>\n",
       "      <td>0</td>\n",
       "      <td>1</td>\n",
       "    </tr>\n",
       "    <tr>\n",
       "      <th>612</th>\n",
       "      <td>0</td>\n",
       "      <td>1</td>\n",
       "    </tr>\n",
       "    <tr>\n",
       "      <th>613</th>\n",
       "      <td>1</td>\n",
       "      <td>0</td>\n",
       "    </tr>\n",
       "  </tbody>\n",
       "</table>\n",
       "<p>614 rows × 2 columns</p>\n",
       "</div>"
      ],
      "text/plain": [
       "     Gender_Female  Gender_Male\n",
       "0                0            1\n",
       "1                0            1\n",
       "2                0            1\n",
       "3                0            1\n",
       "4                0            1\n",
       "..             ...          ...\n",
       "609              1            0\n",
       "610              0            1\n",
       "611              0            1\n",
       "612              0            1\n",
       "613              1            0\n",
       "\n",
       "[614 rows x 2 columns]"
      ]
     },
     "execution_count": 23,
     "metadata": {},
     "output_type": "execute_result"
    }
   ],
   "source": [
    "df1"
   ]
  },
  {
   "cell_type": "code",
   "execution_count": 25,
   "metadata": {
    "collapsed": true
   },
   "outputs": [
    {
     "data": {
      "text/html": [
       "<div>\n",
       "<style scoped>\n",
       "    .dataframe tbody tr th:only-of-type {\n",
       "        vertical-align: middle;\n",
       "    }\n",
       "\n",
       "    .dataframe tbody tr th {\n",
       "        vertical-align: top;\n",
       "    }\n",
       "\n",
       "    .dataframe thead th {\n",
       "        text-align: right;\n",
       "    }\n",
       "</style>\n",
       "<table border=\"1\" class=\"dataframe\">\n",
       "  <thead>\n",
       "    <tr style=\"text-align: right;\">\n",
       "      <th></th>\n",
       "      <th>Gender_Male</th>\n",
       "    </tr>\n",
       "  </thead>\n",
       "  <tbody>\n",
       "    <tr>\n",
       "      <th>0</th>\n",
       "      <td>1</td>\n",
       "    </tr>\n",
       "    <tr>\n",
       "      <th>1</th>\n",
       "      <td>1</td>\n",
       "    </tr>\n",
       "    <tr>\n",
       "      <th>2</th>\n",
       "      <td>1</td>\n",
       "    </tr>\n",
       "    <tr>\n",
       "      <th>3</th>\n",
       "      <td>1</td>\n",
       "    </tr>\n",
       "    <tr>\n",
       "      <th>4</th>\n",
       "      <td>1</td>\n",
       "    </tr>\n",
       "    <tr>\n",
       "      <th>...</th>\n",
       "      <td>...</td>\n",
       "    </tr>\n",
       "    <tr>\n",
       "      <th>609</th>\n",
       "      <td>0</td>\n",
       "    </tr>\n",
       "    <tr>\n",
       "      <th>610</th>\n",
       "      <td>1</td>\n",
       "    </tr>\n",
       "    <tr>\n",
       "      <th>611</th>\n",
       "      <td>1</td>\n",
       "    </tr>\n",
       "    <tr>\n",
       "      <th>612</th>\n",
       "      <td>1</td>\n",
       "    </tr>\n",
       "    <tr>\n",
       "      <th>613</th>\n",
       "      <td>0</td>\n",
       "    </tr>\n",
       "  </tbody>\n",
       "</table>\n",
       "<p>614 rows × 1 columns</p>\n",
       "</div>"
      ],
      "text/plain": [
       "     Gender_Male\n",
       "0              1\n",
       "1              1\n",
       "2              1\n",
       "3              1\n",
       "4              1\n",
       "..           ...\n",
       "609            0\n",
       "610            1\n",
       "611            1\n",
       "612            1\n",
       "613            0\n",
       "\n",
       "[614 rows x 1 columns]"
      ]
     },
     "execution_count": 25,
     "metadata": {},
     "output_type": "execute_result"
    }
   ],
   "source": [
    "df1"
   ]
  },
  {
   "cell_type": "code",
   "execution_count": 18,
   "metadata": {},
   "outputs": [
    {
     "data": {
      "text/plain": [
       "Male      489\n",
       "Female    112\n",
       "Name: Gender, dtype: int64"
      ]
     },
     "execution_count": 18,
     "metadata": {},
     "output_type": "execute_result"
    }
   ],
   "source": [
    "data.Gender.value_counts()"
   ]
  },
  {
   "cell_type": "code",
   "execution_count": null,
   "metadata": {},
   "outputs": [],
   "source": [
    "data.Loan_Amount_Term.value_counts()"
   ]
  },
  {
   "cell_type": "code",
   "execution_count": 38,
   "metadata": {
    "collapsed": true
   },
   "outputs": [
    {
     "data": {
      "text/html": [
       "<div>\n",
       "<style scoped>\n",
       "    .dataframe tbody tr th:only-of-type {\n",
       "        vertical-align: middle;\n",
       "    }\n",
       "\n",
       "    .dataframe tbody tr th {\n",
       "        vertical-align: top;\n",
       "    }\n",
       "\n",
       "    .dataframe thead th {\n",
       "        text-align: right;\n",
       "    }\n",
       "</style>\n",
       "<table border=\"1\" class=\"dataframe\">\n",
       "  <thead>\n",
       "    <tr style=\"text-align: right;\">\n",
       "      <th></th>\n",
       "      <th>Loan_ID</th>\n",
       "      <th>Gender</th>\n",
       "      <th>Married</th>\n",
       "      <th>Dependents</th>\n",
       "      <th>Education</th>\n",
       "      <th>Self_Employed</th>\n",
       "      <th>ApplicantIncome</th>\n",
       "      <th>CoapplicantIncome</th>\n",
       "      <th>LoanAmount</th>\n",
       "      <th>Loan_Amount_Term</th>\n",
       "      <th>Credit_History</th>\n",
       "      <th>Property_Area</th>\n",
       "      <th>Loan_Status</th>\n",
       "    </tr>\n",
       "  </thead>\n",
       "  <tbody>\n",
       "    <tr>\n",
       "      <th>0</th>\n",
       "      <td>LP001002</td>\n",
       "      <td>1</td>\n",
       "      <td>0</td>\n",
       "      <td>0</td>\n",
       "      <td>0</td>\n",
       "      <td>0</td>\n",
       "      <td>5849</td>\n",
       "      <td>0.0</td>\n",
       "      <td>128.0</td>\n",
       "      <td>360.0</td>\n",
       "      <td>1.0</td>\n",
       "      <td>2</td>\n",
       "      <td>1</td>\n",
       "    </tr>\n",
       "    <tr>\n",
       "      <th>1</th>\n",
       "      <td>LP001003</td>\n",
       "      <td>1</td>\n",
       "      <td>1</td>\n",
       "      <td>1</td>\n",
       "      <td>0</td>\n",
       "      <td>0</td>\n",
       "      <td>4583</td>\n",
       "      <td>1508.0</td>\n",
       "      <td>128.0</td>\n",
       "      <td>360.0</td>\n",
       "      <td>1.0</td>\n",
       "      <td>0</td>\n",
       "      <td>0</td>\n",
       "    </tr>\n",
       "    <tr>\n",
       "      <th>2</th>\n",
       "      <td>LP001005</td>\n",
       "      <td>1</td>\n",
       "      <td>1</td>\n",
       "      <td>0</td>\n",
       "      <td>0</td>\n",
       "      <td>1</td>\n",
       "      <td>3000</td>\n",
       "      <td>0.0</td>\n",
       "      <td>66.0</td>\n",
       "      <td>360.0</td>\n",
       "      <td>1.0</td>\n",
       "      <td>2</td>\n",
       "      <td>1</td>\n",
       "    </tr>\n",
       "    <tr>\n",
       "      <th>3</th>\n",
       "      <td>LP001006</td>\n",
       "      <td>1</td>\n",
       "      <td>1</td>\n",
       "      <td>0</td>\n",
       "      <td>1</td>\n",
       "      <td>0</td>\n",
       "      <td>2583</td>\n",
       "      <td>2358.0</td>\n",
       "      <td>120.0</td>\n",
       "      <td>360.0</td>\n",
       "      <td>1.0</td>\n",
       "      <td>2</td>\n",
       "      <td>1</td>\n",
       "    </tr>\n",
       "    <tr>\n",
       "      <th>4</th>\n",
       "      <td>LP001008</td>\n",
       "      <td>1</td>\n",
       "      <td>0</td>\n",
       "      <td>0</td>\n",
       "      <td>0</td>\n",
       "      <td>0</td>\n",
       "      <td>6000</td>\n",
       "      <td>0.0</td>\n",
       "      <td>141.0</td>\n",
       "      <td>360.0</td>\n",
       "      <td>1.0</td>\n",
       "      <td>2</td>\n",
       "      <td>1</td>\n",
       "    </tr>\n",
       "  </tbody>\n",
       "</table>\n",
       "</div>"
      ],
      "text/plain": [
       "    Loan_ID  Gender  Married  Dependents  Education  Self_Employed  \\\n",
       "0  LP001002       1        0           0          0              0   \n",
       "1  LP001003       1        1           1          0              0   \n",
       "2  LP001005       1        1           0          0              1   \n",
       "3  LP001006       1        1           0          1              0   \n",
       "4  LP001008       1        0           0          0              0   \n",
       "\n",
       "   ApplicantIncome  CoapplicantIncome  LoanAmount  Loan_Amount_Term  \\\n",
       "0             5849                0.0       128.0             360.0   \n",
       "1             4583             1508.0       128.0             360.0   \n",
       "2             3000                0.0        66.0             360.0   \n",
       "3             2583             2358.0       120.0             360.0   \n",
       "4             6000                0.0       141.0             360.0   \n",
       "\n",
       "   Credit_History  Property_Area  Loan_Status  \n",
       "0             1.0              2            1  \n",
       "1             1.0              0            0  \n",
       "2             1.0              2            1  \n",
       "3             1.0              2            1  \n",
       "4             1.0              2            1  "
      ]
     },
     "execution_count": 38,
     "metadata": {},
     "output_type": "execute_result"
    }
   ],
   "source": [
    "data.head()"
   ]
  },
  {
   "cell_type": "code",
   "execution_count": 40,
   "metadata": {
    "executionInfo": {
     "elapsed": 413,
     "status": "ok",
     "timestamp": 1642344751828,
     "user": {
      "displayName": "Shubhangi Sakarkar",
      "photoUrl": "https://lh3.googleusercontent.com/a-/AOh14GjiJriRrUWKSeoxmYnVoL2uz2i6E3RLOwZgeqHG=s64",
      "userId": "12180749557274197061"
     },
     "user_tz": -330
    },
    "id": "GX3Zle-rtV6R"
   },
   "outputs": [],
   "source": [
    "## scaling data\n",
    "from sklearn.preprocessing import MinMaxScaler\n",
    "scale=MinMaxScaler()\n",
    "data[['ApplicantIncome','CoapplicantIncome','LoanAmount']]=scale.fit_transform(data[['ApplicantIncome','CoapplicantIncome',\n",
    "                          'LoanAmount']])\n",
    "\n"
   ]
  },
  {
   "cell_type": "code",
   "execution_count": null,
   "metadata": {},
   "outputs": [],
   "source": [
    "X=5849\n",
    "Xmin=150\n",
    "Xmax=81000"
   ]
  },
  {
   "cell_type": "code",
   "execution_count": null,
   "metadata": {},
   "outputs": [],
   "source": [
    "X_scale=X-Xmin/Xmax-Xmin\n",
    "5849-150/81000-150"
   ]
  },
  {
   "cell_type": "code",
   "execution_count": 42,
   "metadata": {
    "collapsed": true,
    "id": "tBdks0-6tV6S"
   },
   "outputs": [
    {
     "data": {
      "text/html": [
       "<div>\n",
       "<style scoped>\n",
       "    .dataframe tbody tr th:only-of-type {\n",
       "        vertical-align: middle;\n",
       "    }\n",
       "\n",
       "    .dataframe tbody tr th {\n",
       "        vertical-align: top;\n",
       "    }\n",
       "\n",
       "    .dataframe thead th {\n",
       "        text-align: right;\n",
       "    }\n",
       "</style>\n",
       "<table border=\"1\" class=\"dataframe\">\n",
       "  <thead>\n",
       "    <tr style=\"text-align: right;\">\n",
       "      <th></th>\n",
       "      <th>Gender</th>\n",
       "      <th>Married</th>\n",
       "      <th>Dependents</th>\n",
       "      <th>Education</th>\n",
       "      <th>Self_Employed</th>\n",
       "      <th>ApplicantIncome</th>\n",
       "      <th>CoapplicantIncome</th>\n",
       "      <th>LoanAmount</th>\n",
       "      <th>Loan_Amount_Term</th>\n",
       "      <th>Credit_History</th>\n",
       "      <th>Property_Area</th>\n",
       "      <th>Loan_Status</th>\n",
       "    </tr>\n",
       "  </thead>\n",
       "  <tbody>\n",
       "    <tr>\n",
       "      <th>count</th>\n",
       "      <td>614.000000</td>\n",
       "      <td>614.000000</td>\n",
       "      <td>614.000000</td>\n",
       "      <td>614.000000</td>\n",
       "      <td>614.000000</td>\n",
       "      <td>614.000000</td>\n",
       "      <td>614.000000</td>\n",
       "      <td>614.000000</td>\n",
       "      <td>614.000000</td>\n",
       "      <td>614.000000</td>\n",
       "      <td>614.000000</td>\n",
       "      <td>614.000000</td>\n",
       "    </tr>\n",
       "    <tr>\n",
       "      <th>mean</th>\n",
       "      <td>0.817590</td>\n",
       "      <td>0.653094</td>\n",
       "      <td>0.817590</td>\n",
       "      <td>0.218241</td>\n",
       "      <td>0.133550</td>\n",
       "      <td>0.064978</td>\n",
       "      <td>0.038910</td>\n",
       "      <td>0.197905</td>\n",
       "      <td>342.410423</td>\n",
       "      <td>0.855049</td>\n",
       "      <td>1.037459</td>\n",
       "      <td>0.687296</td>\n",
       "    </tr>\n",
       "    <tr>\n",
       "      <th>std</th>\n",
       "      <td>0.386497</td>\n",
       "      <td>0.476373</td>\n",
       "      <td>1.060618</td>\n",
       "      <td>0.413389</td>\n",
       "      <td>0.340446</td>\n",
       "      <td>0.075560</td>\n",
       "      <td>0.070229</td>\n",
       "      <td>0.121718</td>\n",
       "      <td>64.428629</td>\n",
       "      <td>0.352339</td>\n",
       "      <td>0.787482</td>\n",
       "      <td>0.463973</td>\n",
       "    </tr>\n",
       "    <tr>\n",
       "      <th>min</th>\n",
       "      <td>0.000000</td>\n",
       "      <td>0.000000</td>\n",
       "      <td>0.000000</td>\n",
       "      <td>0.000000</td>\n",
       "      <td>0.000000</td>\n",
       "      <td>0.000000</td>\n",
       "      <td>0.000000</td>\n",
       "      <td>0.000000</td>\n",
       "      <td>12.000000</td>\n",
       "      <td>0.000000</td>\n",
       "      <td>0.000000</td>\n",
       "      <td>0.000000</td>\n",
       "    </tr>\n",
       "    <tr>\n",
       "      <th>25%</th>\n",
       "      <td>1.000000</td>\n",
       "      <td>0.000000</td>\n",
       "      <td>0.000000</td>\n",
       "      <td>0.000000</td>\n",
       "      <td>0.000000</td>\n",
       "      <td>0.033735</td>\n",
       "      <td>0.000000</td>\n",
       "      <td>0.132055</td>\n",
       "      <td>360.000000</td>\n",
       "      <td>1.000000</td>\n",
       "      <td>0.000000</td>\n",
       "      <td>0.000000</td>\n",
       "    </tr>\n",
       "    <tr>\n",
       "      <th>50%</th>\n",
       "      <td>1.000000</td>\n",
       "      <td>1.000000</td>\n",
       "      <td>0.000000</td>\n",
       "      <td>0.000000</td>\n",
       "      <td>0.000000</td>\n",
       "      <td>0.045300</td>\n",
       "      <td>0.028524</td>\n",
       "      <td>0.172214</td>\n",
       "      <td>360.000000</td>\n",
       "      <td>1.000000</td>\n",
       "      <td>1.000000</td>\n",
       "      <td>1.000000</td>\n",
       "    </tr>\n",
       "    <tr>\n",
       "      <th>75%</th>\n",
       "      <td>1.000000</td>\n",
       "      <td>1.000000</td>\n",
       "      <td>2.000000</td>\n",
       "      <td>0.000000</td>\n",
       "      <td>0.000000</td>\n",
       "      <td>0.069821</td>\n",
       "      <td>0.055134</td>\n",
       "      <td>0.225398</td>\n",
       "      <td>360.000000</td>\n",
       "      <td>1.000000</td>\n",
       "      <td>2.000000</td>\n",
       "      <td>1.000000</td>\n",
       "    </tr>\n",
       "    <tr>\n",
       "      <th>max</th>\n",
       "      <td>1.000000</td>\n",
       "      <td>1.000000</td>\n",
       "      <td>3.000000</td>\n",
       "      <td>1.000000</td>\n",
       "      <td>1.000000</td>\n",
       "      <td>1.000000</td>\n",
       "      <td>1.000000</td>\n",
       "      <td>1.000000</td>\n",
       "      <td>480.000000</td>\n",
       "      <td>1.000000</td>\n",
       "      <td>2.000000</td>\n",
       "      <td>1.000000</td>\n",
       "    </tr>\n",
       "  </tbody>\n",
       "</table>\n",
       "</div>"
      ],
      "text/plain": [
       "           Gender     Married  Dependents   Education  Self_Employed  \\\n",
       "count  614.000000  614.000000  614.000000  614.000000     614.000000   \n",
       "mean     0.817590    0.653094    0.817590    0.218241       0.133550   \n",
       "std      0.386497    0.476373    1.060618    0.413389       0.340446   \n",
       "min      0.000000    0.000000    0.000000    0.000000       0.000000   \n",
       "25%      1.000000    0.000000    0.000000    0.000000       0.000000   \n",
       "50%      1.000000    1.000000    0.000000    0.000000       0.000000   \n",
       "75%      1.000000    1.000000    2.000000    0.000000       0.000000   \n",
       "max      1.000000    1.000000    3.000000    1.000000       1.000000   \n",
       "\n",
       "       ApplicantIncome  CoapplicantIncome  LoanAmount  Loan_Amount_Term  \\\n",
       "count       614.000000         614.000000  614.000000        614.000000   \n",
       "mean          0.064978           0.038910    0.197905        342.410423   \n",
       "std           0.075560           0.070229    0.121718         64.428629   \n",
       "min           0.000000           0.000000    0.000000         12.000000   \n",
       "25%           0.033735           0.000000    0.132055        360.000000   \n",
       "50%           0.045300           0.028524    0.172214        360.000000   \n",
       "75%           0.069821           0.055134    0.225398        360.000000   \n",
       "max           1.000000           1.000000    1.000000        480.000000   \n",
       "\n",
       "       Credit_History  Property_Area  Loan_Status  \n",
       "count      614.000000     614.000000   614.000000  \n",
       "mean         0.855049       1.037459     0.687296  \n",
       "std          0.352339       0.787482     0.463973  \n",
       "min          0.000000       0.000000     0.000000  \n",
       "25%          1.000000       0.000000     0.000000  \n",
       "50%          1.000000       1.000000     1.000000  \n",
       "75%          1.000000       2.000000     1.000000  \n",
       "max          1.000000       2.000000     1.000000  "
      ]
     },
     "execution_count": 42,
     "metadata": {},
     "output_type": "execute_result"
    }
   ],
   "source": [
    "data.describe()"
   ]
  },
  {
   "cell_type": "code",
   "execution_count": null,
   "metadata": {},
   "outputs": [],
   "source": [
    "#Outlier check -->Once we see the performance of classifier on that basis we will check for outlier."
   ]
  },
  {
   "cell_type": "code",
   "execution_count": 45,
   "metadata": {
    "collapsed": true
   },
   "outputs": [
    {
     "data": {
      "text/plain": [
       "0"
      ]
     },
     "execution_count": 45,
     "metadata": {},
     "output_type": "execute_result"
    }
   ],
   "source": [
    "## checking the duplicate rows\n",
    "\n",
    "#data.duplicate()\n",
    "data.duplicated().sum()"
   ]
  },
  {
   "cell_type": "markdown",
   "metadata": {
    "id": "e2gkrDzztV6T"
   },
   "source": [
    "## Feature Selection"
   ]
  },
  {
   "cell_type": "code",
   "execution_count": null,
   "metadata": {},
   "outputs": [],
   "source": [
    "# Removing redundant columns\n",
    "We can drop loan id."
   ]
  },
  {
   "cell_type": "code",
   "execution_count": 43,
   "metadata": {
    "id": "kNDP24i4tV6T"
   },
   "outputs": [],
   "source": [
    "## checking correlation\n",
    "corr_data=data[['ApplicantIncome','CoapplicantIncome','LoanAmount']]"
   ]
  },
  {
   "cell_type": "code",
   "execution_count": 44,
   "metadata": {
    "collapsed": true,
    "id": "Ba0SeqEXtV6U"
   },
   "outputs": [
    {
     "data": {
      "text/plain": [
       "<AxesSubplot:>"
      ]
     },
     "execution_count": 44,
     "metadata": {},
     "output_type": "execute_result"
    },
    {
     "data": {
      "image/png": "[encoded data removed]",
      "text/plain": [
       "<Figure size 432x288 with 2 Axes>"
      ]
     },
     "metadata": {
      "needs_background": "light"
     },
     "output_type": "display_data"
    }
   ],
   "source": [
    "sns.heatmap(corr_data.corr(),annot=True)"
   ]
  },
  {
   "cell_type": "code",
   "execution_count": null,
   "metadata": {
    "id": "Uetbf3HMtV6V"
   },
   "outputs": [],
   "source": [
    "## There is no relationship among the numerical data "
   ]
  },
  {
   "cell_type": "code",
   "execution_count": null,
   "metadata": {
    "id": "yKaEvfsItV6V"
   },
   "outputs": [],
   "source": [
    "corr_data.describe() ## no constant features"
   ]
  },
  {
   "cell_type": "code",
   "execution_count": null,
   "metadata": {
    "id": "ka5HXtV7tV6Z"
   },
   "outputs": [],
   "source": []
  },
  {
   "cell_type": "markdown",
   "metadata": {
    "id": "gDukLSkotV6a"
   },
   "source": [
    "## Model Creation"
   ]
  },
  {
   "cell_type": "code",
   "execution_count": 46,
   "metadata": {
    "collapsed": true
   },
   "outputs": [
    {
     "data": {
      "text/html": [
       "<div>\n",
       "<style scoped>\n",
       "    .dataframe tbody tr th:only-of-type {\n",
       "        vertical-align: middle;\n",
       "    }\n",
       "\n",
       "    .dataframe tbody tr th {\n",
       "        vertical-align: top;\n",
       "    }\n",
       "\n",
       "    .dataframe thead th {\n",
       "        text-align: right;\n",
       "    }\n",
       "</style>\n",
       "<table border=\"1\" class=\"dataframe\">\n",
       "  <thead>\n",
       "    <tr style=\"text-align: right;\">\n",
       "      <th></th>\n",
       "      <th>Loan_ID</th>\n",
       "      <th>Gender</th>\n",
       "      <th>Married</th>\n",
       "      <th>Dependents</th>\n",
       "      <th>Education</th>\n",
       "      <th>Self_Employed</th>\n",
       "      <th>ApplicantIncome</th>\n",
       "      <th>CoapplicantIncome</th>\n",
       "      <th>LoanAmount</th>\n",
       "      <th>Loan_Amount_Term</th>\n",
       "      <th>Credit_History</th>\n",
       "      <th>Property_Area</th>\n",
       "      <th>Loan_Status</th>\n",
       "    </tr>\n",
       "  </thead>\n",
       "  <tbody>\n",
       "    <tr>\n",
       "      <th>0</th>\n",
       "      <td>LP001002</td>\n",
       "      <td>1</td>\n",
       "      <td>0</td>\n",
       "      <td>0</td>\n",
       "      <td>0</td>\n",
       "      <td>0</td>\n",
       "      <td>0.070489</td>\n",
       "      <td>0.0</td>\n",
       "      <td>0.172214</td>\n",
       "      <td>360.0</td>\n",
       "      <td>1.0</td>\n",
       "      <td>2</td>\n",
       "      <td>1</td>\n",
       "    </tr>\n",
       "  </tbody>\n",
       "</table>\n",
       "</div>"
      ],
      "text/plain": [
       "    Loan_ID  Gender  Married  Dependents  Education  Self_Employed  \\\n",
       "0  LP001002       1        0           0          0              0   \n",
       "\n",
       "   ApplicantIncome  CoapplicantIncome  LoanAmount  Loan_Amount_Term  \\\n",
       "0         0.070489                0.0    0.172214             360.0   \n",
       "\n",
       "   Credit_History  Property_Area  Loan_Status  \n",
       "0             1.0              2            1  "
      ]
     },
     "execution_count": 46,
     "metadata": {},
     "output_type": "execute_result"
    }
   ],
   "source": [
    "data.head(1)"
   ]
  },
  {
   "cell_type": "code",
   "execution_count": 47,
   "metadata": {
    "executionInfo": {
     "elapsed": 435,
     "status": "ok",
     "timestamp": 1642344763510,
     "user": {
      "displayName": "Shubhangi Sakarkar",
      "photoUrl": "https://lh3.googleusercontent.com/a-/AOh14GjiJriRrUWKSeoxmYnVoL2uz2i6E3RLOwZgeqHG=s64",
      "userId": "12180749557274197061"
     },
     "user_tz": -330
    },
    "id": "98a1xUdntV6a"
   },
   "outputs": [],
   "source": [
    "## defining X and y\n",
    "X=data.iloc[:,1:-1]\n",
    "y=data.Loan_Status"
   ]
  },
  {
   "cell_type": "code",
   "execution_count": null,
   "metadata": {},
   "outputs": [],
   "source": [
    "X"
   ]
  },
  {
   "cell_type": "code",
   "execution_count": 48,
   "metadata": {
    "executionInfo": {
     "elapsed": 456,
     "status": "ok",
     "timestamp": 1642344821260,
     "user": {
      "displayName": "Shubhangi Sakarkar",
      "photoUrl": "https://lh3.googleusercontent.com/a-/AOh14GjiJriRrUWKSeoxmYnVoL2uz2i6E3RLOwZgeqHG=s64",
      "userId": "12180749557274197061"
     },
     "user_tz": -330
    },
    "id": "0mPjsfhJYJ2c"
   },
   "outputs": [],
   "source": [
    "## creating training and testing data\n",
    "from sklearn.model_selection import train_test_split\n",
    "X_train,X_test,y_train,y_test=train_test_split(X, y,random_state=3)"
   ]
  },
  {
   "cell_type": "code",
   "execution_count": 49,
   "metadata": {},
   "outputs": [
    {
     "data": {
      "text/plain": [
       "1    422\n",
       "0    192\n",
       "Name: Loan_Status, dtype: int64"
      ]
     },
     "execution_count": 49,
     "metadata": {},
     "output_type": "execute_result"
    }
   ],
   "source": [
    "## balancing the data\n",
    "data.Loan_Status.value_counts()"
   ]
  },
  {
   "cell_type": "code",
   "execution_count": 50,
   "metadata": {
    "executionInfo": {
     "elapsed": 1215,
     "status": "ok",
     "timestamp": 1642344829528,
     "user": {
      "displayName": "Shubhangi Sakarkar",
      "photoUrl": "https://lh3.googleusercontent.com/a-/AOh14GjiJriRrUWKSeoxmYnVoL2uz2i6E3RLOwZgeqHG=s64",
      "userId": "12180749557274197061"
     },
     "user_tz": -330
    },
    "id": "k0ctwtZ7tV6c"
   },
   "outputs": [],
   "source": [
    "# Install imblearn package - pip install imblearn\n",
    "from imblearn.over_sampling import SMOTE\n",
    "smote = SMOTE()"
   ]
  },
  {
   "cell_type": "code",
   "execution_count": 51,
   "metadata": {
    "executionInfo": {
     "elapsed": 410,
     "status": "ok",
     "timestamp": 1642344844497,
     "user": {
      "displayName": "Shubhangi Sakarkar",
      "photoUrl": "https://lh3.googleusercontent.com/a-/AOh14GjiJriRrUWKSeoxmYnVoL2uz2i6E3RLOwZgeqHG=s64",
      "userId": "12180749557274197061"
     },
     "user_tz": -330
    },
    "id": "v3TXlCyitV6c"
   },
   "outputs": [],
   "source": [
    "X_smote, y_smote = smote.fit_resample(X_train,y_train)"
   ]
  },
  {
   "cell_type": "markdown",
   "metadata": {
    "id": "bvDuIc2JtV6d"
   },
   "source": [
    "**Counter** is a container which keeps track to how many times equivalent values are added. Python counter class is a part of collections module and is a subclass of dictionary."
   ]
  },
  {
   "cell_type": "code",
   "execution_count": 52,
   "metadata": {
    "colab": {
     "base_uri": "https://localhost:8080/"
    },
    "executionInfo": {
     "elapsed": 508,
     "status": "ok",
     "timestamp": 1642344849725,
     "user": {
      "displayName": "Shubhangi Sakarkar",
      "photoUrl": "https://lh3.googleusercontent.com/a-/AOh14GjiJriRrUWKSeoxmYnVoL2uz2i6E3RLOwZgeqHG=s64",
      "userId": "12180749557274197061"
     },
     "user_tz": -330
    },
    "id": "TL38U59ptV6e",
    "outputId": "d4ac5784-d673-4f04-d74e-9ee6323663b7"
   },
   "outputs": [
    {
     "name": "stdout",
     "output_type": "stream",
     "text": [
      "Actual Classes Counter({1: 301, 0: 159})\n",
      "SMOTE Classes Counter({1: 301, 0: 301})\n"
     ]
    }
   ],
   "source": [
    "from collections import Counter\n",
    "print(\"Actual Classes\",Counter(y_train))\n",
    "print(\"SMOTE Classes\",Counter(y_smote))"
   ]
  },
  {
   "cell_type": "code",
   "execution_count": null,
   "metadata": {
    "id": "IISt5D81tV6e"
   },
   "outputs": [],
   "source": []
  },
  {
   "cell_type": "code",
   "execution_count": 53,
   "metadata": {
    "colab": {
     "base_uri": "https://localhost:8080/"
    },
    "executionInfo": {
     "elapsed": 402,
     "status": "ok",
     "timestamp": 1642344876236,
     "user": {
      "displayName": "Shubhangi Sakarkar",
      "photoUrl": "https://lh3.googleusercontent.com/a-/AOh14GjiJriRrUWKSeoxmYnVoL2uz2i6E3RLOwZgeqHG=s64",
      "userId": "12180749557274197061"
     },
     "user_tz": -330
    },
    "id": "NI4prSahtV6f",
    "outputId": "f880b2d6-6da3-44c0-e691-5220a9aff44f"
   },
   "outputs": [
    {
     "data": {
      "text/plain": [
       "SVC()"
      ]
     },
     "execution_count": 53,
     "metadata": {},
     "output_type": "execute_result"
    }
   ],
   "source": [
    "# Support Vector Classifier Model\n",
    "\n",
    "from sklearn.svm import SVC\n",
    "svclassifier = SVC() ## base model with default parameters\n",
    "svclassifier.fit(X_smote, y_smote)"
   ]
  },
  {
   "cell_type": "code",
   "execution_count": 54,
   "metadata": {
    "executionInfo": {
     "elapsed": 422,
     "status": "ok",
     "timestamp": 1642344881469,
     "user": {
      "displayName": "Shubhangi Sakarkar",
      "photoUrl": "https://lh3.googleusercontent.com/a-/AOh14GjiJriRrUWKSeoxmYnVoL2uz2i6E3RLOwZgeqHG=s64",
      "userId": "12180749557274197061"
     },
     "user_tz": -330
    },
    "id": "zMNKY_yktV6g"
   },
   "outputs": [],
   "source": [
    "# Predict output for X_test\n",
    "\n",
    "y_hat=svclassifier.predict(X_test)"
   ]
  },
  {
   "cell_type": "code",
   "execution_count": 56,
   "metadata": {
    "colab": {
     "base_uri": "https://localhost:8080/"
    },
    "executionInfo": {
     "elapsed": 414,
     "status": "ok",
     "timestamp": 1642344887404,
     "user": {
      "displayName": "Shubhangi Sakarkar",
      "photoUrl": "https://lh3.googleusercontent.com/a-/AOh14GjiJriRrUWKSeoxmYnVoL2uz2i6E3RLOwZgeqHG=s64",
      "userId": "12180749557274197061"
     },
     "user_tz": -330
    },
    "id": "6go1mkZDtV6g",
    "outputId": "c0a9d291-7a5f-4e4b-cf6f-0f2435c2395d"
   },
   "outputs": [
    {
     "data": {
      "text/plain": [
       "0.7922077922077922"
      ]
     },
     "execution_count": 56,
     "metadata": {},
     "output_type": "execute_result"
    }
   ],
   "source": [
    "## evaluating the model created\n",
    "from sklearn.metrics import accuracy_score,recall_score,precision_score,classification_report,f1_score\n",
    "acc=accuracy_score(y_test,y_hat)\n",
    "acc"
   ]
  },
  {
   "cell_type": "code",
   "execution_count": 58,
   "metadata": {},
   "outputs": [],
   "source": [
    "y_hat_training=svclassifier.predict(X_train)"
   ]
  },
  {
   "cell_type": "code",
   "execution_count": 57,
   "metadata": {
    "colab": {
     "base_uri": "https://localhost:8080/"
    },
    "executionInfo": {
     "elapsed": 363,
     "status": "ok",
     "timestamp": 1642344892372,
     "user": {
      "displayName": "Shubhangi Sakarkar",
      "photoUrl": "https://lh3.googleusercontent.com/a-/AOh14GjiJriRrUWKSeoxmYnVoL2uz2i6E3RLOwZgeqHG=s64",
      "userId": "12180749557274197061"
     },
     "user_tz": -330
    },
    "id": "rvDYV_2CtV6h",
    "outputId": "2de8255f-017e-480c-b654-ef376084b482"
   },
   "outputs": [
    {
     "name": "stdout",
     "output_type": "stream",
     "text": [
      "              precision    recall  f1-score   support\n",
      "\n",
      "           0       0.67      0.06      0.11        33\n",
      "           1       0.79      0.99      0.88       121\n",
      "\n",
      "    accuracy                           0.79       154\n",
      "   macro avg       0.73      0.53      0.50       154\n",
      "weighted avg       0.77      0.79      0.72       154\n",
      "\n"
     ]
    }
   ],
   "source": [
    "# Calssification report measures the quality of predictions. True Positives, False Positives, True negatives and False Negatives \n",
    "# are used to predict the metrics of a classification report \n",
    "\n",
    "print(classification_report(y_test,y_hat))"
   ]
  },
  {
   "cell_type": "code",
   "execution_count": 59,
   "metadata": {
    "collapsed": true
   },
   "outputs": [
    {
     "name": "stdout",
     "output_type": "stream",
     "text": [
      "              precision    recall  f1-score   support\n",
      "\n",
      "           0       0.58      0.04      0.08       159\n",
      "           1       0.66      0.98      0.79       301\n",
      "\n",
      "    accuracy                           0.66       460\n",
      "   macro avg       0.62      0.51      0.44       460\n",
      "weighted avg       0.63      0.66      0.55       460\n",
      "\n"
     ]
    }
   ],
   "source": [
    "print(classification_report(y_train,y_hat_training))"
   ]
  },
  {
   "cell_type": "code",
   "execution_count": null,
   "metadata": {
    "colab": {
     "base_uri": "https://localhost:8080/",
     "height": 142
    },
    "executionInfo": {
     "elapsed": 408,
     "status": "ok",
     "timestamp": 1642345314397,
     "user": {
      "displayName": "Shubhangi Sakarkar",
      "photoUrl": "https://lh3.googleusercontent.com/a-/AOh14GjiJriRrUWKSeoxmYnVoL2uz2i6E3RLOwZgeqHG=s64",
      "userId": "12180749557274197061"
     },
     "user_tz": -330
    },
    "id": "-miCs3xfaAx-",
    "outputId": "1936334c-33f7-4da7-da13-679967cfe797"
   },
   "outputs": [],
   "source": [
    "cm1=pd.crosstab(y_test,y_hat)\n",
    "cm1"
   ]
  },
  {
   "cell_type": "code",
   "execution_count": 61,
   "metadata": {
    "colab": {
     "base_uri": "https://localhost:8080/"
    },
    "executionInfo": {
     "elapsed": 473,
     "status": "ok",
     "timestamp": 1642344933077,
     "user": {
      "displayName": "Shubhangi Sakarkar",
      "photoUrl": "https://lh3.googleusercontent.com/a-/AOh14GjiJriRrUWKSeoxmYnVoL2uz2i6E3RLOwZgeqHG=s64",
      "userId": "12180749557274197061"
     },
     "user_tz": -330
    },
    "id": "sjY0RxITtV6i",
    "outputId": "c312894c-6601-4952-b680-1834739dd209",
    "scrolled": true
   },
   "outputs": [
    {
     "data": {
      "text/plain": [
       "0.8823529411764707"
      ]
     },
     "execution_count": 61,
     "metadata": {},
     "output_type": "execute_result"
    }
   ],
   "source": [
    "# F1 score considers both Precision and Recall for evaluating a model\n",
    "f1=f1_score(y_test,y_hat)\n",
    "f1"
   ]
  },
  {
   "cell_type": "code",
   "execution_count": 60,
   "metadata": {
    "colab": {
     "base_uri": "https://localhost:8080/"
    },
    "executionInfo": {
     "elapsed": 380,
     "status": "ok",
     "timestamp": 1642344943722,
     "user": {
      "displayName": "Shubhangi Sakarkar",
      "photoUrl": "https://lh3.googleusercontent.com/a-/AOh14GjiJriRrUWKSeoxmYnVoL2uz2i6E3RLOwZgeqHG=s64",
      "userId": "12180749557274197061"
     },
     "user_tz": -330
    },
    "id": "2HBnMx7otV6l",
    "outputId": "a0b49125-2dfe-480d-c0cc-8f060c67ee0f"
   },
   "outputs": [
    {
     "name": "stdout",
     "output_type": "stream",
     "text": [
      "[0.8150289  0.8150289  0.81395349]\n",
      "Cross validation Score: 0.8146704306134337\n",
      "Std : 0.0005069547205710685\n"
     ]
    }
   ],
   "source": [
    "## checking cross validation score\n",
    "from sklearn.model_selection import cross_val_score\n",
    "scores = cross_val_score(svclassifier,X,y,cv=3,scoring='f1')\n",
    "print(scores)\n",
    "print(\"Cross validation Score:\",scores.mean())\n",
    "print(\"Std :\",scores.std())\n",
    "#std of < 0.05 is good. "
   ]
  },
  {
   "cell_type": "markdown",
   "metadata": {
    "id": "PGlLFlEEtV6p"
   },
   "source": [
    "## What is a Model Hyperparameter?\n",
    "\n",
    "A model hyperparameter is a configuration that is external to the model and whose value cannot be estimated from data.\n",
    "\n"
   ]
  },
  {
   "cell_type": "markdown",
   "metadata": {
    "id": "i_Beh7oftV6q"
   },
   "source": [
    "## Hyperparameters of Support Vector Machine"
   ]
  },
  {
   "cell_type": "markdown",
   "metadata": {
    "id": "a5rJZqB3tV6r"
   },
   "source": [
    "#### SVM separates data points that belong to different classes with a decision boundary. When determining the decision boundary, a soft margin SVM (soft margin means allowing some data points to be misclassified) tries to solve an optimization problem with the following goals:\n",
    "\n",
    "#### 1)Increase the distance of decision boundary to classes (or support vectors)\n",
    "#### 2)Maximize the number of points that are correctly classified in the training set"
   ]
  },
  {
   "cell_type": "markdown",
   "metadata": {
    "id": "j8EQN0q4tV6r"
   },
   "source": [
    "### There is obviously a trade-off between these two goals which and it is controlled by C which adds a penalty for each misclassified data point.\n",
    "\n",
    "### If C is small, the penalty for misclassified points is low so a decision boundary with a large margin is chosen at the expense of a greater number of misclassification.\n",
    "\n",
    "### If C is large, SVM tries to minimize the number of misclassified examples due to the high penalty which results in a decision boundary with a smaller margin. The penalty is not the same for all misclassified examples. It is directly proportional to the distance to the decision boundary."
   ]
  },
  {
   "cell_type": "markdown",
   "metadata": {
    "id": "7pweK7oKtV6s"
   },
   "source": [
    "<img src='1_XFtyzSNjexMecQ4wmqBfgA.PNG'  width=\"300\">"
   ]
  },
  {
   "cell_type": "markdown",
   "metadata": {
    "id": "dCo_UHDStV6t"
   },
   "source": [
    "<img src='1_k4wh7vzjDbQWXx7wKyH0kg.PNG'  width=\"600\">\n",
    "\n"
   ]
  },
  {
   "cell_type": "markdown",
   "metadata": {
    "id": "2FKrgbUytV6t"
   },
   "source": [
    "### Gamma is a hyperparameter used with non-linear SVM. One of the most commonly used non-linear kernels is the radial basis function (RBF). Gamma parameter of RBF controls the distance of the influence of a single training point.\n",
    "\n",
    "### Low values of gamma indicate a large similarity radius which results in more points being grouped together. \n",
    "\n",
    "### For high values of gamma, the points need to be very close to each other in order to be considered in the same group (or class). Therefore, models with very large gamma values tend to overfit."
   ]
  },
  {
   "cell_type": "markdown",
   "metadata": {
    "id": "mmp_5TfMtV6v"
   },
   "source": [
    "<img src='1_JDSwT-svWnAu69fy9oguBw.png' width=\"600\">"
   ]
  },
  {
   "cell_type": "markdown",
   "metadata": {
    "id": "JLQoomE2tV6w"
   },
   "source": [
    "\n",
    "<img src='1_faj7x1I0uFwfU6mkLfUwvg.png' width=\"600\">"
   ]
  },
  {
   "cell_type": "markdown",
   "metadata": {},
   "source": [
    "<img src='1_5DtPKUzLI1e-FIjC-odFiw.png' width=\"600\">"
   ]
  },
  {
   "cell_type": "markdown",
   "metadata": {
    "id": "_GGyd8G3tV6w"
   },
   "source": [
    "## GridSearchCV"
   ]
  },
  {
   "cell_type": "markdown",
   "metadata": {
    "id": "MOv9QRY6tV6x"
   },
   "source": [
    "#### It is the process of performing hyperparameter tuning in order to determine the optimal values for a given model. As mentioned above, the performance of a model significantly depends on the value of hyperparameters\n",
    "\n",
    "#### Doing this manually could take a considerable amount of time and resources and thus we use GridSearchCV to automate the tuning of hyperparameters."
   ]
  },
  {
   "cell_type": "markdown",
   "metadata": {
    "id": "zIyxgoiotV6x"
   },
   "source": [
    "#### GridSearchCV tries all the combinations of the values passed in the dictionary and evaluates the model for each combination using the Cross-Validation method. Hence after using this function we get accuracy/loss for every combination of hyperparameters and we can choose the one with the best performance."
   ]
  },
  {
   "cell_type": "code",
   "execution_count": 67,
   "metadata": {
    "collapsed": true,
    "id": "tdFjF4iHtV6y"
   },
   "outputs": [
    {
     "name": "stdout",
     "output_type": "stream",
     "text": [
      "Fitting 5 folds for each of 475 candidates, totalling 2375 fits\n",
      "[CV] END .....................C=0.1, gamma=1, random_state=1; total time=   0.0s\n",
      "[CV] END .....................C=0.1, gamma=1, random_state=1; total time=   0.0s\n",
      "[CV] END .....................C=0.1, gamma=1, random_state=1; total time=   0.0s\n",
      "[CV] END .....................C=0.1, gamma=1, random_state=1; total time=   0.0s\n",
      "[CV] END .....................C=0.1, gamma=1, random_state=1; total time=   0.0s\n",
      "[CV] END .....................C=0.1, gamma=1, random_state=2; total time=   0.0s\n",
      "[CV] END .....................C=0.1, gamma=1, random_state=2; total time=   0.0s\n",
      "[CV] END .....................C=0.1, gamma=1, random_state=2; total time=   0.0s\n",
      "[CV] END .....................C=0.1, gamma=1, random_state=2; total time=   0.0s\n",
      "[CV] END .....................C=0.1, gamma=1, random_state=2; total time=   0.0s\n",
      "[CV] END .....................C=0.1, gamma=1, random_state=3; total time=   0.0s\n",
      "[CV] END .....................C=0.1, gamma=1, random_state=3; total time=   0.0s\n",
      "[CV] END .....................C=0.1, gamma=1, random_state=3; total time=   0.0s\n",
      "[CV] END .....................C=0.1, gamma=1, random_state=3; total time=   0.0s\n",
      "[CV] END .....................C=0.1, gamma=1, random_state=3; total time=   0.0s\n",
      "[CV] END .....................C=0.1, gamma=1, random_state=4; total time=   0.0s\n",
      "[CV] END .....................C=0.1, gamma=1, random_state=4; total time=   0.0s\n",
      "[CV] END .....................C=0.1, gamma=1, random_state=4; total time=   0.0s\n",
      "[CV] END .....................C=0.1, gamma=1, random_state=4; total time=   0.0s\n",
      "[CV] END .....................C=0.1, gamma=1, random_state=4; total time=   0.0s\n",
      "[CV] END .....................C=0.1, gamma=1, random_state=5; total time=   0.0s\n",
      "[CV] END .....................C=0.1, gamma=1, random_state=5; total time=   0.0s\n",
      "[CV] END .....................C=0.1, gamma=1, random_state=5; total time=   0.0s\n",
      "[CV] END .....................C=0.1, gamma=1, random_state=5; total time=   0.0s\n",
      "[CV] END .....................C=0.1, gamma=1, random_state=5; total time=   0.0s\n",
      "[CV] END .....................C=0.1, gamma=1, random_state=6; total time=   0.0s\n",
      "[CV] END .....................C=0.1, gamma=1, random_state=6; total time=   0.0s\n",
      "[CV] END .....................C=0.1, gamma=1, random_state=6; total time=   0.0s\n",
      "[CV] END .....................C=0.1, gamma=1, random_state=6; total time=   0.0s\n",
      "[CV] END .....................C=0.1, gamma=1, random_state=6; total time=   0.0s\n",
      "[CV] END .....................C=0.1, gamma=1, random_state=7; total time=   0.0s\n",
      "[CV] END .....................C=0.1, gamma=1, random_state=7; total time=   0.0s\n",
      "[CV] END .....................C=0.1, gamma=1, random_state=7; total time=   0.0s\n",
      "[CV] END .....................C=0.1, gamma=1, random_state=7; total time=   0.0s\n",
      "[CV] END .....................C=0.1, gamma=1, random_state=7; total time=   0.0s\n",
      "[CV] END .....................C=0.1, gamma=1, random_state=8; total time=   0.0s\n",
      "[CV] END .....................C=0.1, gamma=1, random_state=8; total time=   0.0s\n",
      "[CV] END .....................C=0.1, gamma=1, random_state=8; total time=   0.0s\n",
      "[CV] END .....................C=0.1, gamma=1, random_state=8; total time=   0.0s\n",
      "[CV] END .....................C=0.1, gamma=1, random_state=8; total time=   0.0s\n",
      "[CV] END .....................C=0.1, gamma=1, random_state=9; total time=   0.0s\n",
      "[CV] END .....................C=0.1, gamma=1, random_state=9; total time=   0.0s\n",
      "[CV] END .....................C=0.1, gamma=1, random_state=9; total time=   0.0s\n",
      "[CV] END .....................C=0.1, gamma=1, random_state=9; total time=   0.0s\n",
      "[CV] END .....................C=0.1, gamma=1, random_state=9; total time=   0.0s\n",
      "[CV] END ....................C=0.1, gamma=1, random_state=10; total time=   0.0s\n",
      "[CV] END ....................C=0.1, gamma=1, random_state=10; total time=   0.0s\n",
      "[CV] END ....................C=0.1, gamma=1, random_state=10; total time=   0.0s\n",
      "[CV] END ....................C=0.1, gamma=1, random_state=10; total time=   0.0s\n",
      "[CV] END ....................C=0.1, gamma=1, random_state=10; total time=   0.1s\n",
      "[CV] END ....................C=0.1, gamma=1, random_state=11; total time=   0.0s\n",
      "[CV] END ....................C=0.1, gamma=1, random_state=11; total time=   0.0s\n",
      "[CV] END ....................C=0.1, gamma=1, random_state=11; total time=   0.0s\n",
      "[CV] END ....................C=0.1, gamma=1, random_state=11; total time=   0.0s\n",
      "[CV] END ....................C=0.1, gamma=1, random_state=11; total time=   0.0s\n",
      "[CV] END ....................C=0.1, gamma=1, random_state=12; total time=   0.0s\n",
      "[CV] END ....................C=0.1, gamma=1, random_state=12; total time=   0.0s\n",
      "[CV] END ....................C=0.1, gamma=1, random_state=12; total time=   0.0s\n",
      "[CV] END ....................C=0.1, gamma=1, random_state=12; total time=   0.0s\n",
      "[CV] END ....................C=0.1, gamma=1, random_state=12; total time=   0.0s\n",
      "[CV] END ....................C=0.1, gamma=1, random_state=13; total time=   0.0s\n",
      "[CV] END ....................C=0.1, gamma=1, random_state=13; total time=   0.0s\n",
      "[CV] END ....................C=0.1, gamma=1, random_state=13; total time=   0.0s\n",
      "[CV] END ....................C=0.1, gamma=1, random_state=13; total time=   0.0s\n",
      "[CV] END ....................C=0.1, gamma=1, random_state=13; total time=   0.0s\n",
      "[CV] END ....................C=0.1, gamma=1, random_state=14; total time=   0.0s\n",
      "[CV] END ....................C=0.1, gamma=1, random_state=14; total time=   0.0s\n",
      "[CV] END ....................C=0.1, gamma=1, random_state=14; total time=   0.0s\n",
      "[CV] END ....................C=0.1, gamma=1, random_state=14; total time=   0.0s\n",
      "[CV] END ....................C=0.1, gamma=1, random_state=14; total time=   0.0s\n",
      "[CV] END ....................C=0.1, gamma=1, random_state=15; total time=   0.0s\n",
      "[CV] END ....................C=0.1, gamma=1, random_state=15; total time=   0.0s\n",
      "[CV] END ....................C=0.1, gamma=1, random_state=15; total time=   0.0s\n",
      "[CV] END ....................C=0.1, gamma=1, random_state=15; total time=   0.0s\n",
      "[CV] END ....................C=0.1, gamma=1, random_state=15; total time=   0.0s\n",
      "[CV] END ....................C=0.1, gamma=1, random_state=16; total time=   0.0s\n",
      "[CV] END ....................C=0.1, gamma=1, random_state=16; total time=   0.0s\n",
      "[CV] END ....................C=0.1, gamma=1, random_state=16; total time=   0.0s\n",
      "[CV] END ....................C=0.1, gamma=1, random_state=16; total time=   0.0s\n",
      "[CV] END ....................C=0.1, gamma=1, random_state=16; total time=   0.0s\n",
      "[CV] END ....................C=0.1, gamma=1, random_state=17; total time=   0.0s\n",
      "[CV] END ....................C=0.1, gamma=1, random_state=17; total time=   0.0s\n",
      "[CV] END ....................C=0.1, gamma=1, random_state=17; total time=   0.0s\n",
      "[CV] END ....................C=0.1, gamma=1, random_state=17; total time=   0.0s\n",
      "[CV] END ....................C=0.1, gamma=1, random_state=17; total time=   0.0s\n",
      "[CV] END ....................C=0.1, gamma=1, random_state=18; total time=   0.0s\n",
      "[CV] END ....................C=0.1, gamma=1, random_state=18; total time=   0.0s\n",
      "[CV] END ....................C=0.1, gamma=1, random_state=18; total time=   0.0s\n",
      "[CV] END ....................C=0.1, gamma=1, random_state=18; total time=   0.0s\n",
      "[CV] END ....................C=0.1, gamma=1, random_state=18; total time=   0.0s\n",
      "[CV] END ....................C=0.1, gamma=1, random_state=19; total time=   0.0s\n",
      "[CV] END ....................C=0.1, gamma=1, random_state=19; total time=   0.0s\n",
      "[CV] END ....................C=0.1, gamma=1, random_state=19; total time=   0.0s\n",
      "[CV] END ....................C=0.1, gamma=1, random_state=19; total time=   0.0s\n",
      "[CV] END ....................C=0.1, gamma=1, random_state=19; total time=   0.0s\n",
      "[CV] END ...................C=0.1, gamma=0.1, random_state=1; total time=   0.0s\n",
      "[CV] END ...................C=0.1, gamma=0.1, random_state=1; total time=   0.0s\n",
      "[CV] END ...................C=0.1, gamma=0.1, random_state=1; total time=   0.0s\n",
      "[CV] END ...................C=0.1, gamma=0.1, random_state=1; total time=   0.0s\n",
      "[CV] END ...................C=0.1, gamma=0.1, random_state=1; total time=   0.0s\n",
      "[CV] END ...................C=0.1, gamma=0.1, random_state=2; total time=   0.0s\n",
      "[CV] END ...................C=0.1, gamma=0.1, random_state=2; total time=   0.0s\n"
     ]
    },
    {
     "name": "stdout",
     "output_type": "stream",
     "text": [
      "[CV] END ...................C=0.1, gamma=0.1, random_state=2; total time=   0.0s\n",
      "[CV] END ...................C=0.1, gamma=0.1, random_state=2; total time=   0.0s\n",
      "[CV] END ...................C=0.1, gamma=0.1, random_state=2; total time=   0.0s\n",
      "[CV] END ...................C=0.1, gamma=0.1, random_state=3; total time=   0.0s\n",
      "[CV] END ...................C=0.1, gamma=0.1, random_state=3; total time=   0.0s\n",
      "[CV] END ...................C=0.1, gamma=0.1, random_state=3; total time=   0.0s\n",
      "[CV] END ...................C=0.1, gamma=0.1, random_state=3; total time=   0.0s\n",
      "[CV] END ...................C=0.1, gamma=0.1, random_state=3; total time=   0.0s\n",
      "[CV] END ...................C=0.1, gamma=0.1, random_state=4; total time=   0.0s\n",
      "[CV] END ...................C=0.1, gamma=0.1, random_state=4; total time=   0.0s\n",
      "[CV] END ...................C=0.1, gamma=0.1, random_state=4; total time=   0.0s\n",
      "[CV] END ...................C=0.1, gamma=0.1, random_state=4; total time=   0.0s\n",
      "[CV] END ...................C=0.1, gamma=0.1, random_state=4; total time=   0.0s\n",
      "[CV] END ...................C=0.1, gamma=0.1, random_state=5; total time=   0.0s\n",
      "[CV] END ...................C=0.1, gamma=0.1, random_state=5; total time=   0.0s\n",
      "[CV] END ...................C=0.1, gamma=0.1, random_state=5; total time=   0.0s\n",
      "[CV] END ...................C=0.1, gamma=0.1, random_state=5; total time=   0.0s\n",
      "[CV] END ...................C=0.1, gamma=0.1, random_state=5; total time=   0.0s\n",
      "[CV] END ...................C=0.1, gamma=0.1, random_state=6; total time=   0.0s\n",
      "[CV] END ...................C=0.1, gamma=0.1, random_state=6; total time=   0.0s\n",
      "[CV] END ...................C=0.1, gamma=0.1, random_state=6; total time=   0.0s\n",
      "[CV] END ...................C=0.1, gamma=0.1, random_state=6; total time=   0.0s\n",
      "[CV] END ...................C=0.1, gamma=0.1, random_state=6; total time=   0.0s\n",
      "[CV] END ...................C=0.1, gamma=0.1, random_state=7; total time=   0.0s\n",
      "[CV] END ...................C=0.1, gamma=0.1, random_state=7; total time=   0.0s\n",
      "[CV] END ...................C=0.1, gamma=0.1, random_state=7; total time=   0.0s\n",
      "[CV] END ...................C=0.1, gamma=0.1, random_state=7; total time=   0.0s\n",
      "[CV] END ...................C=0.1, gamma=0.1, random_state=7; total time=   0.0s\n",
      "[CV] END ...................C=0.1, gamma=0.1, random_state=8; total time=   0.0s\n",
      "[CV] END ...................C=0.1, gamma=0.1, random_state=8; total time=   0.0s\n",
      "[CV] END ...................C=0.1, gamma=0.1, random_state=8; total time=   0.0s\n",
      "[CV] END ...................C=0.1, gamma=0.1, random_state=8; total time=   0.0s\n",
      "[CV] END ...................C=0.1, gamma=0.1, random_state=8; total time=   0.0s\n",
      "[CV] END ...................C=0.1, gamma=0.1, random_state=9; total time=   0.0s\n",
      "[CV] END ...................C=0.1, gamma=0.1, random_state=9; total time=   0.0s\n",
      "[CV] END ...................C=0.1, gamma=0.1, random_state=9; total time=   0.0s\n",
      "[CV] END ...................C=0.1, gamma=0.1, random_state=9; total time=   0.0s\n",
      "[CV] END ...................C=0.1, gamma=0.1, random_state=9; total time=   0.0s\n",
      "[CV] END ..................C=0.1, gamma=0.1, random_state=10; total time=   0.0s\n",
      "[CV] END ..................C=0.1, gamma=0.1, random_state=10; total time=   0.0s\n",
      "[CV] END ..................C=0.1, gamma=0.1, random_state=10; total time=   0.0s\n",
      "[CV] END ..................C=0.1, gamma=0.1, random_state=10; total time=   0.0s\n",
      "[CV] END ..................C=0.1, gamma=0.1, random_state=10; total time=   0.0s\n",
      "[CV] END ..................C=0.1, gamma=0.1, random_state=11; total time=   0.0s\n",
      "[CV] END ..................C=0.1, gamma=0.1, random_state=11; total time=   0.0s\n",
      "[CV] END ..................C=0.1, gamma=0.1, random_state=11; total time=   0.0s\n",
      "[CV] END ..................C=0.1, gamma=0.1, random_state=11; total time=   0.0s\n",
      "[CV] END ..................C=0.1, gamma=0.1, random_state=11; total time=   0.0s\n",
      "[CV] END ..................C=0.1, gamma=0.1, random_state=12; total time=   0.0s\n",
      "[CV] END ..................C=0.1, gamma=0.1, random_state=12; total time=   0.0s\n",
      "[CV] END ..................C=0.1, gamma=0.1, random_state=12; total time=   0.0s\n",
      "[CV] END ..................C=0.1, gamma=0.1, random_state=12; total time=   0.0s\n",
      "[CV] END ..................C=0.1, gamma=0.1, random_state=12; total time=   0.0s\n",
      "[CV] END ..................C=0.1, gamma=0.1, random_state=13; total time=   0.0s\n",
      "[CV] END ..................C=0.1, gamma=0.1, random_state=13; total time=   0.0s\n",
      "[CV] END ..................C=0.1, gamma=0.1, random_state=13; total time=   0.0s\n",
      "[CV] END ..................C=0.1, gamma=0.1, random_state=13; total time=   0.0s\n",
      "[CV] END ..................C=0.1, gamma=0.1, random_state=13; total time=   0.0s\n",
      "[CV] END ..................C=0.1, gamma=0.1, random_state=14; total time=   0.0s\n",
      "[CV] END ..................C=0.1, gamma=0.1, random_state=14; total time=   0.0s\n",
      "[CV] END ..................C=0.1, gamma=0.1, random_state=14; total time=   0.0s\n",
      "[CV] END ..................C=0.1, gamma=0.1, random_state=14; total time=   0.0s\n",
      "[CV] END ..................C=0.1, gamma=0.1, random_state=14; total time=   0.0s\n",
      "[CV] END ..................C=0.1, gamma=0.1, random_state=15; total time=   0.0s\n",
      "[CV] END ..................C=0.1, gamma=0.1, random_state=15; total time=   0.0s\n",
      "[CV] END ..................C=0.1, gamma=0.1, random_state=15; total time=   0.0s\n",
      "[CV] END ..................C=0.1, gamma=0.1, random_state=15; total time=   0.0s\n",
      "[CV] END ..................C=0.1, gamma=0.1, random_state=15; total time=   0.0s\n",
      "[CV] END ..................C=0.1, gamma=0.1, random_state=16; total time=   0.0s\n",
      "[CV] END ..................C=0.1, gamma=0.1, random_state=16; total time=   0.0s\n",
      "[CV] END ..................C=0.1, gamma=0.1, random_state=16; total time=   0.0s\n",
      "[CV] END ..................C=0.1, gamma=0.1, random_state=16; total time=   0.0s\n",
      "[CV] END ..................C=0.1, gamma=0.1, random_state=16; total time=   0.0s\n",
      "[CV] END ..................C=0.1, gamma=0.1, random_state=17; total time=   0.0s\n",
      "[CV] END ..................C=0.1, gamma=0.1, random_state=17; total time=   0.0s\n",
      "[CV] END ..................C=0.1, gamma=0.1, random_state=17; total time=   0.0s\n",
      "[CV] END ..................C=0.1, gamma=0.1, random_state=17; total time=   0.0s\n",
      "[CV] END ..................C=0.1, gamma=0.1, random_state=17; total time=   0.0s\n",
      "[CV] END ..................C=0.1, gamma=0.1, random_state=18; total time=   0.0s\n",
      "[CV] END ..................C=0.1, gamma=0.1, random_state=18; total time=   0.0s\n",
      "[CV] END ..................C=0.1, gamma=0.1, random_state=18; total time=   0.0s\n",
      "[CV] END ..................C=0.1, gamma=0.1, random_state=18; total time=   0.0s\n",
      "[CV] END ..................C=0.1, gamma=0.1, random_state=18; total time=   0.0s\n",
      "[CV] END ..................C=0.1, gamma=0.1, random_state=19; total time=   0.0s\n",
      "[CV] END ..................C=0.1, gamma=0.1, random_state=19; total time=   0.0s\n",
      "[CV] END ..................C=0.1, gamma=0.1, random_state=19; total time=   0.0s\n",
      "[CV] END ..................C=0.1, gamma=0.1, random_state=19; total time=   0.0s\n",
      "[CV] END ..................C=0.1, gamma=0.1, random_state=19; total time=   0.0s\n",
      "[CV] END ..................C=0.1, gamma=0.01, random_state=1; total time=   0.0s\n",
      "[CV] END ..................C=0.1, gamma=0.01, random_state=1; total time=   0.0s\n",
      "[CV] END ..................C=0.1, gamma=0.01, random_state=1; total time=   0.0s\n",
      "[CV] END ..................C=0.1, gamma=0.01, random_state=1; total time=   0.0s\n",
      "[CV] END ..................C=0.1, gamma=0.01, random_state=1; total time=   0.0s\n",
      "[CV] END ..................C=0.1, gamma=0.01, random_state=2; total time=   0.0s\n",
      "[CV] END ..................C=0.1, gamma=0.01, random_state=2; total time=   0.0s\n",
      "[CV] END ..................C=0.1, gamma=0.01, random_state=2; total time=   0.0s\n",
      "[CV] END ..................C=0.1, gamma=0.01, random_state=2; total time=   0.0s\n",
      "[CV] END ..................C=0.1, gamma=0.01, random_state=2; total time=   0.0s\n",
      "[CV] END ..................C=0.1, gamma=0.01, random_state=3; total time=   0.0s\n",
      "[CV] END ..................C=0.1, gamma=0.01, random_state=3; total time=   0.0s\n",
      "[CV] END ..................C=0.1, gamma=0.01, random_state=3; total time=   0.0s\n",
      "[CV] END ..................C=0.1, gamma=0.01, random_state=3; total time=   0.0s\n",
      "[CV] END ..................C=0.1, gamma=0.01, random_state=3; total time=   0.0s\n",
      "[CV] END ..................C=0.1, gamma=0.01, random_state=4; total time=   0.0s\n",
      "[CV] END ..................C=0.1, gamma=0.01, random_state=4; total time=   0.0s\n",
      "[CV] END ..................C=0.1, gamma=0.01, random_state=4; total time=   0.0s\n",
      "[CV] END ..................C=0.1, gamma=0.01, random_state=4; total time=   0.0s\n",
      "[CV] END ..................C=0.1, gamma=0.01, random_state=4; total time=   0.0s\n",
      "[CV] END ..................C=0.1, gamma=0.01, random_state=5; total time=   0.0s\n"
     ]
    },
    {
     "name": "stdout",
     "output_type": "stream",
     "text": [
      "[CV] END ..................C=0.1, gamma=0.01, random_state=5; total time=   0.0s\n",
      "[CV] END ..................C=0.1, gamma=0.01, random_state=5; total time=   0.0s\n",
      "[CV] END ..................C=0.1, gamma=0.01, random_state=5; total time=   0.0s\n",
      "[CV] END ..................C=0.1, gamma=0.01, random_state=5; total time=   0.0s\n",
      "[CV] END ..................C=0.1, gamma=0.01, random_state=6; total time=   0.0s\n",
      "[CV] END ..................C=0.1, gamma=0.01, random_state=6; total time=   0.0s\n",
      "[CV] END ..................C=0.1, gamma=0.01, random_state=6; total time=   0.0s\n",
      "[CV] END ..................C=0.1, gamma=0.01, random_state=6; total time=   0.0s\n",
      "[CV] END ..................C=0.1, gamma=0.01, random_state=6; total time=   0.0s\n",
      "[CV] END ..................C=0.1, gamma=0.01, random_state=7; total time=   0.0s\n",
      "[CV] END ..................C=0.1, gamma=0.01, random_state=7; total time=   0.0s\n",
      "[CV] END ..................C=0.1, gamma=0.01, random_state=7; total time=   0.0s\n",
      "[CV] END ..................C=0.1, gamma=0.01, random_state=7; total time=   0.0s\n",
      "[CV] END ..................C=0.1, gamma=0.01, random_state=7; total time=   0.0s\n",
      "[CV] END ..................C=0.1, gamma=0.01, random_state=8; total time=   0.0s\n",
      "[CV] END ..................C=0.1, gamma=0.01, random_state=8; total time=   0.0s\n",
      "[CV] END ..................C=0.1, gamma=0.01, random_state=8; total time=   0.0s\n",
      "[CV] END ..................C=0.1, gamma=0.01, random_state=8; total time=   0.0s\n",
      "[CV] END ..................C=0.1, gamma=0.01, random_state=8; total time=   0.0s\n",
      "[CV] END ..................C=0.1, gamma=0.01, random_state=9; total time=   0.0s\n",
      "[CV] END ..................C=0.1, gamma=0.01, random_state=9; total time=   0.0s\n",
      "[CV] END ..................C=0.1, gamma=0.01, random_state=9; total time=   0.0s\n",
      "[CV] END ..................C=0.1, gamma=0.01, random_state=9; total time=   0.0s\n",
      "[CV] END ..................C=0.1, gamma=0.01, random_state=9; total time=   0.0s\n",
      "[CV] END .................C=0.1, gamma=0.01, random_state=10; total time=   0.0s\n",
      "[CV] END .................C=0.1, gamma=0.01, random_state=10; total time=   0.0s\n",
      "[CV] END .................C=0.1, gamma=0.01, random_state=10; total time=   0.0s\n",
      "[CV] END .................C=0.1, gamma=0.01, random_state=10; total time=   0.0s\n",
      "[CV] END .................C=0.1, gamma=0.01, random_state=10; total time=   0.0s\n",
      "[CV] END .................C=0.1, gamma=0.01, random_state=11; total time=   0.0s\n",
      "[CV] END .................C=0.1, gamma=0.01, random_state=11; total time=   0.0s\n",
      "[CV] END .................C=0.1, gamma=0.01, random_state=11; total time=   0.0s\n",
      "[CV] END .................C=0.1, gamma=0.01, random_state=11; total time=   0.0s\n",
      "[CV] END .................C=0.1, gamma=0.01, random_state=11; total time=   0.0s\n",
      "[CV] END .................C=0.1, gamma=0.01, random_state=12; total time=   0.0s\n",
      "[CV] END .................C=0.1, gamma=0.01, random_state=12; total time=   0.0s\n",
      "[CV] END .................C=0.1, gamma=0.01, random_state=12; total time=   0.0s\n",
      "[CV] END .................C=0.1, gamma=0.01, random_state=12; total time=   0.0s\n",
      "[CV] END .................C=0.1, gamma=0.01, random_state=12; total time=   0.0s\n",
      "[CV] END .................C=0.1, gamma=0.01, random_state=13; total time=   0.0s\n",
      "[CV] END .................C=0.1, gamma=0.01, random_state=13; total time=   0.0s\n",
      "[CV] END .................C=0.1, gamma=0.01, random_state=13; total time=   0.0s\n",
      "[CV] END .................C=0.1, gamma=0.01, random_state=13; total time=   0.0s\n",
      "[CV] END .................C=0.1, gamma=0.01, random_state=13; total time=   0.0s\n",
      "[CV] END .................C=0.1, gamma=0.01, random_state=14; total time=   0.0s\n",
      "[CV] END .................C=0.1, gamma=0.01, random_state=14; total time=   0.0s\n",
      "[CV] END .................C=0.1, gamma=0.01, random_state=14; total time=   0.0s\n",
      "[CV] END .................C=0.1, gamma=0.01, random_state=14; total time=   0.0s\n",
      "[CV] END .................C=0.1, gamma=0.01, random_state=14; total time=   0.0s\n",
      "[CV] END .................C=0.1, gamma=0.01, random_state=15; total time=   0.0s\n",
      "[CV] END .................C=0.1, gamma=0.01, random_state=15; total time=   0.0s\n",
      "[CV] END .................C=0.1, gamma=0.01, random_state=15; total time=   0.0s\n",
      "[CV] END .................C=0.1, gamma=0.01, random_state=15; total time=   0.0s\n",
      "[CV] END .................C=0.1, gamma=0.01, random_state=15; total time=   0.0s\n",
      "[CV] END .................C=0.1, gamma=0.01, random_state=16; total time=   0.0s\n",
      "[CV] END .................C=0.1, gamma=0.01, random_state=16; total time=   0.0s\n",
      "[CV] END .................C=0.1, gamma=0.01, random_state=16; total time=   0.0s\n",
      "[CV] END .................C=0.1, gamma=0.01, random_state=16; total time=   0.0s\n",
      "[CV] END .................C=0.1, gamma=0.01, random_state=16; total time=   0.0s\n",
      "[CV] END .................C=0.1, gamma=0.01, random_state=17; total time=   0.0s\n",
      "[CV] END .................C=0.1, gamma=0.01, random_state=17; total time=   0.0s\n",
      "[CV] END .................C=0.1, gamma=0.01, random_state=17; total time=   0.0s\n",
      "[CV] END .................C=0.1, gamma=0.01, random_state=17; total time=   0.0s\n",
      "[CV] END .................C=0.1, gamma=0.01, random_state=17; total time=   0.0s\n",
      "[CV] END .................C=0.1, gamma=0.01, random_state=18; total time=   0.0s\n",
      "[CV] END .................C=0.1, gamma=0.01, random_state=18; total time=   0.0s\n",
      "[CV] END .................C=0.1, gamma=0.01, random_state=18; total time=   0.0s\n",
      "[CV] END .................C=0.1, gamma=0.01, random_state=18; total time=   0.0s\n",
      "[CV] END .................C=0.1, gamma=0.01, random_state=18; total time=   0.0s\n",
      "[CV] END .................C=0.1, gamma=0.01, random_state=19; total time=   0.0s\n",
      "[CV] END .................C=0.1, gamma=0.01, random_state=19; total time=   0.0s\n",
      "[CV] END .................C=0.1, gamma=0.01, random_state=19; total time=   0.0s\n",
      "[CV] END .................C=0.1, gamma=0.01, random_state=19; total time=   0.0s\n",
      "[CV] END .................C=0.1, gamma=0.01, random_state=19; total time=   0.0s\n",
      "[CV] END .................C=0.1, gamma=0.001, random_state=1; total time=   0.0s\n",
      "[CV] END .................C=0.1, gamma=0.001, random_state=1; total time=   0.0s\n",
      "[CV] END .................C=0.1, gamma=0.001, random_state=1; total time=   0.0s\n",
      "[CV] END .................C=0.1, gamma=0.001, random_state=1; total time=   0.0s\n",
      "[CV] END .................C=0.1, gamma=0.001, random_state=1; total time=   0.0s\n",
      "[CV] END .................C=0.1, gamma=0.001, random_state=2; total time=   0.0s\n",
      "[CV] END .................C=0.1, gamma=0.001, random_state=2; total time=   0.0s\n",
      "[CV] END .................C=0.1, gamma=0.001, random_state=2; total time=   0.0s\n",
      "[CV] END .................C=0.1, gamma=0.001, random_state=2; total time=   0.0s\n",
      "[CV] END .................C=0.1, gamma=0.001, random_state=2; total time=   0.0s\n",
      "[CV] END .................C=0.1, gamma=0.001, random_state=3; total time=   0.0s\n",
      "[CV] END .................C=0.1, gamma=0.001, random_state=3; total time=   0.0s\n",
      "[CV] END .................C=0.1, gamma=0.001, random_state=3; total time=   0.0s\n",
      "[CV] END .................C=0.1, gamma=0.001, random_state=3; total time=   0.0s\n",
      "[CV] END .................C=0.1, gamma=0.001, random_state=3; total time=   0.0s\n",
      "[CV] END .................C=0.1, gamma=0.001, random_state=4; total time=   0.0s\n",
      "[CV] END .................C=0.1, gamma=0.001, random_state=4; total time=   0.0s\n",
      "[CV] END .................C=0.1, gamma=0.001, random_state=4; total time=   0.0s\n",
      "[CV] END .................C=0.1, gamma=0.001, random_state=4; total time=   0.0s\n",
      "[CV] END .................C=0.1, gamma=0.001, random_state=4; total time=   0.0s\n",
      "[CV] END .................C=0.1, gamma=0.001, random_state=5; total time=   0.0s\n",
      "[CV] END .................C=0.1, gamma=0.001, random_state=5; total time=   0.0s\n",
      "[CV] END .................C=0.1, gamma=0.001, random_state=5; total time=   0.0s\n",
      "[CV] END .................C=0.1, gamma=0.001, random_state=5; total time=   0.0s\n",
      "[CV] END .................C=0.1, gamma=0.001, random_state=5; total time=   0.0s\n",
      "[CV] END .................C=0.1, gamma=0.001, random_state=6; total time=   0.0s\n",
      "[CV] END .................C=0.1, gamma=0.001, random_state=6; total time=   0.0s\n",
      "[CV] END .................C=0.1, gamma=0.001, random_state=6; total time=   0.0s\n",
      "[CV] END .................C=0.1, gamma=0.001, random_state=6; total time=   0.0s\n",
      "[CV] END .................C=0.1, gamma=0.001, random_state=6; total time=   0.0s\n",
      "[CV] END .................C=0.1, gamma=0.001, random_state=7; total time=   0.0s\n",
      "[CV] END .................C=0.1, gamma=0.001, random_state=7; total time=   0.0s\n",
      "[CV] END .................C=0.1, gamma=0.001, random_state=7; total time=   0.0s\n",
      "[CV] END .................C=0.1, gamma=0.001, random_state=7; total time=   0.0s\n",
      "[CV] END .................C=0.1, gamma=0.001, random_state=7; total time=   0.0s\n"
     ]
    },
    {
     "name": "stdout",
     "output_type": "stream",
     "text": [
      "[CV] END .................C=0.1, gamma=0.001, random_state=8; total time=   0.0s\n",
      "[CV] END .................C=0.1, gamma=0.001, random_state=8; total time=   0.0s\n",
      "[CV] END .................C=0.1, gamma=0.001, random_state=8; total time=   0.0s\n",
      "[CV] END .................C=0.1, gamma=0.001, random_state=8; total time=   0.0s\n",
      "[CV] END .................C=0.1, gamma=0.001, random_state=8; total time=   0.0s\n",
      "[CV] END .................C=0.1, gamma=0.001, random_state=9; total time=   0.0s\n",
      "[CV] END .................C=0.1, gamma=0.001, random_state=9; total time=   0.0s\n",
      "[CV] END .................C=0.1, gamma=0.001, random_state=9; total time=   0.0s\n",
      "[CV] END .................C=0.1, gamma=0.001, random_state=9; total time=   0.0s\n",
      "[CV] END .................C=0.1, gamma=0.001, random_state=9; total time=   0.0s\n",
      "[CV] END ................C=0.1, gamma=0.001, random_state=10; total time=   0.0s\n",
      "[CV] END ................C=0.1, gamma=0.001, random_state=10; total time=   0.0s\n",
      "[CV] END ................C=0.1, gamma=0.001, random_state=10; total time=   0.0s\n",
      "[CV] END ................C=0.1, gamma=0.001, random_state=10; total time=   0.0s\n",
      "[CV] END ................C=0.1, gamma=0.001, random_state=10; total time=   0.0s\n",
      "[CV] END ................C=0.1, gamma=0.001, random_state=11; total time=   0.0s\n",
      "[CV] END ................C=0.1, gamma=0.001, random_state=11; total time=   0.0s\n",
      "[CV] END ................C=0.1, gamma=0.001, random_state=11; total time=   0.0s\n",
      "[CV] END ................C=0.1, gamma=0.001, random_state=11; total time=   0.0s\n",
      "[CV] END ................C=0.1, gamma=0.001, random_state=11; total time=   0.0s\n",
      "[CV] END ................C=0.1, gamma=0.001, random_state=12; total time=   0.0s\n",
      "[CV] END ................C=0.1, gamma=0.001, random_state=12; total time=   0.0s\n",
      "[CV] END ................C=0.1, gamma=0.001, random_state=12; total time=   0.0s\n",
      "[CV] END ................C=0.1, gamma=0.001, random_state=12; total time=   0.0s\n",
      "[CV] END ................C=0.1, gamma=0.001, random_state=12; total time=   0.0s\n",
      "[CV] END ................C=0.1, gamma=0.001, random_state=13; total time=   0.0s\n",
      "[CV] END ................C=0.1, gamma=0.001, random_state=13; total time=   0.0s\n",
      "[CV] END ................C=0.1, gamma=0.001, random_state=13; total time=   0.0s\n",
      "[CV] END ................C=0.1, gamma=0.001, random_state=13; total time=   0.0s\n",
      "[CV] END ................C=0.1, gamma=0.001, random_state=13; total time=   0.0s\n",
      "[CV] END ................C=0.1, gamma=0.001, random_state=14; total time=   0.0s\n",
      "[CV] END ................C=0.1, gamma=0.001, random_state=14; total time=   0.0s\n",
      "[CV] END ................C=0.1, gamma=0.001, random_state=14; total time=   0.0s\n",
      "[CV] END ................C=0.1, gamma=0.001, random_state=14; total time=   0.0s\n",
      "[CV] END ................C=0.1, gamma=0.001, random_state=14; total time=   0.0s\n",
      "[CV] END ................C=0.1, gamma=0.001, random_state=15; total time=   0.0s\n",
      "[CV] END ................C=0.1, gamma=0.001, random_state=15; total time=   0.0s\n",
      "[CV] END ................C=0.1, gamma=0.001, random_state=15; total time=   0.0s\n",
      "[CV] END ................C=0.1, gamma=0.001, random_state=15; total time=   0.0s\n",
      "[CV] END ................C=0.1, gamma=0.001, random_state=15; total time=   0.0s\n",
      "[CV] END ................C=0.1, gamma=0.001, random_state=16; total time=   0.0s\n",
      "[CV] END ................C=0.1, gamma=0.001, random_state=16; total time=   0.0s\n",
      "[CV] END ................C=0.1, gamma=0.001, random_state=16; total time=   0.0s\n",
      "[CV] END ................C=0.1, gamma=0.001, random_state=16; total time=   0.0s\n",
      "[CV] END ................C=0.1, gamma=0.001, random_state=16; total time=   0.0s\n",
      "[CV] END ................C=0.1, gamma=0.001, random_state=17; total time=   0.0s\n",
      "[CV] END ................C=0.1, gamma=0.001, random_state=17; total time=   0.0s\n",
      "[CV] END ................C=0.1, gamma=0.001, random_state=17; total time=   0.0s\n",
      "[CV] END ................C=0.1, gamma=0.001, random_state=17; total time=   0.0s\n",
      "[CV] END ................C=0.1, gamma=0.001, random_state=17; total time=   0.0s\n",
      "[CV] END ................C=0.1, gamma=0.001, random_state=18; total time=   0.0s\n",
      "[CV] END ................C=0.1, gamma=0.001, random_state=18; total time=   0.0s\n",
      "[CV] END ................C=0.1, gamma=0.001, random_state=18; total time=   0.0s\n",
      "[CV] END ................C=0.1, gamma=0.001, random_state=18; total time=   0.0s\n",
      "[CV] END ................C=0.1, gamma=0.001, random_state=18; total time=   0.0s\n",
      "[CV] END ................C=0.1, gamma=0.001, random_state=19; total time=   0.0s\n",
      "[CV] END ................C=0.1, gamma=0.001, random_state=19; total time=   0.0s\n",
      "[CV] END ................C=0.1, gamma=0.001, random_state=19; total time=   0.0s\n",
      "[CV] END ................C=0.1, gamma=0.001, random_state=19; total time=   0.0s\n",
      "[CV] END ................C=0.1, gamma=0.001, random_state=19; total time=   0.0s\n",
      "[CV] END ................C=0.1, gamma=0.0001, random_state=1; total time=   0.0s\n",
      "[CV] END ................C=0.1, gamma=0.0001, random_state=1; total time=   0.0s\n",
      "[CV] END ................C=0.1, gamma=0.0001, random_state=1; total time=   0.0s\n",
      "[CV] END ................C=0.1, gamma=0.0001, random_state=1; total time=   0.0s\n",
      "[CV] END ................C=0.1, gamma=0.0001, random_state=1; total time=   0.0s\n",
      "[CV] END ................C=0.1, gamma=0.0001, random_state=2; total time=   0.0s\n",
      "[CV] END ................C=0.1, gamma=0.0001, random_state=2; total time=   0.0s\n",
      "[CV] END ................C=0.1, gamma=0.0001, random_state=2; total time=   0.0s\n",
      "[CV] END ................C=0.1, gamma=0.0001, random_state=2; total time=   0.0s\n",
      "[CV] END ................C=0.1, gamma=0.0001, random_state=2; total time=   0.0s\n",
      "[CV] END ................C=0.1, gamma=0.0001, random_state=3; total time=   0.0s\n",
      "[CV] END ................C=0.1, gamma=0.0001, random_state=3; total time=   0.0s\n",
      "[CV] END ................C=0.1, gamma=0.0001, random_state=3; total time=   0.0s\n",
      "[CV] END ................C=0.1, gamma=0.0001, random_state=3; total time=   0.0s\n",
      "[CV] END ................C=0.1, gamma=0.0001, random_state=3; total time=   0.0s\n",
      "[CV] END ................C=0.1, gamma=0.0001, random_state=4; total time=   0.0s\n",
      "[CV] END ................C=0.1, gamma=0.0001, random_state=4; total time=   0.0s\n",
      "[CV] END ................C=0.1, gamma=0.0001, random_state=4; total time=   0.0s\n",
      "[CV] END ................C=0.1, gamma=0.0001, random_state=4; total time=   0.0s\n",
      "[CV] END ................C=0.1, gamma=0.0001, random_state=4; total time=   0.0s\n",
      "[CV] END ................C=0.1, gamma=0.0001, random_state=5; total time=   0.0s\n",
      "[CV] END ................C=0.1, gamma=0.0001, random_state=5; total time=   0.0s\n",
      "[CV] END ................C=0.1, gamma=0.0001, random_state=5; total time=   0.0s\n",
      "[CV] END ................C=0.1, gamma=0.0001, random_state=5; total time=   0.0s\n",
      "[CV] END ................C=0.1, gamma=0.0001, random_state=5; total time=   0.0s\n",
      "[CV] END ................C=0.1, gamma=0.0001, random_state=6; total time=   0.0s\n",
      "[CV] END ................C=0.1, gamma=0.0001, random_state=6; total time=   0.0s\n",
      "[CV] END ................C=0.1, gamma=0.0001, random_state=6; total time=   0.0s\n",
      "[CV] END ................C=0.1, gamma=0.0001, random_state=6; total time=   0.0s\n",
      "[CV] END ................C=0.1, gamma=0.0001, random_state=6; total time=   0.0s\n",
      "[CV] END ................C=0.1, gamma=0.0001, random_state=7; total time=   0.0s\n",
      "[CV] END ................C=0.1, gamma=0.0001, random_state=7; total time=   0.0s\n",
      "[CV] END ................C=0.1, gamma=0.0001, random_state=7; total time=   0.0s\n",
      "[CV] END ................C=0.1, gamma=0.0001, random_state=7; total time=   0.0s\n",
      "[CV] END ................C=0.1, gamma=0.0001, random_state=7; total time=   0.0s\n",
      "[CV] END ................C=0.1, gamma=0.0001, random_state=8; total time=   0.1s\n",
      "[CV] END ................C=0.1, gamma=0.0001, random_state=8; total time=   0.0s\n",
      "[CV] END ................C=0.1, gamma=0.0001, random_state=8; total time=   0.0s\n",
      "[CV] END ................C=0.1, gamma=0.0001, random_state=8; total time=   0.0s\n",
      "[CV] END ................C=0.1, gamma=0.0001, random_state=8; total time=   0.0s\n",
      "[CV] END ................C=0.1, gamma=0.0001, random_state=9; total time=   0.0s\n",
      "[CV] END ................C=0.1, gamma=0.0001, random_state=9; total time=   0.0s\n",
      "[CV] END ................C=0.1, gamma=0.0001, random_state=9; total time=   0.0s\n",
      "[CV] END ................C=0.1, gamma=0.0001, random_state=9; total time=   0.0s\n",
      "[CV] END ................C=0.1, gamma=0.0001, random_state=9; total time=   0.0s\n",
      "[CV] END ...............C=0.1, gamma=0.0001, random_state=10; total time=   0.0s\n",
      "[CV] END ...............C=0.1, gamma=0.0001, random_state=10; total time=   0.0s\n",
      "[CV] END ...............C=0.1, gamma=0.0001, random_state=10; total time=   0.0s\n",
      "[CV] END ...............C=0.1, gamma=0.0001, random_state=10; total time=   0.0s\n"
     ]
    },
    {
     "name": "stdout",
     "output_type": "stream",
     "text": [
      "[CV] END ...............C=0.1, gamma=0.0001, random_state=10; total time=   0.0s\n",
      "[CV] END ...............C=0.1, gamma=0.0001, random_state=11; total time=   0.0s\n",
      "[CV] END ...............C=0.1, gamma=0.0001, random_state=11; total time=   0.0s\n",
      "[CV] END ...............C=0.1, gamma=0.0001, random_state=11; total time=   0.0s\n",
      "[CV] END ...............C=0.1, gamma=0.0001, random_state=11; total time=   0.0s\n",
      "[CV] END ...............C=0.1, gamma=0.0001, random_state=11; total time=   0.0s\n",
      "[CV] END ...............C=0.1, gamma=0.0001, random_state=12; total time=   0.0s\n",
      "[CV] END ...............C=0.1, gamma=0.0001, random_state=12; total time=   0.0s\n",
      "[CV] END ...............C=0.1, gamma=0.0001, random_state=12; total time=   0.0s\n",
      "[CV] END ...............C=0.1, gamma=0.0001, random_state=12; total time=   0.0s\n",
      "[CV] END ...............C=0.1, gamma=0.0001, random_state=12; total time=   0.0s\n",
      "[CV] END ...............C=0.1, gamma=0.0001, random_state=13; total time=   0.0s\n",
      "[CV] END ...............C=0.1, gamma=0.0001, random_state=13; total time=   0.0s\n",
      "[CV] END ...............C=0.1, gamma=0.0001, random_state=13; total time=   0.0s\n",
      "[CV] END ...............C=0.1, gamma=0.0001, random_state=13; total time=   0.0s\n",
      "[CV] END ...............C=0.1, gamma=0.0001, random_state=13; total time=   0.0s\n",
      "[CV] END ...............C=0.1, gamma=0.0001, random_state=14; total time=   0.0s\n",
      "[CV] END ...............C=0.1, gamma=0.0001, random_state=14; total time=   0.0s\n",
      "[CV] END ...............C=0.1, gamma=0.0001, random_state=14; total time=   0.0s\n",
      "[CV] END ...............C=0.1, gamma=0.0001, random_state=14; total time=   0.0s\n",
      "[CV] END ...............C=0.1, gamma=0.0001, random_state=14; total time=   0.0s\n",
      "[CV] END ...............C=0.1, gamma=0.0001, random_state=15; total time=   0.0s\n",
      "[CV] END ...............C=0.1, gamma=0.0001, random_state=15; total time=   0.0s\n",
      "[CV] END ...............C=0.1, gamma=0.0001, random_state=15; total time=   0.0s\n",
      "[CV] END ...............C=0.1, gamma=0.0001, random_state=15; total time=   0.1s\n",
      "[CV] END ...............C=0.1, gamma=0.0001, random_state=15; total time=   0.1s\n",
      "[CV] END ...............C=0.1, gamma=0.0001, random_state=16; total time=   0.0s\n",
      "[CV] END ...............C=0.1, gamma=0.0001, random_state=16; total time=   0.0s\n",
      "[CV] END ...............C=0.1, gamma=0.0001, random_state=16; total time=   0.0s\n",
      "[CV] END ...............C=0.1, gamma=0.0001, random_state=16; total time=   0.0s\n",
      "[CV] END ...............C=0.1, gamma=0.0001, random_state=16; total time=   0.0s\n",
      "[CV] END ...............C=0.1, gamma=0.0001, random_state=17; total time=   0.0s\n",
      "[CV] END ...............C=0.1, gamma=0.0001, random_state=17; total time=   0.0s\n",
      "[CV] END ...............C=0.1, gamma=0.0001, random_state=17; total time=   0.0s\n",
      "[CV] END ...............C=0.1, gamma=0.0001, random_state=17; total time=   0.0s\n",
      "[CV] END ...............C=0.1, gamma=0.0001, random_state=17; total time=   0.0s\n",
      "[CV] END ...............C=0.1, gamma=0.0001, random_state=18; total time=   0.0s\n",
      "[CV] END ...............C=0.1, gamma=0.0001, random_state=18; total time=   0.0s\n",
      "[CV] END ...............C=0.1, gamma=0.0001, random_state=18; total time=   0.0s\n",
      "[CV] END ...............C=0.1, gamma=0.0001, random_state=18; total time=   0.0s\n",
      "[CV] END ...............C=0.1, gamma=0.0001, random_state=18; total time=   0.0s\n",
      "[CV] END ...............C=0.1, gamma=0.0001, random_state=19; total time=   0.0s\n",
      "[CV] END ...............C=0.1, gamma=0.0001, random_state=19; total time=   0.0s\n",
      "[CV] END ...............C=0.1, gamma=0.0001, random_state=19; total time=   0.0s\n",
      "[CV] END ...............C=0.1, gamma=0.0001, random_state=19; total time=   0.0s\n",
      "[CV] END ...............C=0.1, gamma=0.0001, random_state=19; total time=   0.0s\n",
      "[CV] END .......................C=1, gamma=1, random_state=1; total time=   0.0s\n",
      "[CV] END .......................C=1, gamma=1, random_state=1; total time=   0.0s\n",
      "[CV] END .......................C=1, gamma=1, random_state=1; total time=   0.0s\n",
      "[CV] END .......................C=1, gamma=1, random_state=1; total time=   0.0s\n",
      "[CV] END .......................C=1, gamma=1, random_state=1; total time=   0.0s\n",
      "[CV] END .......................C=1, gamma=1, random_state=2; total time=   0.0s\n",
      "[CV] END .......................C=1, gamma=1, random_state=2; total time=   0.0s\n",
      "[CV] END .......................C=1, gamma=1, random_state=2; total time=   0.0s\n",
      "[CV] END .......................C=1, gamma=1, random_state=2; total time=   0.0s\n",
      "[CV] END .......................C=1, gamma=1, random_state=2; total time=   0.0s\n",
      "[CV] END .......................C=1, gamma=1, random_state=3; total time=   0.0s\n",
      "[CV] END .......................C=1, gamma=1, random_state=3; total time=   0.0s\n",
      "[CV] END .......................C=1, gamma=1, random_state=3; total time=   0.0s\n",
      "[CV] END .......................C=1, gamma=1, random_state=3; total time=   0.0s\n",
      "[CV] END .......................C=1, gamma=1, random_state=3; total time=   0.0s\n",
      "[CV] END .......................C=1, gamma=1, random_state=4; total time=   0.0s\n",
      "[CV] END .......................C=1, gamma=1, random_state=4; total time=   0.0s\n",
      "[CV] END .......................C=1, gamma=1, random_state=4; total time=   0.0s\n",
      "[CV] END .......................C=1, gamma=1, random_state=4; total time=   0.0s\n",
      "[CV] END .......................C=1, gamma=1, random_state=4; total time=   0.0s\n",
      "[CV] END .......................C=1, gamma=1, random_state=5; total time=   0.0s\n",
      "[CV] END .......................C=1, gamma=1, random_state=5; total time=   0.0s\n",
      "[CV] END .......................C=1, gamma=1, random_state=5; total time=   0.0s\n",
      "[CV] END .......................C=1, gamma=1, random_state=5; total time=   0.0s\n",
      "[CV] END .......................C=1, gamma=1, random_state=5; total time=   0.0s\n",
      "[CV] END .......................C=1, gamma=1, random_state=6; total time=   0.0s\n",
      "[CV] END .......................C=1, gamma=1, random_state=6; total time=   0.0s\n",
      "[CV] END .......................C=1, gamma=1, random_state=6; total time=   0.0s\n",
      "[CV] END .......................C=1, gamma=1, random_state=6; total time=   0.0s\n",
      "[CV] END .......................C=1, gamma=1, random_state=6; total time=   0.0s\n",
      "[CV] END .......................C=1, gamma=1, random_state=7; total time=   0.0s\n",
      "[CV] END .......................C=1, gamma=1, random_state=7; total time=   0.0s\n",
      "[CV] END .......................C=1, gamma=1, random_state=7; total time=   0.0s\n",
      "[CV] END .......................C=1, gamma=1, random_state=7; total time=   0.0s\n",
      "[CV] END .......................C=1, gamma=1, random_state=7; total time=   0.0s\n",
      "[CV] END .......................C=1, gamma=1, random_state=8; total time=   0.0s\n",
      "[CV] END .......................C=1, gamma=1, random_state=8; total time=   0.0s\n",
      "[CV] END .......................C=1, gamma=1, random_state=8; total time=   0.0s\n",
      "[CV] END .......................C=1, gamma=1, random_state=8; total time=   0.0s\n",
      "[CV] END .......................C=1, gamma=1, random_state=8; total time=   0.0s\n",
      "[CV] END .......................C=1, gamma=1, random_state=9; total time=   0.0s\n",
      "[CV] END .......................C=1, gamma=1, random_state=9; total time=   0.0s\n",
      "[CV] END .......................C=1, gamma=1, random_state=9; total time=   0.0s\n",
      "[CV] END .......................C=1, gamma=1, random_state=9; total time=   0.0s\n",
      "[CV] END .......................C=1, gamma=1, random_state=9; total time=   0.0s\n",
      "[CV] END ......................C=1, gamma=1, random_state=10; total time=   0.0s\n",
      "[CV] END ......................C=1, gamma=1, random_state=10; total time=   0.0s\n",
      "[CV] END ......................C=1, gamma=1, random_state=10; total time=   0.0s\n",
      "[CV] END ......................C=1, gamma=1, random_state=10; total time=   0.0s\n",
      "[CV] END ......................C=1, gamma=1, random_state=10; total time=   0.0s\n",
      "[CV] END ......................C=1, gamma=1, random_state=11; total time=   0.0s\n",
      "[CV] END ......................C=1, gamma=1, random_state=11; total time=   0.0s\n",
      "[CV] END ......................C=1, gamma=1, random_state=11; total time=   0.0s\n",
      "[CV] END ......................C=1, gamma=1, random_state=11; total time=   0.0s\n",
      "[CV] END ......................C=1, gamma=1, random_state=11; total time=   0.0s\n",
      "[CV] END ......................C=1, gamma=1, random_state=12; total time=   0.0s\n",
      "[CV] END ......................C=1, gamma=1, random_state=12; total time=   0.0s\n",
      "[CV] END ......................C=1, gamma=1, random_state=12; total time=   0.0s\n",
      "[CV] END ......................C=1, gamma=1, random_state=12; total time=   0.0s\n",
      "[CV] END ......................C=1, gamma=1, random_state=12; total time=   0.0s\n",
      "[CV] END ......................C=1, gamma=1, random_state=13; total time=   0.0s\n",
      "[CV] END ......................C=1, gamma=1, random_state=13; total time=   0.0s\n"
     ]
    },
    {
     "name": "stdout",
     "output_type": "stream",
     "text": [
      "[CV] END ......................C=1, gamma=1, random_state=13; total time=   0.0s\n",
      "[CV] END ......................C=1, gamma=1, random_state=13; total time=   0.0s\n",
      "[CV] END ......................C=1, gamma=1, random_state=13; total time=   0.0s\n",
      "[CV] END ......................C=1, gamma=1, random_state=14; total time=   0.0s\n",
      "[CV] END ......................C=1, gamma=1, random_state=14; total time=   0.0s\n",
      "[CV] END ......................C=1, gamma=1, random_state=14; total time=   0.0s\n",
      "[CV] END ......................C=1, gamma=1, random_state=14; total time=   0.0s\n",
      "[CV] END ......................C=1, gamma=1, random_state=14; total time=   0.0s\n",
      "[CV] END ......................C=1, gamma=1, random_state=15; total time=   0.0s\n",
      "[CV] END ......................C=1, gamma=1, random_state=15; total time=   0.0s\n",
      "[CV] END ......................C=1, gamma=1, random_state=15; total time=   0.0s\n",
      "[CV] END ......................C=1, gamma=1, random_state=15; total time=   0.0s\n",
      "[CV] END ......................C=1, gamma=1, random_state=15; total time=   0.0s\n",
      "[CV] END ......................C=1, gamma=1, random_state=16; total time=   0.0s\n",
      "[CV] END ......................C=1, gamma=1, random_state=16; total time=   0.0s\n",
      "[CV] END ......................C=1, gamma=1, random_state=16; total time=   0.0s\n",
      "[CV] END ......................C=1, gamma=1, random_state=16; total time=   0.0s\n",
      "[CV] END ......................C=1, gamma=1, random_state=16; total time=   0.0s\n",
      "[CV] END ......................C=1, gamma=1, random_state=17; total time=   0.0s\n",
      "[CV] END ......................C=1, gamma=1, random_state=17; total time=   0.0s\n",
      "[CV] END ......................C=1, gamma=1, random_state=17; total time=   0.0s\n",
      "[CV] END ......................C=1, gamma=1, random_state=17; total time=   0.0s\n",
      "[CV] END ......................C=1, gamma=1, random_state=17; total time=   0.0s\n",
      "[CV] END ......................C=1, gamma=1, random_state=18; total time=   0.0s\n",
      "[CV] END ......................C=1, gamma=1, random_state=18; total time=   0.0s\n",
      "[CV] END ......................C=1, gamma=1, random_state=18; total time=   0.0s\n",
      "[CV] END ......................C=1, gamma=1, random_state=18; total time=   0.0s\n",
      "[CV] END ......................C=1, gamma=1, random_state=18; total time=   0.0s\n",
      "[CV] END ......................C=1, gamma=1, random_state=19; total time=   0.0s\n",
      "[CV] END ......................C=1, gamma=1, random_state=19; total time=   0.0s\n",
      "[CV] END ......................C=1, gamma=1, random_state=19; total time=   0.0s\n",
      "[CV] END ......................C=1, gamma=1, random_state=19; total time=   0.0s\n",
      "[CV] END ......................C=1, gamma=1, random_state=19; total time=   0.0s\n",
      "[CV] END .....................C=1, gamma=0.1, random_state=1; total time=   0.0s\n",
      "[CV] END .....................C=1, gamma=0.1, random_state=1; total time=   0.0s\n",
      "[CV] END .....................C=1, gamma=0.1, random_state=1; total time=   0.0s\n",
      "[CV] END .....................C=1, gamma=0.1, random_state=1; total time=   0.0s\n",
      "[CV] END .....................C=1, gamma=0.1, random_state=1; total time=   0.0s\n",
      "[CV] END .....................C=1, gamma=0.1, random_state=2; total time=   0.0s\n",
      "[CV] END .....................C=1, gamma=0.1, random_state=2; total time=   0.0s\n",
      "[CV] END .....................C=1, gamma=0.1, random_state=2; total time=   0.0s\n",
      "[CV] END .....................C=1, gamma=0.1, random_state=2; total time=   0.0s\n",
      "[CV] END .....................C=1, gamma=0.1, random_state=2; total time=   0.0s\n",
      "[CV] END .....................C=1, gamma=0.1, random_state=3; total time=   0.0s\n",
      "[CV] END .....................C=1, gamma=0.1, random_state=3; total time=   0.0s\n",
      "[CV] END .....................C=1, gamma=0.1, random_state=3; total time=   0.0s\n",
      "[CV] END .....................C=1, gamma=0.1, random_state=3; total time=   0.0s\n",
      "[CV] END .....................C=1, gamma=0.1, random_state=3; total time=   0.0s\n",
      "[CV] END .....................C=1, gamma=0.1, random_state=4; total time=   0.0s\n",
      "[CV] END .....................C=1, gamma=0.1, random_state=4; total time=   0.0s\n",
      "[CV] END .....................C=1, gamma=0.1, random_state=4; total time=   0.0s\n",
      "[CV] END .....................C=1, gamma=0.1, random_state=4; total time=   0.0s\n",
      "[CV] END .....................C=1, gamma=0.1, random_state=4; total time=   0.0s\n",
      "[CV] END .....................C=1, gamma=0.1, random_state=5; total time=   0.0s\n",
      "[CV] END .....................C=1, gamma=0.1, random_state=5; total time=   0.0s\n",
      "[CV] END .....................C=1, gamma=0.1, random_state=5; total time=   0.0s\n",
      "[CV] END .....................C=1, gamma=0.1, random_state=5; total time=   0.0s\n",
      "[CV] END .....................C=1, gamma=0.1, random_state=5; total time=   0.0s\n",
      "[CV] END .....................C=1, gamma=0.1, random_state=6; total time=   0.0s\n",
      "[CV] END .....................C=1, gamma=0.1, random_state=6; total time=   0.0s\n",
      "[CV] END .....................C=1, gamma=0.1, random_state=6; total time=   0.0s\n",
      "[CV] END .....................C=1, gamma=0.1, random_state=6; total time=   0.0s\n",
      "[CV] END .....................C=1, gamma=0.1, random_state=6; total time=   0.0s\n",
      "[CV] END .....................C=1, gamma=0.1, random_state=7; total time=   0.0s\n",
      "[CV] END .....................C=1, gamma=0.1, random_state=7; total time=   0.0s\n",
      "[CV] END .....................C=1, gamma=0.1, random_state=7; total time=   0.0s\n",
      "[CV] END .....................C=1, gamma=0.1, random_state=7; total time=   0.0s\n",
      "[CV] END .....................C=1, gamma=0.1, random_state=7; total time=   0.0s\n",
      "[CV] END .....................C=1, gamma=0.1, random_state=8; total time=   0.0s\n",
      "[CV] END .....................C=1, gamma=0.1, random_state=8; total time=   0.0s\n",
      "[CV] END .....................C=1, gamma=0.1, random_state=8; total time=   0.0s\n",
      "[CV] END .....................C=1, gamma=0.1, random_state=8; total time=   0.0s\n",
      "[CV] END .....................C=1, gamma=0.1, random_state=8; total time=   0.0s\n",
      "[CV] END .....................C=1, gamma=0.1, random_state=9; total time=   0.0s\n",
      "[CV] END .....................C=1, gamma=0.1, random_state=9; total time=   0.0s\n",
      "[CV] END .....................C=1, gamma=0.1, random_state=9; total time=   0.0s\n",
      "[CV] END .....................C=1, gamma=0.1, random_state=9; total time=   0.0s\n",
      "[CV] END .....................C=1, gamma=0.1, random_state=9; total time=   0.0s\n",
      "[CV] END ....................C=1, gamma=0.1, random_state=10; total time=   0.0s\n",
      "[CV] END ....................C=1, gamma=0.1, random_state=10; total time=   0.0s\n",
      "[CV] END ....................C=1, gamma=0.1, random_state=10; total time=   0.0s\n",
      "[CV] END ....................C=1, gamma=0.1, random_state=10; total time=   0.0s\n",
      "[CV] END ....................C=1, gamma=0.1, random_state=10; total time=   0.0s\n",
      "[CV] END ....................C=1, gamma=0.1, random_state=11; total time=   0.0s\n",
      "[CV] END ....................C=1, gamma=0.1, random_state=11; total time=   0.0s\n",
      "[CV] END ....................C=1, gamma=0.1, random_state=11; total time=   0.0s\n",
      "[CV] END ....................C=1, gamma=0.1, random_state=11; total time=   0.0s\n",
      "[CV] END ....................C=1, gamma=0.1, random_state=11; total time=   0.0s\n",
      "[CV] END ....................C=1, gamma=0.1, random_state=12; total time=   0.0s\n",
      "[CV] END ....................C=1, gamma=0.1, random_state=12; total time=   0.0s\n",
      "[CV] END ....................C=1, gamma=0.1, random_state=12; total time=   0.0s\n",
      "[CV] END ....................C=1, gamma=0.1, random_state=12; total time=   0.0s\n",
      "[CV] END ....................C=1, gamma=0.1, random_state=12; total time=   0.0s\n",
      "[CV] END ....................C=1, gamma=0.1, random_state=13; total time=   0.0s\n",
      "[CV] END ....................C=1, gamma=0.1, random_state=13; total time=   0.0s\n",
      "[CV] END ....................C=1, gamma=0.1, random_state=13; total time=   0.0s\n",
      "[CV] END ....................C=1, gamma=0.1, random_state=13; total time=   0.0s\n",
      "[CV] END ....................C=1, gamma=0.1, random_state=13; total time=   0.0s\n",
      "[CV] END ....................C=1, gamma=0.1, random_state=14; total time=   0.0s\n",
      "[CV] END ....................C=1, gamma=0.1, random_state=14; total time=   0.0s\n",
      "[CV] END ....................C=1, gamma=0.1, random_state=14; total time=   0.0s\n",
      "[CV] END ....................C=1, gamma=0.1, random_state=14; total time=   0.0s\n",
      "[CV] END ....................C=1, gamma=0.1, random_state=14; total time=   0.0s\n",
      "[CV] END ....................C=1, gamma=0.1, random_state=15; total time=   0.0s\n",
      "[CV] END ....................C=1, gamma=0.1, random_state=15; total time=   0.0s\n"
     ]
    },
    {
     "name": "stdout",
     "output_type": "stream",
     "text": [
      "[CV] END ....................C=1, gamma=0.1, random_state=15; total time=   0.0s\n",
      "[CV] END ....................C=1, gamma=0.1, random_state=15; total time=   0.0s\n",
      "[CV] END ....................C=1, gamma=0.1, random_state=15; total time=   0.0s\n",
      "[CV] END ....................C=1, gamma=0.1, random_state=16; total time=   0.0s\n",
      "[CV] END ....................C=1, gamma=0.1, random_state=16; total time=   0.0s\n",
      "[CV] END ....................C=1, gamma=0.1, random_state=16; total time=   0.0s\n",
      "[CV] END ....................C=1, gamma=0.1, random_state=16; total time=   0.0s\n",
      "[CV] END ....................C=1, gamma=0.1, random_state=16; total time=   0.0s\n",
      "[CV] END ....................C=1, gamma=0.1, random_state=17; total time=   0.0s\n",
      "[CV] END ....................C=1, gamma=0.1, random_state=17; total time=   0.0s\n",
      "[CV] END ....................C=1, gamma=0.1, random_state=17; total time=   0.0s\n",
      "[CV] END ....................C=1, gamma=0.1, random_state=17; total time=   0.0s\n",
      "[CV] END ....................C=1, gamma=0.1, random_state=17; total time=   0.0s\n",
      "[CV] END ....................C=1, gamma=0.1, random_state=18; total time=   0.0s\n",
      "[CV] END ....................C=1, gamma=0.1, random_state=18; total time=   0.0s\n",
      "[CV] END ....................C=1, gamma=0.1, random_state=18; total time=   0.0s\n",
      "[CV] END ....................C=1, gamma=0.1, random_state=18; total time=   0.0s\n",
      "[CV] END ....................C=1, gamma=0.1, random_state=18; total time=   0.0s\n",
      "[CV] END ....................C=1, gamma=0.1, random_state=19; total time=   0.0s\n",
      "[CV] END ....................C=1, gamma=0.1, random_state=19; total time=   0.0s\n",
      "[CV] END ....................C=1, gamma=0.1, random_state=19; total time=   0.0s\n",
      "[CV] END ....................C=1, gamma=0.1, random_state=19; total time=   0.0s\n",
      "[CV] END ....................C=1, gamma=0.1, random_state=19; total time=   0.0s\n",
      "[CV] END ....................C=1, gamma=0.01, random_state=1; total time=   0.0s\n",
      "[CV] END ....................C=1, gamma=0.01, random_state=1; total time=   0.0s\n",
      "[CV] END ....................C=1, gamma=0.01, random_state=1; total time=   0.0s\n",
      "[CV] END ....................C=1, gamma=0.01, random_state=1; total time=   0.0s\n",
      "[CV] END ....................C=1, gamma=0.01, random_state=1; total time=   0.0s\n",
      "[CV] END ....................C=1, gamma=0.01, random_state=2; total time=   0.0s\n",
      "[CV] END ....................C=1, gamma=0.01, random_state=2; total time=   0.0s\n",
      "[CV] END ....................C=1, gamma=0.01, random_state=2; total time=   0.0s\n",
      "[CV] END ....................C=1, gamma=0.01, random_state=2; total time=   0.0s\n",
      "[CV] END ....................C=1, gamma=0.01, random_state=2; total time=   0.0s\n",
      "[CV] END ....................C=1, gamma=0.01, random_state=3; total time=   0.0s\n",
      "[CV] END ....................C=1, gamma=0.01, random_state=3; total time=   0.0s\n",
      "[CV] END ....................C=1, gamma=0.01, random_state=3; total time=   0.0s\n",
      "[CV] END ....................C=1, gamma=0.01, random_state=3; total time=   0.0s\n",
      "[CV] END ....................C=1, gamma=0.01, random_state=3; total time=   0.0s\n",
      "[CV] END ....................C=1, gamma=0.01, random_state=4; total time=   0.0s\n",
      "[CV] END ....................C=1, gamma=0.01, random_state=4; total time=   0.0s\n",
      "[CV] END ....................C=1, gamma=0.01, random_state=4; total time=   0.0s\n",
      "[CV] END ....................C=1, gamma=0.01, random_state=4; total time=   0.0s\n",
      "[CV] END ....................C=1, gamma=0.01, random_state=4; total time=   0.0s\n",
      "[CV] END ....................C=1, gamma=0.01, random_state=5; total time=   0.0s\n",
      "[CV] END ....................C=1, gamma=0.01, random_state=5; total time=   0.0s\n",
      "[CV] END ....................C=1, gamma=0.01, random_state=5; total time=   0.0s\n",
      "[CV] END ....................C=1, gamma=0.01, random_state=5; total time=   0.0s\n",
      "[CV] END ....................C=1, gamma=0.01, random_state=5; total time=   0.0s\n",
      "[CV] END ....................C=1, gamma=0.01, random_state=6; total time=   0.0s\n",
      "[CV] END ....................C=1, gamma=0.01, random_state=6; total time=   0.0s\n",
      "[CV] END ....................C=1, gamma=0.01, random_state=6; total time=   0.0s\n",
      "[CV] END ....................C=1, gamma=0.01, random_state=6; total time=   0.0s\n",
      "[CV] END ....................C=1, gamma=0.01, random_state=6; total time=   0.0s\n",
      "[CV] END ....................C=1, gamma=0.01, random_state=7; total time=   0.0s\n",
      "[CV] END ....................C=1, gamma=0.01, random_state=7; total time=   0.0s\n",
      "[CV] END ....................C=1, gamma=0.01, random_state=7; total time=   0.0s\n",
      "[CV] END ....................C=1, gamma=0.01, random_state=7; total time=   0.0s\n",
      "[CV] END ....................C=1, gamma=0.01, random_state=7; total time=   0.0s\n",
      "[CV] END ....................C=1, gamma=0.01, random_state=8; total time=   0.0s\n",
      "[CV] END ....................C=1, gamma=0.01, random_state=8; total time=   0.0s\n",
      "[CV] END ....................C=1, gamma=0.01, random_state=8; total time=   0.0s\n",
      "[CV] END ....................C=1, gamma=0.01, random_state=8; total time=   0.0s\n",
      "[CV] END ....................C=1, gamma=0.01, random_state=8; total time=   0.0s\n",
      "[CV] END ....................C=1, gamma=0.01, random_state=9; total time=   0.0s\n",
      "[CV] END ....................C=1, gamma=0.01, random_state=9; total time=   0.0s\n",
      "[CV] END ....................C=1, gamma=0.01, random_state=9; total time=   0.0s\n",
      "[CV] END ....................C=1, gamma=0.01, random_state=9; total time=   0.0s\n",
      "[CV] END ....................C=1, gamma=0.01, random_state=9; total time=   0.0s\n",
      "[CV] END ...................C=1, gamma=0.01, random_state=10; total time=   0.0s\n",
      "[CV] END ...................C=1, gamma=0.01, random_state=10; total time=   0.0s\n",
      "[CV] END ...................C=1, gamma=0.01, random_state=10; total time=   0.0s\n",
      "[CV] END ...................C=1, gamma=0.01, random_state=10; total time=   0.0s\n",
      "[CV] END ...................C=1, gamma=0.01, random_state=10; total time=   0.0s\n",
      "[CV] END ...................C=1, gamma=0.01, random_state=11; total time=   0.0s\n",
      "[CV] END ...................C=1, gamma=0.01, random_state=11; total time=   0.0s\n",
      "[CV] END ...................C=1, gamma=0.01, random_state=11; total time=   0.0s\n",
      "[CV] END ...................C=1, gamma=0.01, random_state=11; total time=   0.0s\n",
      "[CV] END ...................C=1, gamma=0.01, random_state=11; total time=   0.0s\n",
      "[CV] END ...................C=1, gamma=0.01, random_state=12; total time=   0.0s\n",
      "[CV] END ...................C=1, gamma=0.01, random_state=12; total time=   0.0s\n",
      "[CV] END ...................C=1, gamma=0.01, random_state=12; total time=   0.0s\n",
      "[CV] END ...................C=1, gamma=0.01, random_state=12; total time=   0.0s\n",
      "[CV] END ...................C=1, gamma=0.01, random_state=12; total time=   0.0s\n",
      "[CV] END ...................C=1, gamma=0.01, random_state=13; total time=   0.0s\n",
      "[CV] END ...................C=1, gamma=0.01, random_state=13; total time=   0.1s\n",
      "[CV] END ...................C=1, gamma=0.01, random_state=13; total time=   0.1s\n",
      "[CV] END ...................C=1, gamma=0.01, random_state=13; total time=   0.2s\n",
      "[CV] END ...................C=1, gamma=0.01, random_state=13; total time=   0.1s\n",
      "[CV] END ...................C=1, gamma=0.01, random_state=14; total time=   0.1s\n",
      "[CV] END ...................C=1, gamma=0.01, random_state=14; total time=   0.1s\n",
      "[CV] END ...................C=1, gamma=0.01, random_state=14; total time=   0.0s\n",
      "[CV] END ...................C=1, gamma=0.01, random_state=14; total time=   0.0s\n",
      "[CV] END ...................C=1, gamma=0.01, random_state=14; total time=   0.0s\n",
      "[CV] END ...................C=1, gamma=0.01, random_state=15; total time=   0.0s\n",
      "[CV] END ...................C=1, gamma=0.01, random_state=15; total time=   0.0s\n",
      "[CV] END ...................C=1, gamma=0.01, random_state=15; total time=   0.0s\n",
      "[CV] END ...................C=1, gamma=0.01, random_state=15; total time=   0.0s\n",
      "[CV] END ...................C=1, gamma=0.01, random_state=15; total time=   0.0s\n",
      "[CV] END ...................C=1, gamma=0.01, random_state=16; total time=   0.0s\n",
      "[CV] END ...................C=1, gamma=0.01, random_state=16; total time=   0.0s\n",
      "[CV] END ...................C=1, gamma=0.01, random_state=16; total time=   0.0s\n",
      "[CV] END ...................C=1, gamma=0.01, random_state=16; total time=   0.1s\n",
      "[CV] END ...................C=1, gamma=0.01, random_state=16; total time=   0.1s\n"
     ]
    },
    {
     "name": "stdout",
     "output_type": "stream",
     "text": [
      "[CV] END ...................C=1, gamma=0.01, random_state=17; total time=   0.1s\n",
      "[CV] END ...................C=1, gamma=0.01, random_state=17; total time=   0.1s\n",
      "[CV] END ...................C=1, gamma=0.01, random_state=17; total time=   0.1s\n",
      "[CV] END ...................C=1, gamma=0.01, random_state=17; total time=   0.0s\n",
      "[CV] END ...................C=1, gamma=0.01, random_state=17; total time=   0.0s\n",
      "[CV] END ...................C=1, gamma=0.01, random_state=18; total time=   0.0s\n",
      "[CV] END ...................C=1, gamma=0.01, random_state=18; total time=   0.0s\n",
      "[CV] END ...................C=1, gamma=0.01, random_state=18; total time=   0.0s\n",
      "[CV] END ...................C=1, gamma=0.01, random_state=18; total time=   0.0s\n",
      "[CV] END ...................C=1, gamma=0.01, random_state=18; total time=   0.0s\n",
      "[CV] END ...................C=1, gamma=0.01, random_state=19; total time=   0.0s\n",
      "[CV] END ...................C=1, gamma=0.01, random_state=19; total time=   0.0s\n",
      "[CV] END ...................C=1, gamma=0.01, random_state=19; total time=   0.0s\n",
      "[CV] END ...................C=1, gamma=0.01, random_state=19; total time=   0.0s\n",
      "[CV] END ...................C=1, gamma=0.01, random_state=19; total time=   0.0s\n",
      "[CV] END ...................C=1, gamma=0.001, random_state=1; total time=   0.0s\n",
      "[CV] END ...................C=1, gamma=0.001, random_state=1; total time=   0.0s\n",
      "[CV] END ...................C=1, gamma=0.001, random_state=1; total time=   0.0s\n",
      "[CV] END ...................C=1, gamma=0.001, random_state=1; total time=   0.0s\n",
      "[CV] END ...................C=1, gamma=0.001, random_state=1; total time=   0.0s\n",
      "[CV] END ...................C=1, gamma=0.001, random_state=2; total time=   0.0s\n",
      "[CV] END ...................C=1, gamma=0.001, random_state=2; total time=   0.0s\n",
      "[CV] END ...................C=1, gamma=0.001, random_state=2; total time=   0.0s\n",
      "[CV] END ...................C=1, gamma=0.001, random_state=2; total time=   0.0s\n",
      "[CV] END ...................C=1, gamma=0.001, random_state=2; total time=   0.0s\n",
      "[CV] END ...................C=1, gamma=0.001, random_state=3; total time=   0.0s\n",
      "[CV] END ...................C=1, gamma=0.001, random_state=3; total time=   0.0s\n",
      "[CV] END ...................C=1, gamma=0.001, random_state=3; total time=   0.0s\n",
      "[CV] END ...................C=1, gamma=0.001, random_state=3; total time=   0.0s\n",
      "[CV] END ...................C=1, gamma=0.001, random_state=3; total time=   0.0s\n",
      "[CV] END ...................C=1, gamma=0.001, random_state=4; total time=   0.0s\n",
      "[CV] END ...................C=1, gamma=0.001, random_state=4; total time=   0.0s\n",
      "[CV] END ...................C=1, gamma=0.001, random_state=4; total time=   0.0s\n",
      "[CV] END ...................C=1, gamma=0.001, random_state=4; total time=   0.0s\n",
      "[CV] END ...................C=1, gamma=0.001, random_state=4; total time=   0.0s\n",
      "[CV] END ...................C=1, gamma=0.001, random_state=5; total time=   0.0s\n",
      "[CV] END ...................C=1, gamma=0.001, random_state=5; total time=   0.0s\n",
      "[CV] END ...................C=1, gamma=0.001, random_state=5; total time=   0.0s\n",
      "[CV] END ...................C=1, gamma=0.001, random_state=5; total time=   0.0s\n",
      "[CV] END ...................C=1, gamma=0.001, random_state=5; total time=   0.0s\n",
      "[CV] END ...................C=1, gamma=0.001, random_state=6; total time=   0.0s\n",
      "[CV] END ...................C=1, gamma=0.001, random_state=6; total time=   0.0s\n",
      "[CV] END ...................C=1, gamma=0.001, random_state=6; total time=   0.0s\n",
      "[CV] END ...................C=1, gamma=0.001, random_state=6; total time=   0.0s\n",
      "[CV] END ...................C=1, gamma=0.001, random_state=6; total time=   0.0s\n",
      "[CV] END ...................C=1, gamma=0.001, random_state=7; total time=   0.0s\n",
      "[CV] END ...................C=1, gamma=0.001, random_state=7; total time=   0.0s\n",
      "[CV] END ...................C=1, gamma=0.001, random_state=7; total time=   0.0s\n",
      "[CV] END ...................C=1, gamma=0.001, random_state=7; total time=   0.0s\n",
      "[CV] END ...................C=1, gamma=0.001, random_state=7; total time=   0.0s\n",
      "[CV] END ...................C=1, gamma=0.001, random_state=8; total time=   0.0s\n",
      "[CV] END ...................C=1, gamma=0.001, random_state=8; total time=   0.0s\n",
      "[CV] END ...................C=1, gamma=0.001, random_state=8; total time=   0.0s\n",
      "[CV] END ...................C=1, gamma=0.001, random_state=8; total time=   0.0s\n",
      "[CV] END ...................C=1, gamma=0.001, random_state=8; total time=   0.0s\n",
      "[CV] END ...................C=1, gamma=0.001, random_state=9; total time=   0.0s\n",
      "[CV] END ...................C=1, gamma=0.001, random_state=9; total time=   0.0s\n",
      "[CV] END ...................C=1, gamma=0.001, random_state=9; total time=   0.0s\n",
      "[CV] END ...................C=1, gamma=0.001, random_state=9; total time=   0.0s\n",
      "[CV] END ...................C=1, gamma=0.001, random_state=9; total time=   0.0s\n",
      "[CV] END ..................C=1, gamma=0.001, random_state=10; total time=   0.0s\n",
      "[CV] END ..................C=1, gamma=0.001, random_state=10; total time=   0.0s\n",
      "[CV] END ..................C=1, gamma=0.001, random_state=10; total time=   0.0s\n",
      "[CV] END ..................C=1, gamma=0.001, random_state=10; total time=   0.0s\n",
      "[CV] END ..................C=1, gamma=0.001, random_state=10; total time=   0.0s\n",
      "[CV] END ..................C=1, gamma=0.001, random_state=11; total time=   0.0s\n",
      "[CV] END ..................C=1, gamma=0.001, random_state=11; total time=   0.0s\n",
      "[CV] END ..................C=1, gamma=0.001, random_state=11; total time=   0.0s\n",
      "[CV] END ..................C=1, gamma=0.001, random_state=11; total time=   0.0s\n",
      "[CV] END ..................C=1, gamma=0.001, random_state=11; total time=   0.0s\n",
      "[CV] END ..................C=1, gamma=0.001, random_state=12; total time=   0.0s\n",
      "[CV] END ..................C=1, gamma=0.001, random_state=12; total time=   0.0s\n",
      "[CV] END ..................C=1, gamma=0.001, random_state=12; total time=   0.0s\n",
      "[CV] END ..................C=1, gamma=0.001, random_state=12; total time=   0.0s\n",
      "[CV] END ..................C=1, gamma=0.001, random_state=12; total time=   0.0s\n",
      "[CV] END ..................C=1, gamma=0.001, random_state=13; total time=   0.0s\n",
      "[CV] END ..................C=1, gamma=0.001, random_state=13; total time=   0.0s\n",
      "[CV] END ..................C=1, gamma=0.001, random_state=13; total time=   0.0s\n",
      "[CV] END ..................C=1, gamma=0.001, random_state=13; total time=   0.0s\n",
      "[CV] END ..................C=1, gamma=0.001, random_state=13; total time=   0.0s\n",
      "[CV] END ..................C=1, gamma=0.001, random_state=14; total time=   0.1s\n",
      "[CV] END ..................C=1, gamma=0.001, random_state=14; total time=   0.0s\n",
      "[CV] END ..................C=1, gamma=0.001, random_state=14; total time=   0.0s\n",
      "[CV] END ..................C=1, gamma=0.001, random_state=14; total time=   0.0s\n",
      "[CV] END ..................C=1, gamma=0.001, random_state=14; total time=   0.0s\n",
      "[CV] END ..................C=1, gamma=0.001, random_state=15; total time=   0.0s\n",
      "[CV] END ..................C=1, gamma=0.001, random_state=15; total time=   0.0s\n",
      "[CV] END ..................C=1, gamma=0.001, random_state=15; total time=   0.0s\n",
      "[CV] END ..................C=1, gamma=0.001, random_state=15; total time=   0.0s\n",
      "[CV] END ..................C=1, gamma=0.001, random_state=15; total time=   0.0s\n",
      "[CV] END ..................C=1, gamma=0.001, random_state=16; total time=   0.1s\n",
      "[CV] END ..................C=1, gamma=0.001, random_state=16; total time=   0.0s\n",
      "[CV] END ..................C=1, gamma=0.001, random_state=16; total time=   0.0s\n",
      "[CV] END ..................C=1, gamma=0.001, random_state=16; total time=   0.0s\n",
      "[CV] END ..................C=1, gamma=0.001, random_state=16; total time=   0.0s\n",
      "[CV] END ..................C=1, gamma=0.001, random_state=17; total time=   0.0s\n",
      "[CV] END ..................C=1, gamma=0.001, random_state=17; total time=   0.0s\n",
      "[CV] END ..................C=1, gamma=0.001, random_state=17; total time=   0.0s\n",
      "[CV] END ..................C=1, gamma=0.001, random_state=17; total time=   0.0s\n",
      "[CV] END ..................C=1, gamma=0.001, random_state=17; total time=   0.0s\n",
      "[CV] END ..................C=1, gamma=0.001, random_state=18; total time=   0.0s\n",
      "[CV] END ..................C=1, gamma=0.001, random_state=18; total time=   0.0s\n",
      "[CV] END ..................C=1, gamma=0.001, random_state=18; total time=   0.0s\n",
      "[CV] END ..................C=1, gamma=0.001, random_state=18; total time=   0.0s\n",
      "[CV] END ..................C=1, gamma=0.001, random_state=18; total time=   0.0s\n"
     ]
    },
    {
     "name": "stdout",
     "output_type": "stream",
     "text": [
      "[CV] END ..................C=1, gamma=0.001, random_state=19; total time=   0.0s\n",
      "[CV] END ..................C=1, gamma=0.001, random_state=19; total time=   0.0s\n",
      "[CV] END ..................C=1, gamma=0.001, random_state=19; total time=   0.0s\n",
      "[CV] END ..................C=1, gamma=0.001, random_state=19; total time=   0.0s\n",
      "[CV] END ..................C=1, gamma=0.001, random_state=19; total time=   0.0s\n",
      "[CV] END ..................C=1, gamma=0.0001, random_state=1; total time=   0.0s\n",
      "[CV] END ..................C=1, gamma=0.0001, random_state=1; total time=   0.0s\n",
      "[CV] END ..................C=1, gamma=0.0001, random_state=1; total time=   0.0s\n",
      "[CV] END ..................C=1, gamma=0.0001, random_state=1; total time=   0.0s\n",
      "[CV] END ..................C=1, gamma=0.0001, random_state=1; total time=   0.0s\n",
      "[CV] END ..................C=1, gamma=0.0001, random_state=2; total time=   0.0s\n",
      "[CV] END ..................C=1, gamma=0.0001, random_state=2; total time=   0.0s\n",
      "[CV] END ..................C=1, gamma=0.0001, random_state=2; total time=   0.0s\n",
      "[CV] END ..................C=1, gamma=0.0001, random_state=2; total time=   0.0s\n",
      "[CV] END ..................C=1, gamma=0.0001, random_state=2; total time=   0.0s\n",
      "[CV] END ..................C=1, gamma=0.0001, random_state=3; total time=   0.0s\n",
      "[CV] END ..................C=1, gamma=0.0001, random_state=3; total time=   0.0s\n",
      "[CV] END ..................C=1, gamma=0.0001, random_state=3; total time=   0.0s\n",
      "[CV] END ..................C=1, gamma=0.0001, random_state=3; total time=   0.0s\n",
      "[CV] END ..................C=1, gamma=0.0001, random_state=3; total time=   0.0s\n",
      "[CV] END ..................C=1, gamma=0.0001, random_state=4; total time=   0.0s\n",
      "[CV] END ..................C=1, gamma=0.0001, random_state=4; total time=   0.0s\n",
      "[CV] END ..................C=1, gamma=0.0001, random_state=4; total time=   0.0s\n",
      "[CV] END ..................C=1, gamma=0.0001, random_state=4; total time=   0.0s\n",
      "[CV] END ..................C=1, gamma=0.0001, random_state=4; total time=   0.0s\n",
      "[CV] END ..................C=1, gamma=0.0001, random_state=5; total time=   0.0s\n",
      "[CV] END ..................C=1, gamma=0.0001, random_state=5; total time=   0.0s\n",
      "[CV] END ..................C=1, gamma=0.0001, random_state=5; total time=   0.0s\n",
      "[CV] END ..................C=1, gamma=0.0001, random_state=5; total time=   0.0s\n",
      "[CV] END ..................C=1, gamma=0.0001, random_state=5; total time=   0.0s\n",
      "[CV] END ..................C=1, gamma=0.0001, random_state=6; total time=   0.0s\n",
      "[CV] END ..................C=1, gamma=0.0001, random_state=6; total time=   0.0s\n",
      "[CV] END ..................C=1, gamma=0.0001, random_state=6; total time=   0.0s\n",
      "[CV] END ..................C=1, gamma=0.0001, random_state=6; total time=   0.0s\n",
      "[CV] END ..................C=1, gamma=0.0001, random_state=6; total time=   0.0s\n",
      "[CV] END ..................C=1, gamma=0.0001, random_state=7; total time=   0.0s\n",
      "[CV] END ..................C=1, gamma=0.0001, random_state=7; total time=   0.0s\n",
      "[CV] END ..................C=1, gamma=0.0001, random_state=7; total time=   0.0s\n",
      "[CV] END ..................C=1, gamma=0.0001, random_state=7; total time=   0.0s\n",
      "[CV] END ..................C=1, gamma=0.0001, random_state=7; total time=   0.0s\n",
      "[CV] END ..................C=1, gamma=0.0001, random_state=8; total time=   0.0s\n",
      "[CV] END ..................C=1, gamma=0.0001, random_state=8; total time=   0.0s\n",
      "[CV] END ..................C=1, gamma=0.0001, random_state=8; total time=   0.0s\n",
      "[CV] END ..................C=1, gamma=0.0001, random_state=8; total time=   0.0s\n",
      "[CV] END ..................C=1, gamma=0.0001, random_state=8; total time=   0.0s\n",
      "[CV] END ..................C=1, gamma=0.0001, random_state=9; total time=   0.0s\n",
      "[CV] END ..................C=1, gamma=0.0001, random_state=9; total time=   0.0s\n",
      "[CV] END ..................C=1, gamma=0.0001, random_state=9; total time=   0.0s\n",
      "[CV] END ..................C=1, gamma=0.0001, random_state=9; total time=   0.0s\n",
      "[CV] END ..................C=1, gamma=0.0001, random_state=9; total time=   0.0s\n",
      "[CV] END .................C=1, gamma=0.0001, random_state=10; total time=   0.0s\n",
      "[CV] END .................C=1, gamma=0.0001, random_state=10; total time=   0.0s\n",
      "[CV] END .................C=1, gamma=0.0001, random_state=10; total time=   0.0s\n",
      "[CV] END .................C=1, gamma=0.0001, random_state=10; total time=   0.0s\n",
      "[CV] END .................C=1, gamma=0.0001, random_state=10; total time=   0.0s\n",
      "[CV] END .................C=1, gamma=0.0001, random_state=11; total time=   0.0s\n",
      "[CV] END .................C=1, gamma=0.0001, random_state=11; total time=   0.0s\n",
      "[CV] END .................C=1, gamma=0.0001, random_state=11; total time=   0.0s\n",
      "[CV] END .................C=1, gamma=0.0001, random_state=11; total time=   0.0s\n",
      "[CV] END .................C=1, gamma=0.0001, random_state=11; total time=   0.0s\n",
      "[CV] END .................C=1, gamma=0.0001, random_state=12; total time=   0.0s\n",
      "[CV] END .................C=1, gamma=0.0001, random_state=12; total time=   0.0s\n",
      "[CV] END .................C=1, gamma=0.0001, random_state=12; total time=   0.0s\n",
      "[CV] END .................C=1, gamma=0.0001, random_state=12; total time=   0.0s\n",
      "[CV] END .................C=1, gamma=0.0001, random_state=12; total time=   0.0s\n",
      "[CV] END .................C=1, gamma=0.0001, random_state=13; total time=   0.0s\n",
      "[CV] END .................C=1, gamma=0.0001, random_state=13; total time=   0.0s\n",
      "[CV] END .................C=1, gamma=0.0001, random_state=13; total time=   0.0s\n",
      "[CV] END .................C=1, gamma=0.0001, random_state=13; total time=   0.0s\n",
      "[CV] END .................C=1, gamma=0.0001, random_state=13; total time=   0.0s\n",
      "[CV] END .................C=1, gamma=0.0001, random_state=14; total time=   0.0s\n",
      "[CV] END .................C=1, gamma=0.0001, random_state=14; total time=   0.0s\n",
      "[CV] END .................C=1, gamma=0.0001, random_state=14; total time=   0.0s\n",
      "[CV] END .................C=1, gamma=0.0001, random_state=14; total time=   0.0s\n",
      "[CV] END .................C=1, gamma=0.0001, random_state=14; total time=   0.0s\n",
      "[CV] END .................C=1, gamma=0.0001, random_state=15; total time=   0.0s\n",
      "[CV] END .................C=1, gamma=0.0001, random_state=15; total time=   0.0s\n",
      "[CV] END .................C=1, gamma=0.0001, random_state=15; total time=   0.0s\n",
      "[CV] END .................C=1, gamma=0.0001, random_state=15; total time=   0.0s\n",
      "[CV] END .................C=1, gamma=0.0001, random_state=15; total time=   0.0s\n",
      "[CV] END .................C=1, gamma=0.0001, random_state=16; total time=   0.0s\n",
      "[CV] END .................C=1, gamma=0.0001, random_state=16; total time=   0.0s\n",
      "[CV] END .................C=1, gamma=0.0001, random_state=16; total time=   0.0s\n",
      "[CV] END .................C=1, gamma=0.0001, random_state=16; total time=   0.0s\n",
      "[CV] END .................C=1, gamma=0.0001, random_state=16; total time=   0.0s\n",
      "[CV] END .................C=1, gamma=0.0001, random_state=17; total time=   0.0s\n",
      "[CV] END .................C=1, gamma=0.0001, random_state=17; total time=   0.0s\n",
      "[CV] END .................C=1, gamma=0.0001, random_state=17; total time=   0.0s\n",
      "[CV] END .................C=1, gamma=0.0001, random_state=17; total time=   0.0s\n",
      "[CV] END .................C=1, gamma=0.0001, random_state=17; total time=   0.0s\n",
      "[CV] END .................C=1, gamma=0.0001, random_state=18; total time=   0.0s\n",
      "[CV] END .................C=1, gamma=0.0001, random_state=18; total time=   0.0s\n",
      "[CV] END .................C=1, gamma=0.0001, random_state=18; total time=   0.0s\n",
      "[CV] END .................C=1, gamma=0.0001, random_state=18; total time=   0.0s\n",
      "[CV] END .................C=1, gamma=0.0001, random_state=18; total time=   0.0s\n",
      "[CV] END .................C=1, gamma=0.0001, random_state=19; total time=   0.0s\n",
      "[CV] END .................C=1, gamma=0.0001, random_state=19; total time=   0.0s\n",
      "[CV] END .................C=1, gamma=0.0001, random_state=19; total time=   0.0s\n",
      "[CV] END .................C=1, gamma=0.0001, random_state=19; total time=   0.0s\n",
      "[CV] END .................C=1, gamma=0.0001, random_state=19; total time=   0.0s\n",
      "[CV] END ......................C=10, gamma=1, random_state=1; total time=   0.0s\n",
      "[CV] END ......................C=10, gamma=1, random_state=1; total time=   0.0s\n"
     ]
    },
    {
     "name": "stdout",
     "output_type": "stream",
     "text": [
      "[CV] END ......................C=10, gamma=1, random_state=1; total time=   0.0s\n",
      "[CV] END ......................C=10, gamma=1, random_state=1; total time=   0.0s\n",
      "[CV] END ......................C=10, gamma=1, random_state=1; total time=   0.0s\n",
      "[CV] END ......................C=10, gamma=1, random_state=2; total time=   0.0s\n",
      "[CV] END ......................C=10, gamma=1, random_state=2; total time=   0.0s\n",
      "[CV] END ......................C=10, gamma=1, random_state=2; total time=   0.0s\n",
      "[CV] END ......................C=10, gamma=1, random_state=2; total time=   0.0s\n",
      "[CV] END ......................C=10, gamma=1, random_state=2; total time=   0.0s\n",
      "[CV] END ......................C=10, gamma=1, random_state=3; total time=   0.0s\n",
      "[CV] END ......................C=10, gamma=1, random_state=3; total time=   0.0s\n",
      "[CV] END ......................C=10, gamma=1, random_state=3; total time=   0.0s\n",
      "[CV] END ......................C=10, gamma=1, random_state=3; total time=   0.0s\n",
      "[CV] END ......................C=10, gamma=1, random_state=3; total time=   0.0s\n",
      "[CV] END ......................C=10, gamma=1, random_state=4; total time=   0.0s\n",
      "[CV] END ......................C=10, gamma=1, random_state=4; total time=   0.0s\n",
      "[CV] END ......................C=10, gamma=1, random_state=4; total time=   0.0s\n",
      "[CV] END ......................C=10, gamma=1, random_state=4; total time=   0.0s\n",
      "[CV] END ......................C=10, gamma=1, random_state=4; total time=   0.0s\n",
      "[CV] END ......................C=10, gamma=1, random_state=5; total time=   0.0s\n",
      "[CV] END ......................C=10, gamma=1, random_state=5; total time=   0.0s\n",
      "[CV] END ......................C=10, gamma=1, random_state=5; total time=   0.0s\n",
      "[CV] END ......................C=10, gamma=1, random_state=5; total time=   0.0s\n",
      "[CV] END ......................C=10, gamma=1, random_state=5; total time=   0.0s\n",
      "[CV] END ......................C=10, gamma=1, random_state=6; total time=   0.0s\n",
      "[CV] END ......................C=10, gamma=1, random_state=6; total time=   0.0s\n",
      "[CV] END ......................C=10, gamma=1, random_state=6; total time=   0.0s\n",
      "[CV] END ......................C=10, gamma=1, random_state=6; total time=   0.0s\n",
      "[CV] END ......................C=10, gamma=1, random_state=6; total time=   0.0s\n",
      "[CV] END ......................C=10, gamma=1, random_state=7; total time=   0.0s\n",
      "[CV] END ......................C=10, gamma=1, random_state=7; total time=   0.0s\n",
      "[CV] END ......................C=10, gamma=1, random_state=7; total time=   0.0s\n",
      "[CV] END ......................C=10, gamma=1, random_state=7; total time=   0.0s\n",
      "[CV] END ......................C=10, gamma=1, random_state=7; total time=   0.0s\n",
      "[CV] END ......................C=10, gamma=1, random_state=8; total time=   0.0s\n",
      "[CV] END ......................C=10, gamma=1, random_state=8; total time=   0.0s\n",
      "[CV] END ......................C=10, gamma=1, random_state=8; total time=   0.0s\n",
      "[CV] END ......................C=10, gamma=1, random_state=8; total time=   0.0s\n",
      "[CV] END ......................C=10, gamma=1, random_state=8; total time=   0.0s\n",
      "[CV] END ......................C=10, gamma=1, random_state=9; total time=   0.0s\n",
      "[CV] END ......................C=10, gamma=1, random_state=9; total time=   0.0s\n",
      "[CV] END ......................C=10, gamma=1, random_state=9; total time=   0.0s\n",
      "[CV] END ......................C=10, gamma=1, random_state=9; total time=   0.0s\n",
      "[CV] END ......................C=10, gamma=1, random_state=9; total time=   0.0s\n",
      "[CV] END .....................C=10, gamma=1, random_state=10; total time=   0.0s\n",
      "[CV] END .....................C=10, gamma=1, random_state=10; total time=   0.0s\n",
      "[CV] END .....................C=10, gamma=1, random_state=10; total time=   0.0s\n",
      "[CV] END .....................C=10, gamma=1, random_state=10; total time=   0.0s\n",
      "[CV] END .....................C=10, gamma=1, random_state=10; total time=   0.0s\n",
      "[CV] END .....................C=10, gamma=1, random_state=11; total time=   0.0s\n",
      "[CV] END .....................C=10, gamma=1, random_state=11; total time=   0.0s\n",
      "[CV] END .....................C=10, gamma=1, random_state=11; total time=   0.0s\n",
      "[CV] END .....................C=10, gamma=1, random_state=11; total time=   0.0s\n",
      "[CV] END .....................C=10, gamma=1, random_state=11; total time=   0.0s\n",
      "[CV] END .....................C=10, gamma=1, random_state=12; total time=   0.0s\n",
      "[CV] END .....................C=10, gamma=1, random_state=12; total time=   0.0s\n",
      "[CV] END .....................C=10, gamma=1, random_state=12; total time=   0.0s\n",
      "[CV] END .....................C=10, gamma=1, random_state=12; total time=   0.0s\n",
      "[CV] END .....................C=10, gamma=1, random_state=12; total time=   0.0s\n",
      "[CV] END .....................C=10, gamma=1, random_state=13; total time=   0.0s\n",
      "[CV] END .....................C=10, gamma=1, random_state=13; total time=   0.0s\n",
      "[CV] END .....................C=10, gamma=1, random_state=13; total time=   0.0s\n",
      "[CV] END .....................C=10, gamma=1, random_state=13; total time=   0.0s\n",
      "[CV] END .....................C=10, gamma=1, random_state=13; total time=   0.0s\n",
      "[CV] END .....................C=10, gamma=1, random_state=14; total time=   0.0s\n",
      "[CV] END .....................C=10, gamma=1, random_state=14; total time=   0.0s\n",
      "[CV] END .....................C=10, gamma=1, random_state=14; total time=   0.0s\n",
      "[CV] END .....................C=10, gamma=1, random_state=14; total time=   0.0s\n",
      "[CV] END .....................C=10, gamma=1, random_state=14; total time=   0.0s\n",
      "[CV] END .....................C=10, gamma=1, random_state=15; total time=   0.0s\n",
      "[CV] END .....................C=10, gamma=1, random_state=15; total time=   0.0s\n",
      "[CV] END .....................C=10, gamma=1, random_state=15; total time=   0.0s\n",
      "[CV] END .....................C=10, gamma=1, random_state=15; total time=   0.0s\n",
      "[CV] END .....................C=10, gamma=1, random_state=15; total time=   0.0s\n",
      "[CV] END .....................C=10, gamma=1, random_state=16; total time=   0.0s\n",
      "[CV] END .....................C=10, gamma=1, random_state=16; total time=   0.0s\n",
      "[CV] END .....................C=10, gamma=1, random_state=16; total time=   0.0s\n",
      "[CV] END .....................C=10, gamma=1, random_state=16; total time=   0.0s\n",
      "[CV] END .....................C=10, gamma=1, random_state=16; total time=   0.0s\n",
      "[CV] END .....................C=10, gamma=1, random_state=17; total time=   0.0s\n",
      "[CV] END .....................C=10, gamma=1, random_state=17; total time=   0.0s\n",
      "[CV] END .....................C=10, gamma=1, random_state=17; total time=   0.0s\n",
      "[CV] END .....................C=10, gamma=1, random_state=17; total time=   0.0s\n",
      "[CV] END .....................C=10, gamma=1, random_state=17; total time=   0.0s\n",
      "[CV] END .....................C=10, gamma=1, random_state=18; total time=   0.0s\n",
      "[CV] END .....................C=10, gamma=1, random_state=18; total time=   0.0s\n",
      "[CV] END .....................C=10, gamma=1, random_state=18; total time=   0.0s\n",
      "[CV] END .....................C=10, gamma=1, random_state=18; total time=   0.0s\n",
      "[CV] END .....................C=10, gamma=1, random_state=18; total time=   0.0s\n",
      "[CV] END .....................C=10, gamma=1, random_state=19; total time=   0.0s\n",
      "[CV] END .....................C=10, gamma=1, random_state=19; total time=   0.0s\n",
      "[CV] END .....................C=10, gamma=1, random_state=19; total time=   0.0s\n",
      "[CV] END .....................C=10, gamma=1, random_state=19; total time=   0.0s\n",
      "[CV] END .....................C=10, gamma=1, random_state=19; total time=   0.0s\n",
      "[CV] END ....................C=10, gamma=0.1, random_state=1; total time=   0.0s\n",
      "[CV] END ....................C=10, gamma=0.1, random_state=1; total time=   0.0s\n",
      "[CV] END ....................C=10, gamma=0.1, random_state=1; total time=   0.0s\n",
      "[CV] END ....................C=10, gamma=0.1, random_state=1; total time=   0.0s\n",
      "[CV] END ....................C=10, gamma=0.1, random_state=1; total time=   0.0s\n",
      "[CV] END ....................C=10, gamma=0.1, random_state=2; total time=   0.0s\n",
      "[CV] END ....................C=10, gamma=0.1, random_state=2; total time=   0.0s\n",
      "[CV] END ....................C=10, gamma=0.1, random_state=2; total time=   0.0s\n",
      "[CV] END ....................C=10, gamma=0.1, random_state=2; total time=   0.0s\n",
      "[CV] END ....................C=10, gamma=0.1, random_state=2; total time=   0.0s\n",
      "[CV] END ....................C=10, gamma=0.1, random_state=3; total time=   0.0s\n",
      "[CV] END ....................C=10, gamma=0.1, random_state=3; total time=   0.0s\n",
      "[CV] END ....................C=10, gamma=0.1, random_state=3; total time=   0.0s\n"
     ]
    },
    {
     "name": "stdout",
     "output_type": "stream",
     "text": [
      "[CV] END ....................C=10, gamma=0.1, random_state=3; total time=   0.0s\n",
      "[CV] END ....................C=10, gamma=0.1, random_state=3; total time=   0.0s\n",
      "[CV] END ....................C=10, gamma=0.1, random_state=4; total time=   0.0s\n",
      "[CV] END ....................C=10, gamma=0.1, random_state=4; total time=   0.0s\n",
      "[CV] END ....................C=10, gamma=0.1, random_state=4; total time=   0.0s\n",
      "[CV] END ....................C=10, gamma=0.1, random_state=4; total time=   0.0s\n",
      "[CV] END ....................C=10, gamma=0.1, random_state=4; total time=   0.0s\n",
      "[CV] END ....................C=10, gamma=0.1, random_state=5; total time=   0.0s\n",
      "[CV] END ....................C=10, gamma=0.1, random_state=5; total time=   0.0s\n",
      "[CV] END ....................C=10, gamma=0.1, random_state=5; total time=   0.0s\n",
      "[CV] END ....................C=10, gamma=0.1, random_state=5; total time=   0.0s\n",
      "[CV] END ....................C=10, gamma=0.1, random_state=5; total time=   0.0s\n",
      "[CV] END ....................C=10, gamma=0.1, random_state=6; total time=   0.0s\n",
      "[CV] END ....................C=10, gamma=0.1, random_state=6; total time=   0.0s\n",
      "[CV] END ....................C=10, gamma=0.1, random_state=6; total time=   0.0s\n",
      "[CV] END ....................C=10, gamma=0.1, random_state=6; total time=   0.0s\n",
      "[CV] END ....................C=10, gamma=0.1, random_state=6; total time=   0.0s\n",
      "[CV] END ....................C=10, gamma=0.1, random_state=7; total time=   0.0s\n",
      "[CV] END ....................C=10, gamma=0.1, random_state=7; total time=   0.0s\n",
      "[CV] END ....................C=10, gamma=0.1, random_state=7; total time=   0.0s\n",
      "[CV] END ....................C=10, gamma=0.1, random_state=7; total time=   0.0s\n",
      "[CV] END ....................C=10, gamma=0.1, random_state=7; total time=   0.0s\n",
      "[CV] END ....................C=10, gamma=0.1, random_state=8; total time=   0.0s\n",
      "[CV] END ....................C=10, gamma=0.1, random_state=8; total time=   0.0s\n",
      "[CV] END ....................C=10, gamma=0.1, random_state=8; total time=   0.0s\n",
      "[CV] END ....................C=10, gamma=0.1, random_state=8; total time=   0.0s\n",
      "[CV] END ....................C=10, gamma=0.1, random_state=8; total time=   0.0s\n",
      "[CV] END ....................C=10, gamma=0.1, random_state=9; total time=   0.0s\n",
      "[CV] END ....................C=10, gamma=0.1, random_state=9; total time=   0.0s\n",
      "[CV] END ....................C=10, gamma=0.1, random_state=9; total time=   0.0s\n",
      "[CV] END ....................C=10, gamma=0.1, random_state=9; total time=   0.0s\n",
      "[CV] END ....................C=10, gamma=0.1, random_state=9; total time=   0.0s\n",
      "[CV] END ...................C=10, gamma=0.1, random_state=10; total time=   0.1s\n",
      "[CV] END ...................C=10, gamma=0.1, random_state=10; total time=   0.0s\n",
      "[CV] END ...................C=10, gamma=0.1, random_state=10; total time=   0.0s\n",
      "[CV] END ...................C=10, gamma=0.1, random_state=10; total time=   0.0s\n",
      "[CV] END ...................C=10, gamma=0.1, random_state=10; total time=   0.0s\n",
      "[CV] END ...................C=10, gamma=0.1, random_state=11; total time=   0.0s\n",
      "[CV] END ...................C=10, gamma=0.1, random_state=11; total time=   0.0s\n",
      "[CV] END ...................C=10, gamma=0.1, random_state=11; total time=   0.0s\n",
      "[CV] END ...................C=10, gamma=0.1, random_state=11; total time=   0.0s\n",
      "[CV] END ...................C=10, gamma=0.1, random_state=11; total time=   0.0s\n",
      "[CV] END ...................C=10, gamma=0.1, random_state=12; total time=   0.0s\n",
      "[CV] END ...................C=10, gamma=0.1, random_state=12; total time=   0.0s\n",
      "[CV] END ...................C=10, gamma=0.1, random_state=12; total time=   0.0s\n",
      "[CV] END ...................C=10, gamma=0.1, random_state=12; total time=   0.0s\n",
      "[CV] END ...................C=10, gamma=0.1, random_state=12; total time=   0.0s\n",
      "[CV] END ...................C=10, gamma=0.1, random_state=13; total time=   0.0s\n",
      "[CV] END ...................C=10, gamma=0.1, random_state=13; total time=   0.0s\n",
      "[CV] END ...................C=10, gamma=0.1, random_state=13; total time=   0.0s\n",
      "[CV] END ...................C=10, gamma=0.1, random_state=13; total time=   0.0s\n",
      "[CV] END ...................C=10, gamma=0.1, random_state=13; total time=   0.0s\n",
      "[CV] END ...................C=10, gamma=0.1, random_state=14; total time=   0.0s\n",
      "[CV] END ...................C=10, gamma=0.1, random_state=14; total time=   0.0s\n",
      "[CV] END ...................C=10, gamma=0.1, random_state=14; total time=   0.0s\n",
      "[CV] END ...................C=10, gamma=0.1, random_state=14; total time=   0.0s\n",
      "[CV] END ...................C=10, gamma=0.1, random_state=14; total time=   0.0s\n",
      "[CV] END ...................C=10, gamma=0.1, random_state=15; total time=   0.0s\n",
      "[CV] END ...................C=10, gamma=0.1, random_state=15; total time=   0.0s\n",
      "[CV] END ...................C=10, gamma=0.1, random_state=15; total time=   0.0s\n",
      "[CV] END ...................C=10, gamma=0.1, random_state=15; total time=   0.0s\n",
      "[CV] END ...................C=10, gamma=0.1, random_state=15; total time=   0.0s\n",
      "[CV] END ...................C=10, gamma=0.1, random_state=16; total time=   0.0s\n",
      "[CV] END ...................C=10, gamma=0.1, random_state=16; total time=   0.0s\n",
      "[CV] END ...................C=10, gamma=0.1, random_state=16; total time=   0.0s\n",
      "[CV] END ...................C=10, gamma=0.1, random_state=16; total time=   0.0s\n",
      "[CV] END ...................C=10, gamma=0.1, random_state=16; total time=   0.0s\n",
      "[CV] END ...................C=10, gamma=0.1, random_state=17; total time=   0.0s\n",
      "[CV] END ...................C=10, gamma=0.1, random_state=17; total time=   0.0s\n",
      "[CV] END ...................C=10, gamma=0.1, random_state=17; total time=   0.0s\n",
      "[CV] END ...................C=10, gamma=0.1, random_state=17; total time=   0.0s\n",
      "[CV] END ...................C=10, gamma=0.1, random_state=17; total time=   0.0s\n",
      "[CV] END ...................C=10, gamma=0.1, random_state=18; total time=   0.0s\n",
      "[CV] END ...................C=10, gamma=0.1, random_state=18; total time=   0.0s\n",
      "[CV] END ...................C=10, gamma=0.1, random_state=18; total time=   0.0s\n",
      "[CV] END ...................C=10, gamma=0.1, random_state=18; total time=   0.0s\n",
      "[CV] END ...................C=10, gamma=0.1, random_state=18; total time=   0.0s\n",
      "[CV] END ...................C=10, gamma=0.1, random_state=19; total time=   0.0s\n",
      "[CV] END ...................C=10, gamma=0.1, random_state=19; total time=   0.0s\n",
      "[CV] END ...................C=10, gamma=0.1, random_state=19; total time=   0.0s\n",
      "[CV] END ...................C=10, gamma=0.1, random_state=19; total time=   0.0s\n",
      "[CV] END ...................C=10, gamma=0.1, random_state=19; total time=   0.0s\n",
      "[CV] END ...................C=10, gamma=0.01, random_state=1; total time=   0.0s\n",
      "[CV] END ...................C=10, gamma=0.01, random_state=1; total time=   0.0s\n",
      "[CV] END ...................C=10, gamma=0.01, random_state=1; total time=   0.0s\n",
      "[CV] END ...................C=10, gamma=0.01, random_state=1; total time=   0.0s\n",
      "[CV] END ...................C=10, gamma=0.01, random_state=1; total time=   0.0s\n",
      "[CV] END ...................C=10, gamma=0.01, random_state=2; total time=   0.0s\n",
      "[CV] END ...................C=10, gamma=0.01, random_state=2; total time=   0.0s\n",
      "[CV] END ...................C=10, gamma=0.01, random_state=2; total time=   0.0s\n",
      "[CV] END ...................C=10, gamma=0.01, random_state=2; total time=   0.0s\n",
      "[CV] END ...................C=10, gamma=0.01, random_state=2; total time=   0.0s\n",
      "[CV] END ...................C=10, gamma=0.01, random_state=3; total time=   0.0s\n",
      "[CV] END ...................C=10, gamma=0.01, random_state=3; total time=   0.0s\n",
      "[CV] END ...................C=10, gamma=0.01, random_state=3; total time=   0.0s\n",
      "[CV] END ...................C=10, gamma=0.01, random_state=3; total time=   0.0s\n",
      "[CV] END ...................C=10, gamma=0.01, random_state=3; total time=   0.0s\n",
      "[CV] END ...................C=10, gamma=0.01, random_state=4; total time=   0.0s\n",
      "[CV] END ...................C=10, gamma=0.01, random_state=4; total time=   0.0s\n",
      "[CV] END ...................C=10, gamma=0.01, random_state=4; total time=   0.0s\n",
      "[CV] END ...................C=10, gamma=0.01, random_state=4; total time=   0.0s\n",
      "[CV] END ...................C=10, gamma=0.01, random_state=4; total time=   0.0s\n",
      "[CV] END ...................C=10, gamma=0.01, random_state=5; total time=   0.0s\n",
      "[CV] END ...................C=10, gamma=0.01, random_state=5; total time=   0.0s\n",
      "[CV] END ...................C=10, gamma=0.01, random_state=5; total time=   0.0s\n",
      "[CV] END ...................C=10, gamma=0.01, random_state=5; total time=   0.0s\n"
     ]
    },
    {
     "name": "stdout",
     "output_type": "stream",
     "text": [
      "[CV] END ...................C=10, gamma=0.01, random_state=5; total time=   0.0s\n",
      "[CV] END ...................C=10, gamma=0.01, random_state=6; total time=   0.0s\n",
      "[CV] END ...................C=10, gamma=0.01, random_state=6; total time=   0.0s\n",
      "[CV] END ...................C=10, gamma=0.01, random_state=6; total time=   0.0s\n",
      "[CV] END ...................C=10, gamma=0.01, random_state=6; total time=   0.0s\n",
      "[CV] END ...................C=10, gamma=0.01, random_state=6; total time=   0.0s\n",
      "[CV] END ...................C=10, gamma=0.01, random_state=7; total time=   0.0s\n",
      "[CV] END ...................C=10, gamma=0.01, random_state=7; total time=   0.0s\n",
      "[CV] END ...................C=10, gamma=0.01, random_state=7; total time=   0.0s\n",
      "[CV] END ...................C=10, gamma=0.01, random_state=7; total time=   0.0s\n",
      "[CV] END ...................C=10, gamma=0.01, random_state=7; total time=   0.0s\n",
      "[CV] END ...................C=10, gamma=0.01, random_state=8; total time=   0.0s\n",
      "[CV] END ...................C=10, gamma=0.01, random_state=8; total time=   0.0s\n",
      "[CV] END ...................C=10, gamma=0.01, random_state=8; total time=   0.0s\n",
      "[CV] END ...................C=10, gamma=0.01, random_state=8; total time=   0.0s\n",
      "[CV] END ...................C=10, gamma=0.01, random_state=8; total time=   0.0s\n",
      "[CV] END ...................C=10, gamma=0.01, random_state=9; total time=   0.0s\n",
      "[CV] END ...................C=10, gamma=0.01, random_state=9; total time=   0.0s\n",
      "[CV] END ...................C=10, gamma=0.01, random_state=9; total time=   0.0s\n",
      "[CV] END ...................C=10, gamma=0.01, random_state=9; total time=   0.0s\n",
      "[CV] END ...................C=10, gamma=0.01, random_state=9; total time=   0.0s\n",
      "[CV] END ..................C=10, gamma=0.01, random_state=10; total time=   0.0s\n",
      "[CV] END ..................C=10, gamma=0.01, random_state=10; total time=   0.0s\n",
      "[CV] END ..................C=10, gamma=0.01, random_state=10; total time=   0.0s\n",
      "[CV] END ..................C=10, gamma=0.01, random_state=10; total time=   0.0s\n",
      "[CV] END ..................C=10, gamma=0.01, random_state=10; total time=   0.0s\n",
      "[CV] END ..................C=10, gamma=0.01, random_state=11; total time=   0.0s\n",
      "[CV] END ..................C=10, gamma=0.01, random_state=11; total time=   0.0s\n",
      "[CV] END ..................C=10, gamma=0.01, random_state=11; total time=   0.0s\n",
      "[CV] END ..................C=10, gamma=0.01, random_state=11; total time=   0.0s\n",
      "[CV] END ..................C=10, gamma=0.01, random_state=11; total time=   0.0s\n",
      "[CV] END ..................C=10, gamma=0.01, random_state=12; total time=   0.0s\n",
      "[CV] END ..................C=10, gamma=0.01, random_state=12; total time=   0.0s\n",
      "[CV] END ..................C=10, gamma=0.01, random_state=12; total time=   0.0s\n",
      "[CV] END ..................C=10, gamma=0.01, random_state=12; total time=   0.0s\n",
      "[CV] END ..................C=10, gamma=0.01, random_state=12; total time=   0.0s\n",
      "[CV] END ..................C=10, gamma=0.01, random_state=13; total time=   0.0s\n",
      "[CV] END ..................C=10, gamma=0.01, random_state=13; total time=   0.0s\n",
      "[CV] END ..................C=10, gamma=0.01, random_state=13; total time=   0.0s\n",
      "[CV] END ..................C=10, gamma=0.01, random_state=13; total time=   0.0s\n",
      "[CV] END ..................C=10, gamma=0.01, random_state=13; total time=   0.0s\n",
      "[CV] END ..................C=10, gamma=0.01, random_state=14; total time=   0.0s\n",
      "[CV] END ..................C=10, gamma=0.01, random_state=14; total time=   0.0s\n",
      "[CV] END ..................C=10, gamma=0.01, random_state=14; total time=   0.0s\n",
      "[CV] END ..................C=10, gamma=0.01, random_state=14; total time=   0.0s\n",
      "[CV] END ..................C=10, gamma=0.01, random_state=14; total time=   0.0s\n",
      "[CV] END ..................C=10, gamma=0.01, random_state=15; total time=   0.0s\n",
      "[CV] END ..................C=10, gamma=0.01, random_state=15; total time=   0.0s\n",
      "[CV] END ..................C=10, gamma=0.01, random_state=15; total time=   0.0s\n",
      "[CV] END ..................C=10, gamma=0.01, random_state=15; total time=   0.0s\n",
      "[CV] END ..................C=10, gamma=0.01, random_state=15; total time=   0.0s\n",
      "[CV] END ..................C=10, gamma=0.01, random_state=16; total time=   0.0s\n",
      "[CV] END ..................C=10, gamma=0.01, random_state=16; total time=   0.0s\n",
      "[CV] END ..................C=10, gamma=0.01, random_state=16; total time=   0.0s\n",
      "[CV] END ..................C=10, gamma=0.01, random_state=16; total time=   0.0s\n",
      "[CV] END ..................C=10, gamma=0.01, random_state=16; total time=   0.0s\n",
      "[CV] END ..................C=10, gamma=0.01, random_state=17; total time=   0.0s\n",
      "[CV] END ..................C=10, gamma=0.01, random_state=17; total time=   0.0s\n",
      "[CV] END ..................C=10, gamma=0.01, random_state=17; total time=   0.0s\n",
      "[CV] END ..................C=10, gamma=0.01, random_state=17; total time=   0.0s\n",
      "[CV] END ..................C=10, gamma=0.01, random_state=17; total time=   0.0s\n",
      "[CV] END ..................C=10, gamma=0.01, random_state=18; total time=   0.0s\n",
      "[CV] END ..................C=10, gamma=0.01, random_state=18; total time=   0.0s\n",
      "[CV] END ..................C=10, gamma=0.01, random_state=18; total time=   0.0s\n",
      "[CV] END ..................C=10, gamma=0.01, random_state=18; total time=   0.0s\n",
      "[CV] END ..................C=10, gamma=0.01, random_state=18; total time=   0.0s\n",
      "[CV] END ..................C=10, gamma=0.01, random_state=19; total time=   0.0s\n",
      "[CV] END ..................C=10, gamma=0.01, random_state=19; total time=   0.0s\n",
      "[CV] END ..................C=10, gamma=0.01, random_state=19; total time=   0.0s\n",
      "[CV] END ..................C=10, gamma=0.01, random_state=19; total time=   0.0s\n",
      "[CV] END ..................C=10, gamma=0.01, random_state=19; total time=   0.0s\n",
      "[CV] END ..................C=10, gamma=0.001, random_state=1; total time=   0.0s\n",
      "[CV] END ..................C=10, gamma=0.001, random_state=1; total time=   0.0s\n",
      "[CV] END ..................C=10, gamma=0.001, random_state=1; total time=   0.0s\n",
      "[CV] END ..................C=10, gamma=0.001, random_state=1; total time=   0.0s\n",
      "[CV] END ..................C=10, gamma=0.001, random_state=1; total time=   0.0s\n",
      "[CV] END ..................C=10, gamma=0.001, random_state=2; total time=   0.0s\n",
      "[CV] END ..................C=10, gamma=0.001, random_state=2; total time=   0.0s\n",
      "[CV] END ..................C=10, gamma=0.001, random_state=2; total time=   0.0s\n",
      "[CV] END ..................C=10, gamma=0.001, random_state=2; total time=   0.0s\n",
      "[CV] END ..................C=10, gamma=0.001, random_state=2; total time=   0.0s\n",
      "[CV] END ..................C=10, gamma=0.001, random_state=3; total time=   0.0s\n",
      "[CV] END ..................C=10, gamma=0.001, random_state=3; total time=   0.0s\n",
      "[CV] END ..................C=10, gamma=0.001, random_state=3; total time=   0.0s\n",
      "[CV] END ..................C=10, gamma=0.001, random_state=3; total time=   0.0s\n",
      "[CV] END ..................C=10, gamma=0.001, random_state=3; total time=   0.0s\n",
      "[CV] END ..................C=10, gamma=0.001, random_state=4; total time=   0.0s\n",
      "[CV] END ..................C=10, gamma=0.001, random_state=4; total time=   0.0s\n",
      "[CV] END ..................C=10, gamma=0.001, random_state=4; total time=   0.0s\n",
      "[CV] END ..................C=10, gamma=0.001, random_state=4; total time=   0.0s\n",
      "[CV] END ..................C=10, gamma=0.001, random_state=4; total time=   0.0s\n",
      "[CV] END ..................C=10, gamma=0.001, random_state=5; total time=   0.0s\n",
      "[CV] END ..................C=10, gamma=0.001, random_state=5; total time=   0.0s\n",
      "[CV] END ..................C=10, gamma=0.001, random_state=5; total time=   0.0s\n",
      "[CV] END ..................C=10, gamma=0.001, random_state=5; total time=   0.0s\n",
      "[CV] END ..................C=10, gamma=0.001, random_state=5; total time=   0.0s\n",
      "[CV] END ..................C=10, gamma=0.001, random_state=6; total time=   0.0s\n",
      "[CV] END ..................C=10, gamma=0.001, random_state=6; total time=   0.0s\n",
      "[CV] END ..................C=10, gamma=0.001, random_state=6; total time=   0.0s\n",
      "[CV] END ..................C=10, gamma=0.001, random_state=6; total time=   0.0s\n",
      "[CV] END ..................C=10, gamma=0.001, random_state=6; total time=   0.0s\n",
      "[CV] END ..................C=10, gamma=0.001, random_state=7; total time=   0.0s\n",
      "[CV] END ..................C=10, gamma=0.001, random_state=7; total time=   0.0s\n",
      "[CV] END ..................C=10, gamma=0.001, random_state=7; total time=   0.0s\n"
     ]
    },
    {
     "name": "stdout",
     "output_type": "stream",
     "text": [
      "[CV] END ..................C=10, gamma=0.001, random_state=7; total time=   0.0s\n",
      "[CV] END ..................C=10, gamma=0.001, random_state=7; total time=   0.0s\n",
      "[CV] END ..................C=10, gamma=0.001, random_state=8; total time=   0.0s\n",
      "[CV] END ..................C=10, gamma=0.001, random_state=8; total time=   0.0s\n",
      "[CV] END ..................C=10, gamma=0.001, random_state=8; total time=   0.0s\n",
      "[CV] END ..................C=10, gamma=0.001, random_state=8; total time=   0.0s\n",
      "[CV] END ..................C=10, gamma=0.001, random_state=8; total time=   0.0s\n",
      "[CV] END ..................C=10, gamma=0.001, random_state=9; total time=   0.0s\n",
      "[CV] END ..................C=10, gamma=0.001, random_state=9; total time=   0.0s\n",
      "[CV] END ..................C=10, gamma=0.001, random_state=9; total time=   0.0s\n",
      "[CV] END ..................C=10, gamma=0.001, random_state=9; total time=   0.0s\n",
      "[CV] END ..................C=10, gamma=0.001, random_state=9; total time=   0.0s\n",
      "[CV] END .................C=10, gamma=0.001, random_state=10; total time=   0.0s\n",
      "[CV] END .................C=10, gamma=0.001, random_state=10; total time=   0.0s\n",
      "[CV] END .................C=10, gamma=0.001, random_state=10; total time=   0.0s\n",
      "[CV] END .................C=10, gamma=0.001, random_state=10; total time=   0.0s\n",
      "[CV] END .................C=10, gamma=0.001, random_state=10; total time=   0.0s\n",
      "[CV] END .................C=10, gamma=0.001, random_state=11; total time=   0.0s\n",
      "[CV] END .................C=10, gamma=0.001, random_state=11; total time=   0.0s\n",
      "[CV] END .................C=10, gamma=0.001, random_state=11; total time=   0.0s\n",
      "[CV] END .................C=10, gamma=0.001, random_state=11; total time=   0.0s\n",
      "[CV] END .................C=10, gamma=0.001, random_state=11; total time=   0.0s\n",
      "[CV] END .................C=10, gamma=0.001, random_state=12; total time=   0.0s\n",
      "[CV] END .................C=10, gamma=0.001, random_state=12; total time=   0.0s\n",
      "[CV] END .................C=10, gamma=0.001, random_state=12; total time=   0.0s\n",
      "[CV] END .................C=10, gamma=0.001, random_state=12; total time=   0.0s\n",
      "[CV] END .................C=10, gamma=0.001, random_state=12; total time=   0.0s\n",
      "[CV] END .................C=10, gamma=0.001, random_state=13; total time=   0.0s\n",
      "[CV] END .................C=10, gamma=0.001, random_state=13; total time=   0.0s\n",
      "[CV] END .................C=10, gamma=0.001, random_state=13; total time=   0.0s\n",
      "[CV] END .................C=10, gamma=0.001, random_state=13; total time=   0.0s\n",
      "[CV] END .................C=10, gamma=0.001, random_state=13; total time=   0.0s\n",
      "[CV] END .................C=10, gamma=0.001, random_state=14; total time=   0.0s\n",
      "[CV] END .................C=10, gamma=0.001, random_state=14; total time=   0.0s\n",
      "[CV] END .................C=10, gamma=0.001, random_state=14; total time=   0.0s\n",
      "[CV] END .................C=10, gamma=0.001, random_state=14; total time=   0.0s\n",
      "[CV] END .................C=10, gamma=0.001, random_state=14; total time=   0.0s\n",
      "[CV] END .................C=10, gamma=0.001, random_state=15; total time=   0.0s\n",
      "[CV] END .................C=10, gamma=0.001, random_state=15; total time=   0.0s\n",
      "[CV] END .................C=10, gamma=0.001, random_state=15; total time=   0.0s\n",
      "[CV] END .................C=10, gamma=0.001, random_state=15; total time=   0.0s\n",
      "[CV] END .................C=10, gamma=0.001, random_state=15; total time=   0.0s\n",
      "[CV] END .................C=10, gamma=0.001, random_state=16; total time=   0.0s\n",
      "[CV] END .................C=10, gamma=0.001, random_state=16; total time=   0.0s\n",
      "[CV] END .................C=10, gamma=0.001, random_state=16; total time=   0.0s\n",
      "[CV] END .................C=10, gamma=0.001, random_state=16; total time=   0.0s\n",
      "[CV] END .................C=10, gamma=0.001, random_state=16; total time=   0.0s\n",
      "[CV] END .................C=10, gamma=0.001, random_state=17; total time=   0.0s\n",
      "[CV] END .................C=10, gamma=0.001, random_state=17; total time=   0.0s\n",
      "[CV] END .................C=10, gamma=0.001, random_state=17; total time=   0.0s\n",
      "[CV] END .................C=10, gamma=0.001, random_state=17; total time=   0.0s\n",
      "[CV] END .................C=10, gamma=0.001, random_state=17; total time=   0.0s\n",
      "[CV] END .................C=10, gamma=0.001, random_state=18; total time=   0.0s\n",
      "[CV] END .................C=10, gamma=0.001, random_state=18; total time=   0.0s\n",
      "[CV] END .................C=10, gamma=0.001, random_state=18; total time=   0.0s\n",
      "[CV] END .................C=10, gamma=0.001, random_state=18; total time=   0.0s\n",
      "[CV] END .................C=10, gamma=0.001, random_state=18; total time=   0.0s\n",
      "[CV] END .................C=10, gamma=0.001, random_state=19; total time=   0.0s\n",
      "[CV] END .................C=10, gamma=0.001, random_state=19; total time=   0.0s\n",
      "[CV] END .................C=10, gamma=0.001, random_state=19; total time=   0.0s\n",
      "[CV] END .................C=10, gamma=0.001, random_state=19; total time=   0.0s\n",
      "[CV] END .................C=10, gamma=0.001, random_state=19; total time=   0.0s\n",
      "[CV] END .................C=10, gamma=0.0001, random_state=1; total time=   0.0s\n",
      "[CV] END .................C=10, gamma=0.0001, random_state=1; total time=   0.0s\n",
      "[CV] END .................C=10, gamma=0.0001, random_state=1; total time=   0.0s\n",
      "[CV] END .................C=10, gamma=0.0001, random_state=1; total time=   0.0s\n",
      "[CV] END .................C=10, gamma=0.0001, random_state=1; total time=   0.0s\n",
      "[CV] END .................C=10, gamma=0.0001, random_state=2; total time=   0.0s\n",
      "[CV] END .................C=10, gamma=0.0001, random_state=2; total time=   0.0s\n",
      "[CV] END .................C=10, gamma=0.0001, random_state=2; total time=   0.0s\n",
      "[CV] END .................C=10, gamma=0.0001, random_state=2; total time=   0.0s\n",
      "[CV] END .................C=10, gamma=0.0001, random_state=2; total time=   0.0s\n",
      "[CV] END .................C=10, gamma=0.0001, random_state=3; total time=   0.0s\n",
      "[CV] END .................C=10, gamma=0.0001, random_state=3; total time=   0.0s\n",
      "[CV] END .................C=10, gamma=0.0001, random_state=3; total time=   0.0s\n",
      "[CV] END .................C=10, gamma=0.0001, random_state=3; total time=   0.0s\n",
      "[CV] END .................C=10, gamma=0.0001, random_state=3; total time=   0.0s\n",
      "[CV] END .................C=10, gamma=0.0001, random_state=4; total time=   0.0s\n",
      "[CV] END .................C=10, gamma=0.0001, random_state=4; total time=   0.0s\n",
      "[CV] END .................C=10, gamma=0.0001, random_state=4; total time=   0.0s\n",
      "[CV] END .................C=10, gamma=0.0001, random_state=4; total time=   0.0s\n",
      "[CV] END .................C=10, gamma=0.0001, random_state=4; total time=   0.0s\n",
      "[CV] END .................C=10, gamma=0.0001, random_state=5; total time=   0.0s\n",
      "[CV] END .................C=10, gamma=0.0001, random_state=5; total time=   0.0s\n",
      "[CV] END .................C=10, gamma=0.0001, random_state=5; total time=   0.0s\n",
      "[CV] END .................C=10, gamma=0.0001, random_state=5; total time=   0.0s\n",
      "[CV] END .................C=10, gamma=0.0001, random_state=5; total time=   0.0s\n",
      "[CV] END .................C=10, gamma=0.0001, random_state=6; total time=   0.0s\n",
      "[CV] END .................C=10, gamma=0.0001, random_state=6; total time=   0.0s\n",
      "[CV] END .................C=10, gamma=0.0001, random_state=6; total time=   0.0s\n",
      "[CV] END .................C=10, gamma=0.0001, random_state=6; total time=   0.0s\n",
      "[CV] END .................C=10, gamma=0.0001, random_state=6; total time=   0.0s\n",
      "[CV] END .................C=10, gamma=0.0001, random_state=7; total time=   0.0s\n",
      "[CV] END .................C=10, gamma=0.0001, random_state=7; total time=   0.0s\n",
      "[CV] END .................C=10, gamma=0.0001, random_state=7; total time=   0.0s\n",
      "[CV] END .................C=10, gamma=0.0001, random_state=7; total time=   0.0s\n",
      "[CV] END .................C=10, gamma=0.0001, random_state=7; total time=   0.0s\n",
      "[CV] END .................C=10, gamma=0.0001, random_state=8; total time=   0.0s\n",
      "[CV] END .................C=10, gamma=0.0001, random_state=8; total time=   0.0s\n",
      "[CV] END .................C=10, gamma=0.0001, random_state=8; total time=   0.0s\n",
      "[CV] END .................C=10, gamma=0.0001, random_state=8; total time=   0.0s\n",
      "[CV] END .................C=10, gamma=0.0001, random_state=8; total time=   0.0s\n",
      "[CV] END .................C=10, gamma=0.0001, random_state=9; total time=   0.0s\n",
      "[CV] END .................C=10, gamma=0.0001, random_state=9; total time=   0.0s\n",
      "[CV] END .................C=10, gamma=0.0001, random_state=9; total time=   0.0s\n",
      "[CV] END .................C=10, gamma=0.0001, random_state=9; total time=   0.0s\n",
      "[CV] END .................C=10, gamma=0.0001, random_state=9; total time=   0.0s\n"
     ]
    },
    {
     "name": "stdout",
     "output_type": "stream",
     "text": [
      "[CV] END ................C=10, gamma=0.0001, random_state=10; total time=   0.0s\n",
      "[CV] END ................C=10, gamma=0.0001, random_state=10; total time=   0.0s\n",
      "[CV] END ................C=10, gamma=0.0001, random_state=10; total time=   0.0s\n",
      "[CV] END ................C=10, gamma=0.0001, random_state=10; total time=   0.0s\n",
      "[CV] END ................C=10, gamma=0.0001, random_state=10; total time=   0.0s\n",
      "[CV] END ................C=10, gamma=0.0001, random_state=11; total time=   0.0s\n",
      "[CV] END ................C=10, gamma=0.0001, random_state=11; total time=   0.0s\n",
      "[CV] END ................C=10, gamma=0.0001, random_state=11; total time=   0.0s\n",
      "[CV] END ................C=10, gamma=0.0001, random_state=11; total time=   0.0s\n",
      "[CV] END ................C=10, gamma=0.0001, random_state=11; total time=   0.0s\n",
      "[CV] END ................C=10, gamma=0.0001, random_state=12; total time=   0.0s\n",
      "[CV] END ................C=10, gamma=0.0001, random_state=12; total time=   0.0s\n",
      "[CV] END ................C=10, gamma=0.0001, random_state=12; total time=   0.0s\n",
      "[CV] END ................C=10, gamma=0.0001, random_state=12; total time=   0.0s\n",
      "[CV] END ................C=10, gamma=0.0001, random_state=12; total time=   0.0s\n",
      "[CV] END ................C=10, gamma=0.0001, random_state=13; total time=   0.1s\n",
      "[CV] END ................C=10, gamma=0.0001, random_state=13; total time=   0.1s\n",
      "[CV] END ................C=10, gamma=0.0001, random_state=13; total time=   0.1s\n",
      "[CV] END ................C=10, gamma=0.0001, random_state=13; total time=   0.1s\n",
      "[CV] END ................C=10, gamma=0.0001, random_state=13; total time=   0.1s\n",
      "[CV] END ................C=10, gamma=0.0001, random_state=14; total time=   0.1s\n",
      "[CV] END ................C=10, gamma=0.0001, random_state=14; total time=   0.1s\n",
      "[CV] END ................C=10, gamma=0.0001, random_state=14; total time=   0.0s\n",
      "[CV] END ................C=10, gamma=0.0001, random_state=14; total time=   0.0s\n",
      "[CV] END ................C=10, gamma=0.0001, random_state=14; total time=   0.0s\n",
      "[CV] END ................C=10, gamma=0.0001, random_state=15; total time=   0.0s\n",
      "[CV] END ................C=10, gamma=0.0001, random_state=15; total time=   0.0s\n",
      "[CV] END ................C=10, gamma=0.0001, random_state=15; total time=   0.0s\n",
      "[CV] END ................C=10, gamma=0.0001, random_state=15; total time=   0.0s\n",
      "[CV] END ................C=10, gamma=0.0001, random_state=15; total time=   0.1s\n",
      "[CV] END ................C=10, gamma=0.0001, random_state=16; total time=   0.1s\n",
      "[CV] END ................C=10, gamma=0.0001, random_state=16; total time=   0.1s\n",
      "[CV] END ................C=10, gamma=0.0001, random_state=16; total time=   0.1s\n",
      "[CV] END ................C=10, gamma=0.0001, random_state=16; total time=   0.0s\n",
      "[CV] END ................C=10, gamma=0.0001, random_state=16; total time=   0.0s\n",
      "[CV] END ................C=10, gamma=0.0001, random_state=17; total time=   0.0s\n",
      "[CV] END ................C=10, gamma=0.0001, random_state=17; total time=   0.0s\n",
      "[CV] END ................C=10, gamma=0.0001, random_state=17; total time=   0.0s\n",
      "[CV] END ................C=10, gamma=0.0001, random_state=17; total time=   0.0s\n",
      "[CV] END ................C=10, gamma=0.0001, random_state=17; total time=   0.0s\n",
      "[CV] END ................C=10, gamma=0.0001, random_state=18; total time=   0.0s\n",
      "[CV] END ................C=10, gamma=0.0001, random_state=18; total time=   0.0s\n",
      "[CV] END ................C=10, gamma=0.0001, random_state=18; total time=   0.1s\n",
      "[CV] END ................C=10, gamma=0.0001, random_state=18; total time=   0.1s\n",
      "[CV] END ................C=10, gamma=0.0001, random_state=18; total time=   0.1s\n",
      "[CV] END ................C=10, gamma=0.0001, random_state=19; total time=   0.0s\n",
      "[CV] END ................C=10, gamma=0.0001, random_state=19; total time=   0.0s\n",
      "[CV] END ................C=10, gamma=0.0001, random_state=19; total time=   0.0s\n",
      "[CV] END ................C=10, gamma=0.0001, random_state=19; total time=   0.0s\n",
      "[CV] END ................C=10, gamma=0.0001, random_state=19; total time=   0.0s\n",
      "[CV] END .....................C=100, gamma=1, random_state=1; total time=   0.0s\n",
      "[CV] END .....................C=100, gamma=1, random_state=1; total time=   0.0s\n",
      "[CV] END .....................C=100, gamma=1, random_state=1; total time=   0.1s\n",
      "[CV] END .....................C=100, gamma=1, random_state=1; total time=   0.1s\n",
      "[CV] END .....................C=100, gamma=1, random_state=1; total time=   0.1s\n",
      "[CV] END .....................C=100, gamma=1, random_state=2; total time=   0.1s\n",
      "[CV] END .....................C=100, gamma=1, random_state=2; total time=   0.1s\n",
      "[CV] END .....................C=100, gamma=1, random_state=2; total time=   0.1s\n",
      "[CV] END .....................C=100, gamma=1, random_state=2; total time=   0.1s\n",
      "[CV] END .....................C=100, gamma=1, random_state=2; total time=   0.0s\n",
      "[CV] END .....................C=100, gamma=1, random_state=3; total time=   0.0s\n",
      "[CV] END .....................C=100, gamma=1, random_state=3; total time=   0.1s\n",
      "[CV] END .....................C=100, gamma=1, random_state=3; total time=   0.1s\n",
      "[CV] END .....................C=100, gamma=1, random_state=3; total time=   0.0s\n",
      "[CV] END .....................C=100, gamma=1, random_state=3; total time=   0.0s\n",
      "[CV] END .....................C=100, gamma=1, random_state=4; total time=   0.0s\n",
      "[CV] END .....................C=100, gamma=1, random_state=4; total time=   0.0s\n",
      "[CV] END .....................C=100, gamma=1, random_state=4; total time=   0.0s\n",
      "[CV] END .....................C=100, gamma=1, random_state=4; total time=   0.0s\n",
      "[CV] END .....................C=100, gamma=1, random_state=4; total time=   0.0s\n",
      "[CV] END .....................C=100, gamma=1, random_state=5; total time=   0.0s\n",
      "[CV] END .....................C=100, gamma=1, random_state=5; total time=   0.1s\n",
      "[CV] END .....................C=100, gamma=1, random_state=5; total time=   0.0s\n",
      "[CV] END .....................C=100, gamma=1, random_state=5; total time=   0.0s\n",
      "[CV] END .....................C=100, gamma=1, random_state=5; total time=   0.1s\n",
      "[CV] END .....................C=100, gamma=1, random_state=6; total time=   0.0s\n",
      "[CV] END .....................C=100, gamma=1, random_state=6; total time=   0.1s\n",
      "[CV] END .....................C=100, gamma=1, random_state=6; total time=   0.1s\n",
      "[CV] END .....................C=100, gamma=1, random_state=6; total time=   0.0s\n",
      "[CV] END .....................C=100, gamma=1, random_state=6; total time=   0.1s\n",
      "[CV] END .....................C=100, gamma=1, random_state=7; total time=   0.1s\n",
      "[CV] END .....................C=100, gamma=1, random_state=7; total time=   0.1s\n",
      "[CV] END .....................C=100, gamma=1, random_state=7; total time=   0.1s\n",
      "[CV] END .....................C=100, gamma=1, random_state=7; total time=   0.1s\n",
      "[CV] END .....................C=100, gamma=1, random_state=7; total time=   0.0s\n",
      "[CV] END .....................C=100, gamma=1, random_state=8; total time=   0.1s\n",
      "[CV] END .....................C=100, gamma=1, random_state=8; total time=   0.0s\n",
      "[CV] END .....................C=100, gamma=1, random_state=8; total time=   0.1s\n",
      "[CV] END .....................C=100, gamma=1, random_state=8; total time=   0.1s\n",
      "[CV] END .....................C=100, gamma=1, random_state=8; total time=   0.1s\n",
      "[CV] END .....................C=100, gamma=1, random_state=9; total time=   0.0s\n",
      "[CV] END .....................C=100, gamma=1, random_state=9; total time=   0.1s\n",
      "[CV] END .....................C=100, gamma=1, random_state=9; total time=   0.1s\n",
      "[CV] END .....................C=100, gamma=1, random_state=9; total time=   0.1s\n",
      "[CV] END .....................C=100, gamma=1, random_state=9; total time=   0.1s\n",
      "[CV] END ....................C=100, gamma=1, random_state=10; total time=   0.0s\n",
      "[CV] END ....................C=100, gamma=1, random_state=10; total time=   0.1s\n",
      "[CV] END ....................C=100, gamma=1, random_state=10; total time=   0.0s\n",
      "[CV] END ....................C=100, gamma=1, random_state=10; total time=   0.1s\n",
      "[CV] END ....................C=100, gamma=1, random_state=10; total time=   0.1s\n",
      "[CV] END ....................C=100, gamma=1, random_state=11; total time=   0.0s\n",
      "[CV] END ....................C=100, gamma=1, random_state=11; total time=   0.0s\n"
     ]
    },
    {
     "name": "stdout",
     "output_type": "stream",
     "text": [
      "[CV] END ....................C=100, gamma=1, random_state=11; total time=   0.1s\n",
      "[CV] END ....................C=100, gamma=1, random_state=11; total time=   0.1s\n",
      "[CV] END ....................C=100, gamma=1, random_state=11; total time=   0.1s\n",
      "[CV] END ....................C=100, gamma=1, random_state=12; total time=   0.1s\n",
      "[CV] END ....................C=100, gamma=1, random_state=12; total time=   0.0s\n",
      "[CV] END ....................C=100, gamma=1, random_state=12; total time=   0.1s\n",
      "[CV] END ....................C=100, gamma=1, random_state=12; total time=   0.1s\n",
      "[CV] END ....................C=100, gamma=1, random_state=12; total time=   0.1s\n",
      "[CV] END ....................C=100, gamma=1, random_state=13; total time=   0.1s\n",
      "[CV] END ....................C=100, gamma=1, random_state=13; total time=   0.1s\n",
      "[CV] END ....................C=100, gamma=1, random_state=13; total time=   0.1s\n",
      "[CV] END ....................C=100, gamma=1, random_state=13; total time=   0.1s\n",
      "[CV] END ....................C=100, gamma=1, random_state=13; total time=   0.1s\n",
      "[CV] END ....................C=100, gamma=1, random_state=14; total time=   0.1s\n",
      "[CV] END ....................C=100, gamma=1, random_state=14; total time=   0.1s\n",
      "[CV] END ....................C=100, gamma=1, random_state=14; total time=   0.1s\n",
      "[CV] END ....................C=100, gamma=1, random_state=14; total time=   0.0s\n",
      "[CV] END ....................C=100, gamma=1, random_state=14; total time=   0.0s\n",
      "[CV] END ....................C=100, gamma=1, random_state=15; total time=   0.1s\n",
      "[CV] END ....................C=100, gamma=1, random_state=15; total time=   0.1s\n",
      "[CV] END ....................C=100, gamma=1, random_state=15; total time=   0.1s\n",
      "[CV] END ....................C=100, gamma=1, random_state=15; total time=   0.1s\n",
      "[CV] END ....................C=100, gamma=1, random_state=15; total time=   0.1s\n",
      "[CV] END ....................C=100, gamma=1, random_state=16; total time=   0.0s\n",
      "[CV] END ....................C=100, gamma=1, random_state=16; total time=   0.1s\n",
      "[CV] END ....................C=100, gamma=1, random_state=16; total time=   0.1s\n",
      "[CV] END ....................C=100, gamma=1, random_state=16; total time=   0.1s\n",
      "[CV] END ....................C=100, gamma=1, random_state=16; total time=   0.0s\n",
      "[CV] END ....................C=100, gamma=1, random_state=17; total time=   0.0s\n",
      "[CV] END ....................C=100, gamma=1, random_state=17; total time=   0.1s\n",
      "[CV] END ....................C=100, gamma=1, random_state=17; total time=   0.0s\n",
      "[CV] END ....................C=100, gamma=1, random_state=17; total time=   0.0s\n",
      "[CV] END ....................C=100, gamma=1, random_state=17; total time=   0.0s\n",
      "[CV] END ....................C=100, gamma=1, random_state=18; total time=   0.0s\n",
      "[CV] END ....................C=100, gamma=1, random_state=18; total time=   0.0s\n",
      "[CV] END ....................C=100, gamma=1, random_state=18; total time=   0.0s\n",
      "[CV] END ....................C=100, gamma=1, random_state=18; total time=   0.0s\n",
      "[CV] END ....................C=100, gamma=1, random_state=18; total time=   0.0s\n",
      "[CV] END ....................C=100, gamma=1, random_state=19; total time=   0.0s\n",
      "[CV] END ....................C=100, gamma=1, random_state=19; total time=   0.0s\n",
      "[CV] END ....................C=100, gamma=1, random_state=19; total time=   0.0s\n",
      "[CV] END ....................C=100, gamma=1, random_state=19; total time=   0.0s\n",
      "[CV] END ....................C=100, gamma=1, random_state=19; total time=   0.0s\n",
      "[CV] END ...................C=100, gamma=0.1, random_state=1; total time=   0.0s\n",
      "[CV] END ...................C=100, gamma=0.1, random_state=1; total time=   0.0s\n",
      "[CV] END ...................C=100, gamma=0.1, random_state=1; total time=   0.0s\n",
      "[CV] END ...................C=100, gamma=0.1, random_state=1; total time=   0.0s\n",
      "[CV] END ...................C=100, gamma=0.1, random_state=1; total time=   0.0s\n",
      "[CV] END ...................C=100, gamma=0.1, random_state=2; total time=   0.0s\n",
      "[CV] END ...................C=100, gamma=0.1, random_state=2; total time=   0.0s\n",
      "[CV] END ...................C=100, gamma=0.1, random_state=2; total time=   0.0s\n",
      "[CV] END ...................C=100, gamma=0.1, random_state=2; total time=   0.0s\n",
      "[CV] END ...................C=100, gamma=0.1, random_state=2; total time=   0.0s\n",
      "[CV] END ...................C=100, gamma=0.1, random_state=3; total time=   0.0s\n",
      "[CV] END ...................C=100, gamma=0.1, random_state=3; total time=   0.0s\n",
      "[CV] END ...................C=100, gamma=0.1, random_state=3; total time=   0.0s\n",
      "[CV] END ...................C=100, gamma=0.1, random_state=3; total time=   0.0s\n",
      "[CV] END ...................C=100, gamma=0.1, random_state=3; total time=   0.0s\n",
      "[CV] END ...................C=100, gamma=0.1, random_state=4; total time=   0.0s\n",
      "[CV] END ...................C=100, gamma=0.1, random_state=4; total time=   0.0s\n",
      "[CV] END ...................C=100, gamma=0.1, random_state=4; total time=   0.0s\n",
      "[CV] END ...................C=100, gamma=0.1, random_state=4; total time=   0.0s\n",
      "[CV] END ...................C=100, gamma=0.1, random_state=4; total time=   0.0s\n",
      "[CV] END ...................C=100, gamma=0.1, random_state=5; total time=   0.0s\n",
      "[CV] END ...................C=100, gamma=0.1, random_state=5; total time=   0.0s\n",
      "[CV] END ...................C=100, gamma=0.1, random_state=5; total time=   0.0s\n",
      "[CV] END ...................C=100, gamma=0.1, random_state=5; total time=   0.0s\n",
      "[CV] END ...................C=100, gamma=0.1, random_state=5; total time=   0.1s\n",
      "[CV] END ...................C=100, gamma=0.1, random_state=6; total time=   0.1s\n",
      "[CV] END ...................C=100, gamma=0.1, random_state=6; total time=   0.1s\n",
      "[CV] END ...................C=100, gamma=0.1, random_state=6; total time=   0.0s\n",
      "[CV] END ...................C=100, gamma=0.1, random_state=6; total time=   0.0s\n",
      "[CV] END ...................C=100, gamma=0.1, random_state=6; total time=   0.0s\n",
      "[CV] END ...................C=100, gamma=0.1, random_state=7; total time=   0.0s\n",
      "[CV] END ...................C=100, gamma=0.1, random_state=7; total time=   0.0s\n",
      "[CV] END ...................C=100, gamma=0.1, random_state=7; total time=   0.0s\n",
      "[CV] END ...................C=100, gamma=0.1, random_state=7; total time=   0.0s\n",
      "[CV] END ...................C=100, gamma=0.1, random_state=7; total time=   0.0s\n",
      "[CV] END ...................C=100, gamma=0.1, random_state=8; total time=   0.0s\n",
      "[CV] END ...................C=100, gamma=0.1, random_state=8; total time=   0.0s\n",
      "[CV] END ...................C=100, gamma=0.1, random_state=8; total time=   0.0s\n",
      "[CV] END ...................C=100, gamma=0.1, random_state=8; total time=   0.0s\n",
      "[CV] END ...................C=100, gamma=0.1, random_state=8; total time=   0.1s\n",
      "[CV] END ...................C=100, gamma=0.1, random_state=9; total time=   0.0s\n",
      "[CV] END ...................C=100, gamma=0.1, random_state=9; total time=   0.0s\n",
      "[CV] END ...................C=100, gamma=0.1, random_state=9; total time=   0.0s\n",
      "[CV] END ...................C=100, gamma=0.1, random_state=9; total time=   0.0s\n",
      "[CV] END ...................C=100, gamma=0.1, random_state=9; total time=   0.0s\n",
      "[CV] END ..................C=100, gamma=0.1, random_state=10; total time=   0.0s\n",
      "[CV] END ..................C=100, gamma=0.1, random_state=10; total time=   0.0s\n",
      "[CV] END ..................C=100, gamma=0.1, random_state=10; total time=   0.0s\n",
      "[CV] END ..................C=100, gamma=0.1, random_state=10; total time=   0.0s\n",
      "[CV] END ..................C=100, gamma=0.1, random_state=10; total time=   0.0s\n",
      "[CV] END ..................C=100, gamma=0.1, random_state=11; total time=   0.0s\n",
      "[CV] END ..................C=100, gamma=0.1, random_state=11; total time=   0.0s\n",
      "[CV] END ..................C=100, gamma=0.1, random_state=11; total time=   0.0s\n",
      "[CV] END ..................C=100, gamma=0.1, random_state=11; total time=   0.0s\n",
      "[CV] END ..................C=100, gamma=0.1, random_state=11; total time=   0.0s\n",
      "[CV] END ..................C=100, gamma=0.1, random_state=12; total time=   0.0s\n",
      "[CV] END ..................C=100, gamma=0.1, random_state=12; total time=   0.0s\n",
      "[CV] END ..................C=100, gamma=0.1, random_state=12; total time=   0.0s\n",
      "[CV] END ..................C=100, gamma=0.1, random_state=12; total time=   0.1s\n",
      "[CV] END ..................C=100, gamma=0.1, random_state=12; total time=   0.0s\n",
      "[CV] END ..................C=100, gamma=0.1, random_state=13; total time=   0.0s\n"
     ]
    },
    {
     "name": "stdout",
     "output_type": "stream",
     "text": [
      "[CV] END ..................C=100, gamma=0.1, random_state=13; total time=   0.0s\n",
      "[CV] END ..................C=100, gamma=0.1, random_state=13; total time=   0.1s\n",
      "[CV] END ..................C=100, gamma=0.1, random_state=13; total time=   0.1s\n",
      "[CV] END ..................C=100, gamma=0.1, random_state=13; total time=   0.0s\n",
      "[CV] END ..................C=100, gamma=0.1, random_state=14; total time=   0.0s\n",
      "[CV] END ..................C=100, gamma=0.1, random_state=14; total time=   0.0s\n",
      "[CV] END ..................C=100, gamma=0.1, random_state=14; total time=   0.0s\n",
      "[CV] END ..................C=100, gamma=0.1, random_state=14; total time=   0.1s\n",
      "[CV] END ..................C=100, gamma=0.1, random_state=14; total time=   0.0s\n",
      "[CV] END ..................C=100, gamma=0.1, random_state=15; total time=   0.0s\n",
      "[CV] END ..................C=100, gamma=0.1, random_state=15; total time=   0.0s\n",
      "[CV] END ..................C=100, gamma=0.1, random_state=15; total time=   0.0s\n",
      "[CV] END ..................C=100, gamma=0.1, random_state=15; total time=   0.0s\n",
      "[CV] END ..................C=100, gamma=0.1, random_state=15; total time=   0.0s\n",
      "[CV] END ..................C=100, gamma=0.1, random_state=16; total time=   0.0s\n",
      "[CV] END ..................C=100, gamma=0.1, random_state=16; total time=   0.0s\n",
      "[CV] END ..................C=100, gamma=0.1, random_state=16; total time=   0.0s\n",
      "[CV] END ..................C=100, gamma=0.1, random_state=16; total time=   0.0s\n",
      "[CV] END ..................C=100, gamma=0.1, random_state=16; total time=   0.0s\n",
      "[CV] END ..................C=100, gamma=0.1, random_state=17; total time=   0.1s\n",
      "[CV] END ..................C=100, gamma=0.1, random_state=17; total time=   0.0s\n",
      "[CV] END ..................C=100, gamma=0.1, random_state=17; total time=   0.0s\n",
      "[CV] END ..................C=100, gamma=0.1, random_state=17; total time=   0.0s\n",
      "[CV] END ..................C=100, gamma=0.1, random_state=17; total time=   0.0s\n",
      "[CV] END ..................C=100, gamma=0.1, random_state=18; total time=   0.0s\n",
      "[CV] END ..................C=100, gamma=0.1, random_state=18; total time=   0.0s\n",
      "[CV] END ..................C=100, gamma=0.1, random_state=18; total time=   0.0s\n",
      "[CV] END ..................C=100, gamma=0.1, random_state=18; total time=   0.0s\n",
      "[CV] END ..................C=100, gamma=0.1, random_state=18; total time=   0.0s\n",
      "[CV] END ..................C=100, gamma=0.1, random_state=19; total time=   0.0s\n",
      "[CV] END ..................C=100, gamma=0.1, random_state=19; total time=   0.0s\n",
      "[CV] END ..................C=100, gamma=0.1, random_state=19; total time=   0.0s\n",
      "[CV] END ..................C=100, gamma=0.1, random_state=19; total time=   0.0s\n",
      "[CV] END ..................C=100, gamma=0.1, random_state=19; total time=   0.0s\n",
      "[CV] END ..................C=100, gamma=0.01, random_state=1; total time=   0.1s\n",
      "[CV] END ..................C=100, gamma=0.01, random_state=1; total time=   0.1s\n",
      "[CV] END ..................C=100, gamma=0.01, random_state=1; total time=   0.1s\n",
      "[CV] END ..................C=100, gamma=0.01, random_state=1; total time=   0.1s\n",
      "[CV] END ..................C=100, gamma=0.01, random_state=1; total time=   0.0s\n",
      "[CV] END ..................C=100, gamma=0.01, random_state=2; total time=   0.1s\n",
      "[CV] END ..................C=100, gamma=0.01, random_state=2; total time=   0.1s\n",
      "[CV] END ..................C=100, gamma=0.01, random_state=2; total time=   0.1s\n",
      "[CV] END ..................C=100, gamma=0.01, random_state=2; total time=   0.1s\n",
      "[CV] END ..................C=100, gamma=0.01, random_state=2; total time=   0.0s\n",
      "[CV] END ..................C=100, gamma=0.01, random_state=3; total time=   0.1s\n",
      "[CV] END ..................C=100, gamma=0.01, random_state=3; total time=   0.1s\n",
      "[CV] END ..................C=100, gamma=0.01, random_state=3; total time=   0.1s\n",
      "[CV] END ..................C=100, gamma=0.01, random_state=3; total time=   0.1s\n",
      "[CV] END ..................C=100, gamma=0.01, random_state=3; total time=   0.0s\n",
      "[CV] END ..................C=100, gamma=0.01, random_state=4; total time=   0.1s\n",
      "[CV] END ..................C=100, gamma=0.01, random_state=4; total time=   0.1s\n",
      "[CV] END ..................C=100, gamma=0.01, random_state=4; total time=   0.1s\n",
      "[CV] END ..................C=100, gamma=0.01, random_state=4; total time=   0.1s\n",
      "[CV] END ..................C=100, gamma=0.01, random_state=4; total time=   0.0s\n",
      "[CV] END ..................C=100, gamma=0.01, random_state=5; total time=   0.0s\n",
      "[CV] END ..................C=100, gamma=0.01, random_state=5; total time=   0.0s\n",
      "[CV] END ..................C=100, gamma=0.01, random_state=5; total time=   0.1s\n",
      "[CV] END ..................C=100, gamma=0.01, random_state=5; total time=   0.1s\n",
      "[CV] END ..................C=100, gamma=0.01, random_state=5; total time=   0.0s\n",
      "[CV] END ..................C=100, gamma=0.01, random_state=6; total time=   0.0s\n",
      "[CV] END ..................C=100, gamma=0.01, random_state=6; total time=   0.1s\n",
      "[CV] END ..................C=100, gamma=0.01, random_state=6; total time=   0.1s\n",
      "[CV] END ..................C=100, gamma=0.01, random_state=6; total time=   0.1s\n",
      "[CV] END ..................C=100, gamma=0.01, random_state=6; total time=   0.1s\n",
      "[CV] END ..................C=100, gamma=0.01, random_state=7; total time=   0.1s\n",
      "[CV] END ..................C=100, gamma=0.01, random_state=7; total time=   0.1s\n",
      "[CV] END ..................C=100, gamma=0.01, random_state=7; total time=   0.1s\n",
      "[CV] END ..................C=100, gamma=0.01, random_state=7; total time=   0.1s\n",
      "[CV] END ..................C=100, gamma=0.01, random_state=7; total time=   0.1s\n",
      "[CV] END ..................C=100, gamma=0.01, random_state=8; total time=   0.1s\n",
      "[CV] END ..................C=100, gamma=0.01, random_state=8; total time=   0.1s\n",
      "[CV] END ..................C=100, gamma=0.01, random_state=8; total time=   0.1s\n",
      "[CV] END ..................C=100, gamma=0.01, random_state=8; total time=   0.1s\n",
      "[CV] END ..................C=100, gamma=0.01, random_state=8; total time=   0.1s\n",
      "[CV] END ..................C=100, gamma=0.01, random_state=9; total time=   0.1s\n",
      "[CV] END ..................C=100, gamma=0.01, random_state=9; total time=   0.1s\n",
      "[CV] END ..................C=100, gamma=0.01, random_state=9; total time=   0.1s\n",
      "[CV] END ..................C=100, gamma=0.01, random_state=9; total time=   0.1s\n",
      "[CV] END ..................C=100, gamma=0.01, random_state=9; total time=   0.0s\n",
      "[CV] END .................C=100, gamma=0.01, random_state=10; total time=   0.1s\n",
      "[CV] END .................C=100, gamma=0.01, random_state=10; total time=   0.1s\n",
      "[CV] END .................C=100, gamma=0.01, random_state=10; total time=   0.1s\n",
      "[CV] END .................C=100, gamma=0.01, random_state=10; total time=   0.1s\n",
      "[CV] END .................C=100, gamma=0.01, random_state=10; total time=   0.1s\n",
      "[CV] END .................C=100, gamma=0.01, random_state=11; total time=   0.1s\n",
      "[CV] END .................C=100, gamma=0.01, random_state=11; total time=   0.1s\n",
      "[CV] END .................C=100, gamma=0.01, random_state=11; total time=   0.1s\n",
      "[CV] END .................C=100, gamma=0.01, random_state=11; total time=   0.1s\n",
      "[CV] END .................C=100, gamma=0.01, random_state=11; total time=   0.0s\n",
      "[CV] END .................C=100, gamma=0.01, random_state=12; total time=   0.0s\n",
      "[CV] END .................C=100, gamma=0.01, random_state=12; total time=   0.1s\n",
      "[CV] END .................C=100, gamma=0.01, random_state=12; total time=   0.1s\n",
      "[CV] END .................C=100, gamma=0.01, random_state=12; total time=   0.1s\n",
      "[CV] END .................C=100, gamma=0.01, random_state=12; total time=   0.0s\n",
      "[CV] END .................C=100, gamma=0.01, random_state=13; total time=   0.1s\n",
      "[CV] END .................C=100, gamma=0.01, random_state=13; total time=   0.1s\n",
      "[CV] END .................C=100, gamma=0.01, random_state=13; total time=   0.1s\n",
      "[CV] END .................C=100, gamma=0.01, random_state=13; total time=   0.1s\n",
      "[CV] END .................C=100, gamma=0.01, random_state=13; total time=   0.0s\n",
      "[CV] END .................C=100, gamma=0.01, random_state=14; total time=   0.1s\n",
      "[CV] END .................C=100, gamma=0.01, random_state=14; total time=   0.1s\n",
      "[CV] END .................C=100, gamma=0.01, random_state=14; total time=   0.1s\n"
     ]
    },
    {
     "name": "stdout",
     "output_type": "stream",
     "text": [
      "[CV] END .................C=100, gamma=0.01, random_state=14; total time=   0.1s\n",
      "[CV] END .................C=100, gamma=0.01, random_state=14; total time=   0.0s\n",
      "[CV] END .................C=100, gamma=0.01, random_state=15; total time=   0.0s\n",
      "[CV] END .................C=100, gamma=0.01, random_state=15; total time=   0.0s\n",
      "[CV] END .................C=100, gamma=0.01, random_state=15; total time=   0.1s\n",
      "[CV] END .................C=100, gamma=0.01, random_state=15; total time=   0.1s\n",
      "[CV] END .................C=100, gamma=0.01, random_state=15; total time=   0.0s\n",
      "[CV] END .................C=100, gamma=0.01, random_state=16; total time=   0.0s\n",
      "[CV] END .................C=100, gamma=0.01, random_state=16; total time=   0.1s\n",
      "[CV] END .................C=100, gamma=0.01, random_state=16; total time=   0.1s\n",
      "[CV] END .................C=100, gamma=0.01, random_state=16; total time=   0.1s\n",
      "[CV] END .................C=100, gamma=0.01, random_state=16; total time=   0.0s\n",
      "[CV] END .................C=100, gamma=0.01, random_state=17; total time=   0.0s\n",
      "[CV] END .................C=100, gamma=0.01, random_state=17; total time=   0.1s\n",
      "[CV] END .................C=100, gamma=0.01, random_state=17; total time=   0.1s\n",
      "[CV] END .................C=100, gamma=0.01, random_state=17; total time=   0.1s\n",
      "[CV] END .................C=100, gamma=0.01, random_state=17; total time=   0.0s\n",
      "[CV] END .................C=100, gamma=0.01, random_state=18; total time=   0.1s\n",
      "[CV] END .................C=100, gamma=0.01, random_state=18; total time=   0.1s\n",
      "[CV] END .................C=100, gamma=0.01, random_state=18; total time=   0.1s\n",
      "[CV] END .................C=100, gamma=0.01, random_state=18; total time=   0.1s\n",
      "[CV] END .................C=100, gamma=0.01, random_state=18; total time=   0.0s\n",
      "[CV] END .................C=100, gamma=0.01, random_state=19; total time=   0.1s\n",
      "[CV] END .................C=100, gamma=0.01, random_state=19; total time=   0.1s\n",
      "[CV] END .................C=100, gamma=0.01, random_state=19; total time=   0.1s\n",
      "[CV] END .................C=100, gamma=0.01, random_state=19; total time=   0.1s\n",
      "[CV] END .................C=100, gamma=0.01, random_state=19; total time=   0.0s\n",
      "[CV] END .................C=100, gamma=0.001, random_state=1; total time=   0.0s\n",
      "[CV] END .................C=100, gamma=0.001, random_state=1; total time=   0.0s\n",
      "[CV] END .................C=100, gamma=0.001, random_state=1; total time=   0.0s\n",
      "[CV] END .................C=100, gamma=0.001, random_state=1; total time=   0.0s\n",
      "[CV] END .................C=100, gamma=0.001, random_state=1; total time=   0.0s\n",
      "[CV] END .................C=100, gamma=0.001, random_state=2; total time=   0.0s\n",
      "[CV] END .................C=100, gamma=0.001, random_state=2; total time=   0.0s\n",
      "[CV] END .................C=100, gamma=0.001, random_state=2; total time=   0.0s\n",
      "[CV] END .................C=100, gamma=0.001, random_state=2; total time=   0.0s\n",
      "[CV] END .................C=100, gamma=0.001, random_state=2; total time=   0.0s\n",
      "[CV] END .................C=100, gamma=0.001, random_state=3; total time=   0.0s\n",
      "[CV] END .................C=100, gamma=0.001, random_state=3; total time=   0.0s\n",
      "[CV] END .................C=100, gamma=0.001, random_state=3; total time=   0.0s\n",
      "[CV] END .................C=100, gamma=0.001, random_state=3; total time=   0.0s\n",
      "[CV] END .................C=100, gamma=0.001, random_state=3; total time=   0.0s\n",
      "[CV] END .................C=100, gamma=0.001, random_state=4; total time=   0.0s\n",
      "[CV] END .................C=100, gamma=0.001, random_state=4; total time=   0.0s\n",
      "[CV] END .................C=100, gamma=0.001, random_state=4; total time=   0.0s\n",
      "[CV] END .................C=100, gamma=0.001, random_state=4; total time=   0.0s\n",
      "[CV] END .................C=100, gamma=0.001, random_state=4; total time=   0.0s\n",
      "[CV] END .................C=100, gamma=0.001, random_state=5; total time=   0.0s\n",
      "[CV] END .................C=100, gamma=0.001, random_state=5; total time=   0.0s\n",
      "[CV] END .................C=100, gamma=0.001, random_state=5; total time=   0.0s\n",
      "[CV] END .................C=100, gamma=0.001, random_state=5; total time=   0.0s\n",
      "[CV] END .................C=100, gamma=0.001, random_state=5; total time=   0.0s\n",
      "[CV] END .................C=100, gamma=0.001, random_state=6; total time=   0.0s\n",
      "[CV] END .................C=100, gamma=0.001, random_state=6; total time=   0.0s\n",
      "[CV] END .................C=100, gamma=0.001, random_state=6; total time=   0.0s\n",
      "[CV] END .................C=100, gamma=0.001, random_state=6; total time=   0.0s\n",
      "[CV] END .................C=100, gamma=0.001, random_state=6; total time=   0.0s\n",
      "[CV] END .................C=100, gamma=0.001, random_state=7; total time=   0.0s\n",
      "[CV] END .................C=100, gamma=0.001, random_state=7; total time=   0.0s\n",
      "[CV] END .................C=100, gamma=0.001, random_state=7; total time=   0.0s\n",
      "[CV] END .................C=100, gamma=0.001, random_state=7; total time=   0.0s\n",
      "[CV] END .................C=100, gamma=0.001, random_state=7; total time=   0.0s\n",
      "[CV] END .................C=100, gamma=0.001, random_state=8; total time=   0.0s\n",
      "[CV] END .................C=100, gamma=0.001, random_state=8; total time=   0.0s\n",
      "[CV] END .................C=100, gamma=0.001, random_state=8; total time=   0.0s\n",
      "[CV] END .................C=100, gamma=0.001, random_state=8; total time=   0.0s\n",
      "[CV] END .................C=100, gamma=0.001, random_state=8; total time=   0.0s\n",
      "[CV] END .................C=100, gamma=0.001, random_state=9; total time=   0.0s\n",
      "[CV] END .................C=100, gamma=0.001, random_state=9; total time=   0.0s\n",
      "[CV] END .................C=100, gamma=0.001, random_state=9; total time=   0.0s\n",
      "[CV] END .................C=100, gamma=0.001, random_state=9; total time=   0.0s\n",
      "[CV] END .................C=100, gamma=0.001, random_state=9; total time=   0.0s\n",
      "[CV] END ................C=100, gamma=0.001, random_state=10; total time=   0.0s\n",
      "[CV] END ................C=100, gamma=0.001, random_state=10; total time=   0.0s\n",
      "[CV] END ................C=100, gamma=0.001, random_state=10; total time=   0.0s\n",
      "[CV] END ................C=100, gamma=0.001, random_state=10; total time=   0.0s\n",
      "[CV] END ................C=100, gamma=0.001, random_state=10; total time=   0.0s\n",
      "[CV] END ................C=100, gamma=0.001, random_state=11; total time=   0.0s\n",
      "[CV] END ................C=100, gamma=0.001, random_state=11; total time=   0.0s\n",
      "[CV] END ................C=100, gamma=0.001, random_state=11; total time=   0.0s\n",
      "[CV] END ................C=100, gamma=0.001, random_state=11; total time=   0.0s\n",
      "[CV] END ................C=100, gamma=0.001, random_state=11; total time=   0.0s\n",
      "[CV] END ................C=100, gamma=0.001, random_state=12; total time=   0.0s\n",
      "[CV] END ................C=100, gamma=0.001, random_state=12; total time=   0.0s\n",
      "[CV] END ................C=100, gamma=0.001, random_state=12; total time=   0.0s\n",
      "[CV] END ................C=100, gamma=0.001, random_state=12; total time=   0.0s\n",
      "[CV] END ................C=100, gamma=0.001, random_state=12; total time=   0.0s\n",
      "[CV] END ................C=100, gamma=0.001, random_state=13; total time=   0.0s\n",
      "[CV] END ................C=100, gamma=0.001, random_state=13; total time=   0.0s\n",
      "[CV] END ................C=100, gamma=0.001, random_state=13; total time=   0.0s\n",
      "[CV] END ................C=100, gamma=0.001, random_state=13; total time=   0.0s\n",
      "[CV] END ................C=100, gamma=0.001, random_state=13; total time=   0.0s\n",
      "[CV] END ................C=100, gamma=0.001, random_state=14; total time=   0.0s\n",
      "[CV] END ................C=100, gamma=0.001, random_state=14; total time=   0.0s\n",
      "[CV] END ................C=100, gamma=0.001, random_state=14; total time=   0.0s\n",
      "[CV] END ................C=100, gamma=0.001, random_state=14; total time=   0.0s\n",
      "[CV] END ................C=100, gamma=0.001, random_state=14; total time=   0.0s\n",
      "[CV] END ................C=100, gamma=0.001, random_state=15; total time=   0.0s\n",
      "[CV] END ................C=100, gamma=0.001, random_state=15; total time=   0.0s\n",
      "[CV] END ................C=100, gamma=0.001, random_state=15; total time=   0.0s\n",
      "[CV] END ................C=100, gamma=0.001, random_state=15; total time=   0.0s\n",
      "[CV] END ................C=100, gamma=0.001, random_state=15; total time=   0.0s\n"
     ]
    },
    {
     "name": "stdout",
     "output_type": "stream",
     "text": [
      "[CV] END ................C=100, gamma=0.001, random_state=16; total time=   0.0s\n",
      "[CV] END ................C=100, gamma=0.001, random_state=16; total time=   0.0s\n",
      "[CV] END ................C=100, gamma=0.001, random_state=16; total time=   0.0s\n",
      "[CV] END ................C=100, gamma=0.001, random_state=16; total time=   0.0s\n",
      "[CV] END ................C=100, gamma=0.001, random_state=16; total time=   0.0s\n",
      "[CV] END ................C=100, gamma=0.001, random_state=17; total time=   0.0s\n",
      "[CV] END ................C=100, gamma=0.001, random_state=17; total time=   0.0s\n",
      "[CV] END ................C=100, gamma=0.001, random_state=17; total time=   0.0s\n",
      "[CV] END ................C=100, gamma=0.001, random_state=17; total time=   0.0s\n",
      "[CV] END ................C=100, gamma=0.001, random_state=17; total time=   0.0s\n",
      "[CV] END ................C=100, gamma=0.001, random_state=18; total time=   0.0s\n",
      "[CV] END ................C=100, gamma=0.001, random_state=18; total time=   0.0s\n",
      "[CV] END ................C=100, gamma=0.001, random_state=18; total time=   0.0s\n",
      "[CV] END ................C=100, gamma=0.001, random_state=18; total time=   0.0s\n",
      "[CV] END ................C=100, gamma=0.001, random_state=18; total time=   0.0s\n",
      "[CV] END ................C=100, gamma=0.001, random_state=19; total time=   0.0s\n",
      "[CV] END ................C=100, gamma=0.001, random_state=19; total time=   0.0s\n",
      "[CV] END ................C=100, gamma=0.001, random_state=19; total time=   0.0s\n",
      "[CV] END ................C=100, gamma=0.001, random_state=19; total time=   0.0s\n",
      "[CV] END ................C=100, gamma=0.001, random_state=19; total time=   0.0s\n",
      "[CV] END ................C=100, gamma=0.0001, random_state=1; total time=   0.0s\n",
      "[CV] END ................C=100, gamma=0.0001, random_state=1; total time=   0.0s\n",
      "[CV] END ................C=100, gamma=0.0001, random_state=1; total time=   0.0s\n",
      "[CV] END ................C=100, gamma=0.0001, random_state=1; total time=   0.0s\n",
      "[CV] END ................C=100, gamma=0.0001, random_state=1; total time=   0.0s\n",
      "[CV] END ................C=100, gamma=0.0001, random_state=2; total time=   0.0s\n",
      "[CV] END ................C=100, gamma=0.0001, random_state=2; total time=   0.0s\n",
      "[CV] END ................C=100, gamma=0.0001, random_state=2; total time=   0.0s\n",
      "[CV] END ................C=100, gamma=0.0001, random_state=2; total time=   0.0s\n",
      "[CV] END ................C=100, gamma=0.0001, random_state=2; total time=   0.0s\n",
      "[CV] END ................C=100, gamma=0.0001, random_state=3; total time=   0.0s\n",
      "[CV] END ................C=100, gamma=0.0001, random_state=3; total time=   0.0s\n",
      "[CV] END ................C=100, gamma=0.0001, random_state=3; total time=   0.0s\n",
      "[CV] END ................C=100, gamma=0.0001, random_state=3; total time=   0.0s\n",
      "[CV] END ................C=100, gamma=0.0001, random_state=3; total time=   0.0s\n",
      "[CV] END ................C=100, gamma=0.0001, random_state=4; total time=   0.0s\n",
      "[CV] END ................C=100, gamma=0.0001, random_state=4; total time=   0.0s\n",
      "[CV] END ................C=100, gamma=0.0001, random_state=4; total time=   0.0s\n",
      "[CV] END ................C=100, gamma=0.0001, random_state=4; total time=   0.0s\n",
      "[CV] END ................C=100, gamma=0.0001, random_state=4; total time=   0.0s\n",
      "[CV] END ................C=100, gamma=0.0001, random_state=5; total time=   0.0s\n",
      "[CV] END ................C=100, gamma=0.0001, random_state=5; total time=   0.0s\n",
      "[CV] END ................C=100, gamma=0.0001, random_state=5; total time=   0.0s\n",
      "[CV] END ................C=100, gamma=0.0001, random_state=5; total time=   0.0s\n",
      "[CV] END ................C=100, gamma=0.0001, random_state=5; total time=   0.0s\n",
      "[CV] END ................C=100, gamma=0.0001, random_state=6; total time=   0.0s\n",
      "[CV] END ................C=100, gamma=0.0001, random_state=6; total time=   0.0s\n",
      "[CV] END ................C=100, gamma=0.0001, random_state=6; total time=   0.0s\n",
      "[CV] END ................C=100, gamma=0.0001, random_state=6; total time=   0.0s\n",
      "[CV] END ................C=100, gamma=0.0001, random_state=6; total time=   0.0s\n",
      "[CV] END ................C=100, gamma=0.0001, random_state=7; total time=   0.0s\n",
      "[CV] END ................C=100, gamma=0.0001, random_state=7; total time=   0.0s\n",
      "[CV] END ................C=100, gamma=0.0001, random_state=7; total time=   0.0s\n",
      "[CV] END ................C=100, gamma=0.0001, random_state=7; total time=   0.0s\n",
      "[CV] END ................C=100, gamma=0.0001, random_state=7; total time=   0.0s\n",
      "[CV] END ................C=100, gamma=0.0001, random_state=8; total time=   0.0s\n",
      "[CV] END ................C=100, gamma=0.0001, random_state=8; total time=   0.0s\n",
      "[CV] END ................C=100, gamma=0.0001, random_state=8; total time=   0.0s\n",
      "[CV] END ................C=100, gamma=0.0001, random_state=8; total time=   0.0s\n",
      "[CV] END ................C=100, gamma=0.0001, random_state=8; total time=   0.0s\n",
      "[CV] END ................C=100, gamma=0.0001, random_state=9; total time=   0.0s\n",
      "[CV] END ................C=100, gamma=0.0001, random_state=9; total time=   0.0s\n",
      "[CV] END ................C=100, gamma=0.0001, random_state=9; total time=   0.0s\n",
      "[CV] END ................C=100, gamma=0.0001, random_state=9; total time=   0.0s\n",
      "[CV] END ................C=100, gamma=0.0001, random_state=9; total time=   0.0s\n",
      "[CV] END ...............C=100, gamma=0.0001, random_state=10; total time=   0.0s\n",
      "[CV] END ...............C=100, gamma=0.0001, random_state=10; total time=   0.0s\n",
      "[CV] END ...............C=100, gamma=0.0001, random_state=10; total time=   0.0s\n",
      "[CV] END ...............C=100, gamma=0.0001, random_state=10; total time=   0.0s\n",
      "[CV] END ...............C=100, gamma=0.0001, random_state=10; total time=   0.0s\n",
      "[CV] END ...............C=100, gamma=0.0001, random_state=11; total time=   0.0s\n",
      "[CV] END ...............C=100, gamma=0.0001, random_state=11; total time=   0.0s\n",
      "[CV] END ...............C=100, gamma=0.0001, random_state=11; total time=   0.0s\n",
      "[CV] END ...............C=100, gamma=0.0001, random_state=11; total time=   0.0s\n",
      "[CV] END ...............C=100, gamma=0.0001, random_state=11; total time=   0.0s\n",
      "[CV] END ...............C=100, gamma=0.0001, random_state=12; total time=   0.1s\n",
      "[CV] END ...............C=100, gamma=0.0001, random_state=12; total time=   0.0s\n",
      "[CV] END ...............C=100, gamma=0.0001, random_state=12; total time=   0.0s\n",
      "[CV] END ...............C=100, gamma=0.0001, random_state=12; total time=   0.0s\n",
      "[CV] END ...............C=100, gamma=0.0001, random_state=12; total time=   0.0s\n",
      "[CV] END ...............C=100, gamma=0.0001, random_state=13; total time=   0.0s\n",
      "[CV] END ...............C=100, gamma=0.0001, random_state=13; total time=   0.0s\n",
      "[CV] END ...............C=100, gamma=0.0001, random_state=13; total time=   0.0s\n",
      "[CV] END ...............C=100, gamma=0.0001, random_state=13; total time=   0.0s\n",
      "[CV] END ...............C=100, gamma=0.0001, random_state=13; total time=   0.0s\n",
      "[CV] END ...............C=100, gamma=0.0001, random_state=14; total time=   0.0s\n",
      "[CV] END ...............C=100, gamma=0.0001, random_state=14; total time=   0.0s\n",
      "[CV] END ...............C=100, gamma=0.0001, random_state=14; total time=   0.0s\n",
      "[CV] END ...............C=100, gamma=0.0001, random_state=14; total time=   0.0s\n",
      "[CV] END ...............C=100, gamma=0.0001, random_state=14; total time=   0.0s\n",
      "[CV] END ...............C=100, gamma=0.0001, random_state=15; total time=   0.0s\n",
      "[CV] END ...............C=100, gamma=0.0001, random_state=15; total time=   0.0s\n",
      "[CV] END ...............C=100, gamma=0.0001, random_state=15; total time=   0.0s\n",
      "[CV] END ...............C=100, gamma=0.0001, random_state=15; total time=   0.0s\n",
      "[CV] END ...............C=100, gamma=0.0001, random_state=15; total time=   0.0s\n",
      "[CV] END ...............C=100, gamma=0.0001, random_state=16; total time=   0.0s\n",
      "[CV] END ...............C=100, gamma=0.0001, random_state=16; total time=   0.0s\n",
      "[CV] END ...............C=100, gamma=0.0001, random_state=16; total time=   0.0s\n",
      "[CV] END ...............C=100, gamma=0.0001, random_state=16; total time=   0.0s\n",
      "[CV] END ...............C=100, gamma=0.0001, random_state=16; total time=   0.0s\n",
      "[CV] END ...............C=100, gamma=0.0001, random_state=17; total time=   0.0s\n",
      "[CV] END ...............C=100, gamma=0.0001, random_state=17; total time=   0.0s\n",
      "[CV] END ...............C=100, gamma=0.0001, random_state=17; total time=   0.0s\n",
      "[CV] END ...............C=100, gamma=0.0001, random_state=17; total time=   0.0s\n",
      "[CV] END ...............C=100, gamma=0.0001, random_state=17; total time=   0.0s\n",
      "[CV] END ...............C=100, gamma=0.0001, random_state=18; total time=   0.0s\n",
      "[CV] END ...............C=100, gamma=0.0001, random_state=18; total time=   0.0s\n"
     ]
    },
    {
     "name": "stdout",
     "output_type": "stream",
     "text": [
      "[CV] END ...............C=100, gamma=0.0001, random_state=18; total time=   0.0s\n",
      "[CV] END ...............C=100, gamma=0.0001, random_state=18; total time=   0.0s\n",
      "[CV] END ...............C=100, gamma=0.0001, random_state=18; total time=   0.0s\n",
      "[CV] END ...............C=100, gamma=0.0001, random_state=19; total time=   0.0s\n",
      "[CV] END ...............C=100, gamma=0.0001, random_state=19; total time=   0.0s\n",
      "[CV] END ...............C=100, gamma=0.0001, random_state=19; total time=   0.0s\n",
      "[CV] END ...............C=100, gamma=0.0001, random_state=19; total time=   0.0s\n",
      "[CV] END ...............C=100, gamma=0.0001, random_state=19; total time=   0.0s\n",
      "[CV] END ....................C=1000, gamma=1, random_state=1; total time=   0.0s\n",
      "[CV] END ....................C=1000, gamma=1, random_state=1; total time=   0.0s\n",
      "[CV] END ....................C=1000, gamma=1, random_state=1; total time=   0.1s\n",
      "[CV] END ....................C=1000, gamma=1, random_state=1; total time=   0.0s\n",
      "[CV] END ....................C=1000, gamma=1, random_state=1; total time=   0.0s\n",
      "[CV] END ....................C=1000, gamma=1, random_state=2; total time=   0.0s\n",
      "[CV] END ....................C=1000, gamma=1, random_state=2; total time=   0.0s\n",
      "[CV] END ....................C=1000, gamma=1, random_state=2; total time=   0.1s\n",
      "[CV] END ....................C=1000, gamma=1, random_state=2; total time=   0.0s\n",
      "[CV] END ....................C=1000, gamma=1, random_state=2; total time=   0.0s\n",
      "[CV] END ....................C=1000, gamma=1, random_state=3; total time=   0.0s\n",
      "[CV] END ....................C=1000, gamma=1, random_state=3; total time=   0.0s\n",
      "[CV] END ....................C=1000, gamma=1, random_state=3; total time=   0.1s\n",
      "[CV] END ....................C=1000, gamma=1, random_state=3; total time=   0.0s\n",
      "[CV] END ....................C=1000, gamma=1, random_state=3; total time=   0.0s\n",
      "[CV] END ....................C=1000, gamma=1, random_state=4; total time=   0.0s\n",
      "[CV] END ....................C=1000, gamma=1, random_state=4; total time=   0.0s\n",
      "[CV] END ....................C=1000, gamma=1, random_state=4; total time=   0.1s\n",
      "[CV] END ....................C=1000, gamma=1, random_state=4; total time=   0.0s\n",
      "[CV] END ....................C=1000, gamma=1, random_state=4; total time=   0.0s\n",
      "[CV] END ....................C=1000, gamma=1, random_state=5; total time=   0.0s\n",
      "[CV] END ....................C=1000, gamma=1, random_state=5; total time=   0.0s\n",
      "[CV] END ....................C=1000, gamma=1, random_state=5; total time=   0.1s\n",
      "[CV] END ....................C=1000, gamma=1, random_state=5; total time=   0.0s\n",
      "[CV] END ....................C=1000, gamma=1, random_state=5; total time=   0.0s\n",
      "[CV] END ....................C=1000, gamma=1, random_state=6; total time=   0.1s\n",
      "[CV] END ....................C=1000, gamma=1, random_state=6; total time=   0.0s\n",
      "[CV] END ....................C=1000, gamma=1, random_state=6; total time=   0.1s\n",
      "[CV] END ....................C=1000, gamma=1, random_state=6; total time=   0.0s\n",
      "[CV] END ....................C=1000, gamma=1, random_state=6; total time=   0.0s\n",
      "[CV] END ....................C=1000, gamma=1, random_state=7; total time=   0.0s\n",
      "[CV] END ....................C=1000, gamma=1, random_state=7; total time=   0.0s\n",
      "[CV] END ....................C=1000, gamma=1, random_state=7; total time=   0.1s\n",
      "[CV] END ....................C=1000, gamma=1, random_state=7; total time=   0.0s\n",
      "[CV] END ....................C=1000, gamma=1, random_state=7; total time=   0.0s\n",
      "[CV] END ....................C=1000, gamma=1, random_state=8; total time=   0.0s\n",
      "[CV] END ....................C=1000, gamma=1, random_state=8; total time=   0.0s\n",
      "[CV] END ....................C=1000, gamma=1, random_state=8; total time=   0.1s\n",
      "[CV] END ....................C=1000, gamma=1, random_state=8; total time=   0.0s\n",
      "[CV] END ....................C=1000, gamma=1, random_state=8; total time=   0.0s\n",
      "[CV] END ....................C=1000, gamma=1, random_state=9; total time=   0.0s\n",
      "[CV] END ....................C=1000, gamma=1, random_state=9; total time=   0.0s\n",
      "[CV] END ....................C=1000, gamma=1, random_state=9; total time=   0.1s\n",
      "[CV] END ....................C=1000, gamma=1, random_state=9; total time=   0.0s\n",
      "[CV] END ....................C=1000, gamma=1, random_state=9; total time=   0.0s\n",
      "[CV] END ...................C=1000, gamma=1, random_state=10; total time=   0.1s\n",
      "[CV] END ...................C=1000, gamma=1, random_state=10; total time=   0.1s\n",
      "[CV] END ...................C=1000, gamma=1, random_state=10; total time=   0.2s\n",
      "[CV] END ...................C=1000, gamma=1, random_state=10; total time=   0.0s\n",
      "[CV] END ...................C=1000, gamma=1, random_state=10; total time=   0.0s\n",
      "[CV] END ...................C=1000, gamma=1, random_state=11; total time=   0.0s\n",
      "[CV] END ...................C=1000, gamma=1, random_state=11; total time=   0.0s\n",
      "[CV] END ...................C=1000, gamma=1, random_state=11; total time=   0.1s\n",
      "[CV] END ...................C=1000, gamma=1, random_state=11; total time=   0.0s\n",
      "[CV] END ...................C=1000, gamma=1, random_state=11; total time=   0.1s\n",
      "[CV] END ...................C=1000, gamma=1, random_state=12; total time=   0.1s\n",
      "[CV] END ...................C=1000, gamma=1, random_state=12; total time=   0.1s\n",
      "[CV] END ...................C=1000, gamma=1, random_state=12; total time=   0.1s\n",
      "[CV] END ...................C=1000, gamma=1, random_state=12; total time=   0.0s\n",
      "[CV] END ...................C=1000, gamma=1, random_state=12; total time=   0.0s\n",
      "[CV] END ...................C=1000, gamma=1, random_state=13; total time=   0.0s\n",
      "[CV] END ...................C=1000, gamma=1, random_state=13; total time=   0.0s\n",
      "[CV] END ...................C=1000, gamma=1, random_state=13; total time=   0.1s\n",
      "[CV] END ...................C=1000, gamma=1, random_state=13; total time=   0.0s\n",
      "[CV] END ...................C=1000, gamma=1, random_state=13; total time=   0.0s\n",
      "[CV] END ...................C=1000, gamma=1, random_state=14; total time=   0.0s\n",
      "[CV] END ...................C=1000, gamma=1, random_state=14; total time=   0.0s\n",
      "[CV] END ...................C=1000, gamma=1, random_state=14; total time=   0.1s\n",
      "[CV] END ...................C=1000, gamma=1, random_state=14; total time=   0.0s\n",
      "[CV] END ...................C=1000, gamma=1, random_state=14; total time=   0.0s\n",
      "[CV] END ...................C=1000, gamma=1, random_state=15; total time=   0.0s\n",
      "[CV] END ...................C=1000, gamma=1, random_state=15; total time=   0.0s\n",
      "[CV] END ...................C=1000, gamma=1, random_state=15; total time=   0.1s\n",
      "[CV] END ...................C=1000, gamma=1, random_state=15; total time=   0.1s\n",
      "[CV] END ...................C=1000, gamma=1, random_state=15; total time=   0.1s\n",
      "[CV] END ...................C=1000, gamma=1, random_state=16; total time=   0.1s\n",
      "[CV] END ...................C=1000, gamma=1, random_state=16; total time=   0.1s\n",
      "[CV] END ...................C=1000, gamma=1, random_state=16; total time=   0.1s\n",
      "[CV] END ...................C=1000, gamma=1, random_state=16; total time=   0.1s\n",
      "[CV] END ...................C=1000, gamma=1, random_state=16; total time=   0.1s\n",
      "[CV] END ...................C=1000, gamma=1, random_state=17; total time=   0.1s\n",
      "[CV] END ...................C=1000, gamma=1, random_state=17; total time=   0.1s\n",
      "[CV] END ...................C=1000, gamma=1, random_state=17; total time=   0.1s\n",
      "[CV] END ...................C=1000, gamma=1, random_state=17; total time=   0.1s\n",
      "[CV] END ...................C=1000, gamma=1, random_state=17; total time=   0.1s\n",
      "[CV] END ...................C=1000, gamma=1, random_state=18; total time=   0.0s\n",
      "[CV] END ...................C=1000, gamma=1, random_state=18; total time=   0.0s\n",
      "[CV] END ...................C=1000, gamma=1, random_state=18; total time=   0.1s\n",
      "[CV] END ...................C=1000, gamma=1, random_state=18; total time=   0.1s\n",
      "[CV] END ...................C=1000, gamma=1, random_state=18; total time=   0.1s\n",
      "[CV] END ...................C=1000, gamma=1, random_state=19; total time=   0.1s\n",
      "[CV] END ...................C=1000, gamma=1, random_state=19; total time=   0.1s\n",
      "[CV] END ...................C=1000, gamma=1, random_state=19; total time=   0.1s\n",
      "[CV] END ...................C=1000, gamma=1, random_state=19; total time=   0.0s\n",
      "[CV] END ...................C=1000, gamma=1, random_state=19; total time=   0.0s\n",
      "[CV] END ..................C=1000, gamma=0.1, random_state=1; total time=   0.1s\n"
     ]
    },
    {
     "name": "stdout",
     "output_type": "stream",
     "text": [
      "[CV] END ..................C=1000, gamma=0.1, random_state=1; total time=   0.1s\n",
      "[CV] END ..................C=1000, gamma=0.1, random_state=1; total time=   0.2s\n",
      "[CV] END ..................C=1000, gamma=0.1, random_state=1; total time=   0.1s\n",
      "[CV] END ..................C=1000, gamma=0.1, random_state=1; total time=   0.1s\n",
      "[CV] END ..................C=1000, gamma=0.1, random_state=2; total time=   0.2s\n",
      "[CV] END ..................C=1000, gamma=0.1, random_state=2; total time=   0.1s\n",
      "[CV] END ..................C=1000, gamma=0.1, random_state=2; total time=   0.2s\n",
      "[CV] END ..................C=1000, gamma=0.1, random_state=2; total time=   0.1s\n",
      "[CV] END ..................C=1000, gamma=0.1, random_state=2; total time=   0.1s\n",
      "[CV] END ..................C=1000, gamma=0.1, random_state=3; total time=   0.1s\n",
      "[CV] END ..................C=1000, gamma=0.1, random_state=3; total time=   0.1s\n",
      "[CV] END ..................C=1000, gamma=0.1, random_state=3; total time=   0.1s\n",
      "[CV] END ..................C=1000, gamma=0.1, random_state=3; total time=   0.1s\n",
      "[CV] END ..................C=1000, gamma=0.1, random_state=3; total time=   0.1s\n",
      "[CV] END ..................C=1000, gamma=0.1, random_state=4; total time=   0.1s\n",
      "[CV] END ..................C=1000, gamma=0.1, random_state=4; total time=   0.1s\n",
      "[CV] END ..................C=1000, gamma=0.1, random_state=4; total time=   0.1s\n",
      "[CV] END ..................C=1000, gamma=0.1, random_state=4; total time=   0.1s\n",
      "[CV] END ..................C=1000, gamma=0.1, random_state=4; total time=   0.1s\n",
      "[CV] END ..................C=1000, gamma=0.1, random_state=5; total time=   0.1s\n",
      "[CV] END ..................C=1000, gamma=0.1, random_state=5; total time=   0.1s\n",
      "[CV] END ..................C=1000, gamma=0.1, random_state=5; total time=   0.1s\n",
      "[CV] END ..................C=1000, gamma=0.1, random_state=5; total time=   0.1s\n",
      "[CV] END ..................C=1000, gamma=0.1, random_state=5; total time=   0.1s\n",
      "[CV] END ..................C=1000, gamma=0.1, random_state=6; total time=   0.1s\n",
      "[CV] END ..................C=1000, gamma=0.1, random_state=6; total time=   0.1s\n",
      "[CV] END ..................C=1000, gamma=0.1, random_state=6; total time=   0.1s\n",
      "[CV] END ..................C=1000, gamma=0.1, random_state=6; total time=   0.1s\n",
      "[CV] END ..................C=1000, gamma=0.1, random_state=6; total time=   0.1s\n",
      "[CV] END ..................C=1000, gamma=0.1, random_state=7; total time=   0.1s\n",
      "[CV] END ..................C=1000, gamma=0.1, random_state=7; total time=   0.1s\n",
      "[CV] END ..................C=1000, gamma=0.1, random_state=7; total time=   0.1s\n",
      "[CV] END ..................C=1000, gamma=0.1, random_state=7; total time=   0.1s\n",
      "[CV] END ..................C=1000, gamma=0.1, random_state=7; total time=   0.1s\n",
      "[CV] END ..................C=1000, gamma=0.1, random_state=8; total time=   0.1s\n",
      "[CV] END ..................C=1000, gamma=0.1, random_state=8; total time=   0.1s\n",
      "[CV] END ..................C=1000, gamma=0.1, random_state=8; total time=   0.1s\n",
      "[CV] END ..................C=1000, gamma=0.1, random_state=8; total time=   0.1s\n",
      "[CV] END ..................C=1000, gamma=0.1, random_state=8; total time=   0.1s\n",
      "[CV] END ..................C=1000, gamma=0.1, random_state=9; total time=   0.1s\n",
      "[CV] END ..................C=1000, gamma=0.1, random_state=9; total time=   0.1s\n",
      "[CV] END ..................C=1000, gamma=0.1, random_state=9; total time=   0.1s\n",
      "[CV] END ..................C=1000, gamma=0.1, random_state=9; total time=   0.1s\n",
      "[CV] END ..................C=1000, gamma=0.1, random_state=9; total time=   0.1s\n",
      "[CV] END .................C=1000, gamma=0.1, random_state=10; total time=   0.1s\n",
      "[CV] END .................C=1000, gamma=0.1, random_state=10; total time=   0.1s\n",
      "[CV] END .................C=1000, gamma=0.1, random_state=10; total time=   0.1s\n",
      "[CV] END .................C=1000, gamma=0.1, random_state=10; total time=   0.1s\n",
      "[CV] END .................C=1000, gamma=0.1, random_state=10; total time=   0.1s\n",
      "[CV] END .................C=1000, gamma=0.1, random_state=11; total time=   0.1s\n",
      "[CV] END .................C=1000, gamma=0.1, random_state=11; total time=   0.1s\n",
      "[CV] END .................C=1000, gamma=0.1, random_state=11; total time=   0.1s\n",
      "[CV] END .................C=1000, gamma=0.1, random_state=11; total time=   0.1s\n",
      "[CV] END .................C=1000, gamma=0.1, random_state=11; total time=   0.1s\n",
      "[CV] END .................C=1000, gamma=0.1, random_state=12; total time=   0.1s\n",
      "[CV] END .................C=1000, gamma=0.1, random_state=12; total time=   0.1s\n",
      "[CV] END .................C=1000, gamma=0.1, random_state=12; total time=   0.1s\n",
      "[CV] END .................C=1000, gamma=0.1, random_state=12; total time=   0.1s\n",
      "[CV] END .................C=1000, gamma=0.1, random_state=12; total time=   0.1s\n",
      "[CV] END .................C=1000, gamma=0.1, random_state=13; total time=   0.1s\n",
      "[CV] END .................C=1000, gamma=0.1, random_state=13; total time=   0.1s\n",
      "[CV] END .................C=1000, gamma=0.1, random_state=13; total time=   0.1s\n",
      "[CV] END .................C=1000, gamma=0.1, random_state=13; total time=   0.1s\n",
      "[CV] END .................C=1000, gamma=0.1, random_state=13; total time=   0.1s\n",
      "[CV] END .................C=1000, gamma=0.1, random_state=14; total time=   0.1s\n",
      "[CV] END .................C=1000, gamma=0.1, random_state=14; total time=   0.1s\n",
      "[CV] END .................C=1000, gamma=0.1, random_state=14; total time=   0.1s\n",
      "[CV] END .................C=1000, gamma=0.1, random_state=14; total time=   0.1s\n",
      "[CV] END .................C=1000, gamma=0.1, random_state=14; total time=   0.1s\n",
      "[CV] END .................C=1000, gamma=0.1, random_state=15; total time=   0.1s\n",
      "[CV] END .................C=1000, gamma=0.1, random_state=15; total time=   0.1s\n",
      "[CV] END .................C=1000, gamma=0.1, random_state=15; total time=   0.1s\n",
      "[CV] END .................C=1000, gamma=0.1, random_state=15; total time=   0.1s\n",
      "[CV] END .................C=1000, gamma=0.1, random_state=15; total time=   0.1s\n",
      "[CV] END .................C=1000, gamma=0.1, random_state=16; total time=   0.1s\n",
      "[CV] END .................C=1000, gamma=0.1, random_state=16; total time=   0.1s\n",
      "[CV] END .................C=1000, gamma=0.1, random_state=16; total time=   0.1s\n",
      "[CV] END .................C=1000, gamma=0.1, random_state=16; total time=   0.1s\n",
      "[CV] END .................C=1000, gamma=0.1, random_state=16; total time=   0.1s\n",
      "[CV] END .................C=1000, gamma=0.1, random_state=17; total time=   0.1s\n",
      "[CV] END .................C=1000, gamma=0.1, random_state=17; total time=   0.1s\n",
      "[CV] END .................C=1000, gamma=0.1, random_state=17; total time=   0.1s\n",
      "[CV] END .................C=1000, gamma=0.1, random_state=17; total time=   0.1s\n",
      "[CV] END .................C=1000, gamma=0.1, random_state=17; total time=   0.1s\n",
      "[CV] END .................C=1000, gamma=0.1, random_state=18; total time=   0.1s\n",
      "[CV] END .................C=1000, gamma=0.1, random_state=18; total time=   0.1s\n",
      "[CV] END .................C=1000, gamma=0.1, random_state=18; total time=   0.1s\n",
      "[CV] END .................C=1000, gamma=0.1, random_state=18; total time=   0.1s\n",
      "[CV] END .................C=1000, gamma=0.1, random_state=18; total time=   0.1s\n",
      "[CV] END .................C=1000, gamma=0.1, random_state=19; total time=   0.1s\n",
      "[CV] END .................C=1000, gamma=0.1, random_state=19; total time=   0.1s\n",
      "[CV] END .................C=1000, gamma=0.1, random_state=19; total time=   0.1s\n",
      "[CV] END .................C=1000, gamma=0.1, random_state=19; total time=   0.1s\n",
      "[CV] END .................C=1000, gamma=0.1, random_state=19; total time=   0.1s\n",
      "[CV] END .................C=1000, gamma=0.01, random_state=1; total time=   0.1s\n",
      "[CV] END .................C=1000, gamma=0.01, random_state=1; total time=   0.1s\n",
      "[CV] END .................C=1000, gamma=0.01, random_state=1; total time=   0.1s\n",
      "[CV] END .................C=1000, gamma=0.01, random_state=1; total time=   0.1s\n",
      "[CV] END .................C=1000, gamma=0.01, random_state=1; total time=   0.1s\n",
      "[CV] END .................C=1000, gamma=0.01, random_state=2; total time=   0.1s\n",
      "[CV] END .................C=1000, gamma=0.01, random_state=2; total time=   0.1s\n",
      "[CV] END .................C=1000, gamma=0.01, random_state=2; total time=   0.1s\n"
     ]
    },
    {
     "name": "stdout",
     "output_type": "stream",
     "text": [
      "[CV] END .................C=1000, gamma=0.01, random_state=2; total time=   0.1s\n",
      "[CV] END .................C=1000, gamma=0.01, random_state=2; total time=   0.1s\n",
      "[CV] END .................C=1000, gamma=0.01, random_state=3; total time=   0.1s\n",
      "[CV] END .................C=1000, gamma=0.01, random_state=3; total time=   0.1s\n",
      "[CV] END .................C=1000, gamma=0.01, random_state=3; total time=   0.1s\n",
      "[CV] END .................C=1000, gamma=0.01, random_state=3; total time=   0.1s\n",
      "[CV] END .................C=1000, gamma=0.01, random_state=3; total time=   0.1s\n",
      "[CV] END .................C=1000, gamma=0.01, random_state=4; total time=   0.1s\n",
      "[CV] END .................C=1000, gamma=0.01, random_state=4; total time=   0.1s\n",
      "[CV] END .................C=1000, gamma=0.01, random_state=4; total time=   0.1s\n",
      "[CV] END .................C=1000, gamma=0.01, random_state=4; total time=   0.1s\n",
      "[CV] END .................C=1000, gamma=0.01, random_state=4; total time=   0.1s\n",
      "[CV] END .................C=1000, gamma=0.01, random_state=5; total time=   0.1s\n",
      "[CV] END .................C=1000, gamma=0.01, random_state=5; total time=   0.1s\n",
      "[CV] END .................C=1000, gamma=0.01, random_state=5; total time=   0.1s\n",
      "[CV] END .................C=1000, gamma=0.01, random_state=5; total time=   0.1s\n",
      "[CV] END .................C=1000, gamma=0.01, random_state=5; total time=   0.1s\n",
      "[CV] END .................C=1000, gamma=0.01, random_state=6; total time=   0.1s\n",
      "[CV] END .................C=1000, gamma=0.01, random_state=6; total time=   0.1s\n",
      "[CV] END .................C=1000, gamma=0.01, random_state=6; total time=   0.1s\n",
      "[CV] END .................C=1000, gamma=0.01, random_state=6; total time=   0.1s\n",
      "[CV] END .................C=1000, gamma=0.01, random_state=6; total time=   0.1s\n",
      "[CV] END .................C=1000, gamma=0.01, random_state=7; total time=   0.1s\n",
      "[CV] END .................C=1000, gamma=0.01, random_state=7; total time=   0.1s\n",
      "[CV] END .................C=1000, gamma=0.01, random_state=7; total time=   0.1s\n",
      "[CV] END .................C=1000, gamma=0.01, random_state=7; total time=   0.1s\n",
      "[CV] END .................C=1000, gamma=0.01, random_state=7; total time=   0.1s\n",
      "[CV] END .................C=1000, gamma=0.01, random_state=8; total time=   0.1s\n",
      "[CV] END .................C=1000, gamma=0.01, random_state=8; total time=   0.1s\n",
      "[CV] END .................C=1000, gamma=0.01, random_state=8; total time=   0.1s\n",
      "[CV] END .................C=1000, gamma=0.01, random_state=8; total time=   0.1s\n",
      "[CV] END .................C=1000, gamma=0.01, random_state=8; total time=   0.1s\n",
      "[CV] END .................C=1000, gamma=0.01, random_state=9; total time=   0.1s\n",
      "[CV] END .................C=1000, gamma=0.01, random_state=9; total time=   0.1s\n",
      "[CV] END .................C=1000, gamma=0.01, random_state=9; total time=   0.1s\n",
      "[CV] END .................C=1000, gamma=0.01, random_state=9; total time=   0.1s\n",
      "[CV] END .................C=1000, gamma=0.01, random_state=9; total time=   0.1s\n",
      "[CV] END ................C=1000, gamma=0.01, random_state=10; total time=   0.1s\n",
      "[CV] END ................C=1000, gamma=0.01, random_state=10; total time=   0.1s\n",
      "[CV] END ................C=1000, gamma=0.01, random_state=10; total time=   0.1s\n",
      "[CV] END ................C=1000, gamma=0.01, random_state=10; total time=   0.1s\n",
      "[CV] END ................C=1000, gamma=0.01, random_state=10; total time=   0.1s\n",
      "[CV] END ................C=1000, gamma=0.01, random_state=11; total time=   0.1s\n",
      "[CV] END ................C=1000, gamma=0.01, random_state=11; total time=   0.1s\n",
      "[CV] END ................C=1000, gamma=0.01, random_state=11; total time=   0.1s\n",
      "[CV] END ................C=1000, gamma=0.01, random_state=11; total time=   0.1s\n",
      "[CV] END ................C=1000, gamma=0.01, random_state=11; total time=   0.1s\n",
      "[CV] END ................C=1000, gamma=0.01, random_state=12; total time=   0.1s\n",
      "[CV] END ................C=1000, gamma=0.01, random_state=12; total time=   0.1s\n",
      "[CV] END ................C=1000, gamma=0.01, random_state=12; total time=   0.1s\n",
      "[CV] END ................C=1000, gamma=0.01, random_state=12; total time=   0.1s\n",
      "[CV] END ................C=1000, gamma=0.01, random_state=12; total time=   0.1s\n",
      "[CV] END ................C=1000, gamma=0.01, random_state=13; total time=   0.1s\n",
      "[CV] END ................C=1000, gamma=0.01, random_state=13; total time=   0.1s\n",
      "[CV] END ................C=1000, gamma=0.01, random_state=13; total time=   0.1s\n",
      "[CV] END ................C=1000, gamma=0.01, random_state=13; total time=   0.1s\n",
      "[CV] END ................C=1000, gamma=0.01, random_state=13; total time=   0.1s\n",
      "[CV] END ................C=1000, gamma=0.01, random_state=14; total time=   0.1s\n",
      "[CV] END ................C=1000, gamma=0.01, random_state=14; total time=   0.1s\n",
      "[CV] END ................C=1000, gamma=0.01, random_state=14; total time=   0.1s\n",
      "[CV] END ................C=1000, gamma=0.01, random_state=14; total time=   0.1s\n",
      "[CV] END ................C=1000, gamma=0.01, random_state=14; total time=   0.1s\n",
      "[CV] END ................C=1000, gamma=0.01, random_state=15; total time=   0.1s\n",
      "[CV] END ................C=1000, gamma=0.01, random_state=15; total time=   0.1s\n",
      "[CV] END ................C=1000, gamma=0.01, random_state=15; total time=   0.1s\n",
      "[CV] END ................C=1000, gamma=0.01, random_state=15; total time=   0.1s\n",
      "[CV] END ................C=1000, gamma=0.01, random_state=15; total time=   0.1s\n",
      "[CV] END ................C=1000, gamma=0.01, random_state=16; total time=   0.1s\n",
      "[CV] END ................C=1000, gamma=0.01, random_state=16; total time=   0.1s\n",
      "[CV] END ................C=1000, gamma=0.01, random_state=16; total time=   0.1s\n",
      "[CV] END ................C=1000, gamma=0.01, random_state=16; total time=   0.1s\n",
      "[CV] END ................C=1000, gamma=0.01, random_state=16; total time=   0.1s\n",
      "[CV] END ................C=1000, gamma=0.01, random_state=17; total time=   0.1s\n",
      "[CV] END ................C=1000, gamma=0.01, random_state=17; total time=   0.1s\n",
      "[CV] END ................C=1000, gamma=0.01, random_state=17; total time=   0.1s\n",
      "[CV] END ................C=1000, gamma=0.01, random_state=17; total time=   0.1s\n",
      "[CV] END ................C=1000, gamma=0.01, random_state=17; total time=   0.1s\n",
      "[CV] END ................C=1000, gamma=0.01, random_state=18; total time=   0.1s\n",
      "[CV] END ................C=1000, gamma=0.01, random_state=18; total time=   0.1s\n",
      "[CV] END ................C=1000, gamma=0.01, random_state=18; total time=   0.1s\n",
      "[CV] END ................C=1000, gamma=0.01, random_state=18; total time=   0.1s\n",
      "[CV] END ................C=1000, gamma=0.01, random_state=18; total time=   0.1s\n",
      "[CV] END ................C=1000, gamma=0.01, random_state=19; total time=   0.1s\n",
      "[CV] END ................C=1000, gamma=0.01, random_state=19; total time=   0.1s\n",
      "[CV] END ................C=1000, gamma=0.01, random_state=19; total time=   0.1s\n",
      "[CV] END ................C=1000, gamma=0.01, random_state=19; total time=   0.1s\n",
      "[CV] END ................C=1000, gamma=0.01, random_state=19; total time=   0.1s\n",
      "[CV] END ................C=1000, gamma=0.001, random_state=1; total time=   0.1s\n",
      "[CV] END ................C=1000, gamma=0.001, random_state=1; total time=   0.1s\n",
      "[CV] END ................C=1000, gamma=0.001, random_state=1; total time=   0.1s\n",
      "[CV] END ................C=1000, gamma=0.001, random_state=1; total time=   0.1s\n",
      "[CV] END ................C=1000, gamma=0.001, random_state=1; total time=   0.1s\n",
      "[CV] END ................C=1000, gamma=0.001, random_state=2; total time=   0.1s\n",
      "[CV] END ................C=1000, gamma=0.001, random_state=2; total time=   0.1s\n",
      "[CV] END ................C=1000, gamma=0.001, random_state=2; total time=   0.1s\n",
      "[CV] END ................C=1000, gamma=0.001, random_state=2; total time=   0.1s\n",
      "[CV] END ................C=1000, gamma=0.001, random_state=2; total time=   0.1s\n",
      "[CV] END ................C=1000, gamma=0.001, random_state=3; total time=   0.1s\n",
      "[CV] END ................C=1000, gamma=0.001, random_state=3; total time=   0.1s\n",
      "[CV] END ................C=1000, gamma=0.001, random_state=3; total time=   0.1s\n",
      "[CV] END ................C=1000, gamma=0.001, random_state=3; total time=   0.1s\n",
      "[CV] END ................C=1000, gamma=0.001, random_state=3; total time=   0.1s\n",
      "[CV] END ................C=1000, gamma=0.001, random_state=4; total time=   0.1s\n"
     ]
    },
    {
     "name": "stdout",
     "output_type": "stream",
     "text": [
      "[CV] END ................C=1000, gamma=0.001, random_state=4; total time=   0.1s\n",
      "[CV] END ................C=1000, gamma=0.001, random_state=4; total time=   0.1s\n",
      "[CV] END ................C=1000, gamma=0.001, random_state=4; total time=   0.1s\n",
      "[CV] END ................C=1000, gamma=0.001, random_state=4; total time=   0.1s\n",
      "[CV] END ................C=1000, gamma=0.001, random_state=5; total time=   0.1s\n",
      "[CV] END ................C=1000, gamma=0.001, random_state=5; total time=   0.1s\n",
      "[CV] END ................C=1000, gamma=0.001, random_state=5; total time=   0.1s\n",
      "[CV] END ................C=1000, gamma=0.001, random_state=5; total time=   0.1s\n",
      "[CV] END ................C=1000, gamma=0.001, random_state=5; total time=   0.1s\n",
      "[CV] END ................C=1000, gamma=0.001, random_state=6; total time=   0.1s\n",
      "[CV] END ................C=1000, gamma=0.001, random_state=6; total time=   0.1s\n",
      "[CV] END ................C=1000, gamma=0.001, random_state=6; total time=   0.1s\n",
      "[CV] END ................C=1000, gamma=0.001, random_state=6; total time=   0.1s\n",
      "[CV] END ................C=1000, gamma=0.001, random_state=6; total time=   0.1s\n",
      "[CV] END ................C=1000, gamma=0.001, random_state=7; total time=   0.1s\n",
      "[CV] END ................C=1000, gamma=0.001, random_state=7; total time=   0.3s\n",
      "[CV] END ................C=1000, gamma=0.001, random_state=7; total time=   0.1s\n",
      "[CV] END ................C=1000, gamma=0.001, random_state=7; total time=   0.1s\n",
      "[CV] END ................C=1000, gamma=0.001, random_state=7; total time=   0.1s\n",
      "[CV] END ................C=1000, gamma=0.001, random_state=8; total time=   0.1s\n",
      "[CV] END ................C=1000, gamma=0.001, random_state=8; total time=   0.1s\n",
      "[CV] END ................C=1000, gamma=0.001, random_state=8; total time=   0.1s\n",
      "[CV] END ................C=1000, gamma=0.001, random_state=8; total time=   0.1s\n",
      "[CV] END ................C=1000, gamma=0.001, random_state=8; total time=   0.1s\n",
      "[CV] END ................C=1000, gamma=0.001, random_state=9; total time=   0.1s\n",
      "[CV] END ................C=1000, gamma=0.001, random_state=9; total time=   0.1s\n",
      "[CV] END ................C=1000, gamma=0.001, random_state=9; total time=   0.1s\n",
      "[CV] END ................C=1000, gamma=0.001, random_state=9; total time=   0.1s\n",
      "[CV] END ................C=1000, gamma=0.001, random_state=9; total time=   0.1s\n",
      "[CV] END ...............C=1000, gamma=0.001, random_state=10; total time=   0.1s\n",
      "[CV] END ...............C=1000, gamma=0.001, random_state=10; total time=   0.1s\n",
      "[CV] END ...............C=1000, gamma=0.001, random_state=10; total time=   0.1s\n",
      "[CV] END ...............C=1000, gamma=0.001, random_state=10; total time=   0.1s\n",
      "[CV] END ...............C=1000, gamma=0.001, random_state=10; total time=   0.1s\n",
      "[CV] END ...............C=1000, gamma=0.001, random_state=11; total time=   0.1s\n",
      "[CV] END ...............C=1000, gamma=0.001, random_state=11; total time=   0.2s\n",
      "[CV] END ...............C=1000, gamma=0.001, random_state=11; total time=   0.2s\n",
      "[CV] END ...............C=1000, gamma=0.001, random_state=11; total time=   0.3s\n",
      "[CV] END ...............C=1000, gamma=0.001, random_state=11; total time=   0.1s\n",
      "[CV] END ...............C=1000, gamma=0.001, random_state=12; total time=   0.1s\n",
      "[CV] END ...............C=1000, gamma=0.001, random_state=12; total time=   0.1s\n",
      "[CV] END ...............C=1000, gamma=0.001, random_state=12; total time=   0.1s\n",
      "[CV] END ...............C=1000, gamma=0.001, random_state=12; total time=   0.1s\n",
      "[CV] END ...............C=1000, gamma=0.001, random_state=12; total time=   0.1s\n",
      "[CV] END ...............C=1000, gamma=0.001, random_state=13; total time=   0.1s\n",
      "[CV] END ...............C=1000, gamma=0.001, random_state=13; total time=   0.2s\n",
      "[CV] END ...............C=1000, gamma=0.001, random_state=13; total time=   0.2s\n",
      "[CV] END ...............C=1000, gamma=0.001, random_state=13; total time=   0.1s\n",
      "[CV] END ...............C=1000, gamma=0.001, random_state=13; total time=   0.1s\n",
      "[CV] END ...............C=1000, gamma=0.001, random_state=14; total time=   0.1s\n",
      "[CV] END ...............C=1000, gamma=0.001, random_state=14; total time=   0.1s\n",
      "[CV] END ...............C=1000, gamma=0.001, random_state=14; total time=   0.1s\n",
      "[CV] END ...............C=1000, gamma=0.001, random_state=14; total time=   0.1s\n",
      "[CV] END ...............C=1000, gamma=0.001, random_state=14; total time=   0.1s\n",
      "[CV] END ...............C=1000, gamma=0.001, random_state=15; total time=   0.1s\n",
      "[CV] END ...............C=1000, gamma=0.001, random_state=15; total time=   0.1s\n",
      "[CV] END ...............C=1000, gamma=0.001, random_state=15; total time=   0.1s\n",
      "[CV] END ...............C=1000, gamma=0.001, random_state=15; total time=   0.1s\n",
      "[CV] END ...............C=1000, gamma=0.001, random_state=15; total time=   0.1s\n",
      "[CV] END ...............C=1000, gamma=0.001, random_state=16; total time=   0.1s\n",
      "[CV] END ...............C=1000, gamma=0.001, random_state=16; total time=   0.1s\n",
      "[CV] END ...............C=1000, gamma=0.001, random_state=16; total time=   0.1s\n",
      "[CV] END ...............C=1000, gamma=0.001, random_state=16; total time=   0.1s\n",
      "[CV] END ...............C=1000, gamma=0.001, random_state=16; total time=   0.1s\n",
      "[CV] END ...............C=1000, gamma=0.001, random_state=17; total time=   0.1s\n",
      "[CV] END ...............C=1000, gamma=0.001, random_state=17; total time=   0.1s\n",
      "[CV] END ...............C=1000, gamma=0.001, random_state=17; total time=   0.2s\n",
      "[CV] END ...............C=1000, gamma=0.001, random_state=17; total time=   0.2s\n",
      "[CV] END ...............C=1000, gamma=0.001, random_state=17; total time=   0.1s\n",
      "[CV] END ...............C=1000, gamma=0.001, random_state=18; total time=   0.1s\n",
      "[CV] END ...............C=1000, gamma=0.001, random_state=18; total time=   0.1s\n",
      "[CV] END ...............C=1000, gamma=0.001, random_state=18; total time=   0.1s\n",
      "[CV] END ...............C=1000, gamma=0.001, random_state=18; total time=   0.1s\n",
      "[CV] END ...............C=1000, gamma=0.001, random_state=18; total time=   0.1s\n",
      "[CV] END ...............C=1000, gamma=0.001, random_state=19; total time=   0.1s\n",
      "[CV] END ...............C=1000, gamma=0.001, random_state=19; total time=   0.1s\n",
      "[CV] END ...............C=1000, gamma=0.001, random_state=19; total time=   0.1s\n",
      "[CV] END ...............C=1000, gamma=0.001, random_state=19; total time=   0.1s\n",
      "[CV] END ...............C=1000, gamma=0.001, random_state=19; total time=   0.1s\n",
      "[CV] END ...............C=1000, gamma=0.0001, random_state=1; total time=   0.0s\n",
      "[CV] END ...............C=1000, gamma=0.0001, random_state=1; total time=   0.0s\n",
      "[CV] END ...............C=1000, gamma=0.0001, random_state=1; total time=   0.0s\n",
      "[CV] END ...............C=1000, gamma=0.0001, random_state=1; total time=   0.0s\n",
      "[CV] END ...............C=1000, gamma=0.0001, random_state=1; total time=   0.0s\n",
      "[CV] END ...............C=1000, gamma=0.0001, random_state=2; total time=   0.0s\n",
      "[CV] END ...............C=1000, gamma=0.0001, random_state=2; total time=   0.0s\n",
      "[CV] END ...............C=1000, gamma=0.0001, random_state=2; total time=   0.1s\n",
      "[CV] END ...............C=1000, gamma=0.0001, random_state=2; total time=   0.1s\n",
      "[CV] END ...............C=1000, gamma=0.0001, random_state=2; total time=   0.0s\n",
      "[CV] END ...............C=1000, gamma=0.0001, random_state=3; total time=   0.0s\n",
      "[CV] END ...............C=1000, gamma=0.0001, random_state=3; total time=   0.0s\n",
      "[CV] END ...............C=1000, gamma=0.0001, random_state=3; total time=   0.1s\n",
      "[CV] END ...............C=1000, gamma=0.0001, random_state=3; total time=   0.1s\n",
      "[CV] END ...............C=1000, gamma=0.0001, random_state=3; total time=   0.0s\n",
      "[CV] END ...............C=1000, gamma=0.0001, random_state=4; total time=   0.0s\n",
      "[CV] END ...............C=1000, gamma=0.0001, random_state=4; total time=   0.0s\n",
      "[CV] END ...............C=1000, gamma=0.0001, random_state=4; total time=   0.1s\n",
      "[CV] END ...............C=1000, gamma=0.0001, random_state=4; total time=   0.1s\n",
      "[CV] END ...............C=1000, gamma=0.0001, random_state=4; total time=   0.0s\n",
      "[CV] END ...............C=1000, gamma=0.0001, random_state=5; total time=   0.0s\n",
      "[CV] END ...............C=1000, gamma=0.0001, random_state=5; total time=   0.1s\n",
      "[CV] END ...............C=1000, gamma=0.0001, random_state=5; total time=   0.1s\n",
      "[CV] END ...............C=1000, gamma=0.0001, random_state=5; total time=   0.1s\n",
      "[CV] END ...............C=1000, gamma=0.0001, random_state=5; total time=   0.0s\n",
      "[CV] END ...............C=1000, gamma=0.0001, random_state=6; total time=   0.0s\n",
      "[CV] END ...............C=1000, gamma=0.0001, random_state=6; total time=   0.1s\n"
     ]
    },
    {
     "name": "stdout",
     "output_type": "stream",
     "text": [
      "[CV] END ...............C=1000, gamma=0.0001, random_state=6; total time=   0.1s\n",
      "[CV] END ...............C=1000, gamma=0.0001, random_state=6; total time=   0.1s\n",
      "[CV] END ...............C=1000, gamma=0.0001, random_state=6; total time=   0.0s\n",
      "[CV] END ...............C=1000, gamma=0.0001, random_state=7; total time=   0.0s\n",
      "[CV] END ...............C=1000, gamma=0.0001, random_state=7; total time=   0.0s\n",
      "[CV] END ...............C=1000, gamma=0.0001, random_state=7; total time=   0.1s\n",
      "[CV] END ...............C=1000, gamma=0.0001, random_state=7; total time=   0.1s\n",
      "[CV] END ...............C=1000, gamma=0.0001, random_state=7; total time=   0.0s\n",
      "[CV] END ...............C=1000, gamma=0.0001, random_state=8; total time=   0.0s\n",
      "[CV] END ...............C=1000, gamma=0.0001, random_state=8; total time=   0.1s\n",
      "[CV] END ...............C=1000, gamma=0.0001, random_state=8; total time=   0.1s\n",
      "[CV] END ...............C=1000, gamma=0.0001, random_state=8; total time=   0.1s\n",
      "[CV] END ...............C=1000, gamma=0.0001, random_state=8; total time=   0.0s\n",
      "[CV] END ...............C=1000, gamma=0.0001, random_state=9; total time=   0.0s\n",
      "[CV] END ...............C=1000, gamma=0.0001, random_state=9; total time=   0.1s\n",
      "[CV] END ...............C=1000, gamma=0.0001, random_state=9; total time=   0.1s\n",
      "[CV] END ...............C=1000, gamma=0.0001, random_state=9; total time=   0.1s\n",
      "[CV] END ...............C=1000, gamma=0.0001, random_state=9; total time=   0.0s\n",
      "[CV] END ..............C=1000, gamma=0.0001, random_state=10; total time=   0.0s\n",
      "[CV] END ..............C=1000, gamma=0.0001, random_state=10; total time=   0.1s\n",
      "[CV] END ..............C=1000, gamma=0.0001, random_state=10; total time=   0.1s\n",
      "[CV] END ..............C=1000, gamma=0.0001, random_state=10; total time=   0.1s\n",
      "[CV] END ..............C=1000, gamma=0.0001, random_state=10; total time=   0.0s\n",
      "[CV] END ..............C=1000, gamma=0.0001, random_state=11; total time=   0.0s\n",
      "[CV] END ..............C=1000, gamma=0.0001, random_state=11; total time=   0.1s\n",
      "[CV] END ..............C=1000, gamma=0.0001, random_state=11; total time=   0.1s\n",
      "[CV] END ..............C=1000, gamma=0.0001, random_state=11; total time=   0.1s\n",
      "[CV] END ..............C=1000, gamma=0.0001, random_state=11; total time=   0.0s\n",
      "[CV] END ..............C=1000, gamma=0.0001, random_state=12; total time=   0.1s\n",
      "[CV] END ..............C=1000, gamma=0.0001, random_state=12; total time=   0.1s\n",
      "[CV] END ..............C=1000, gamma=0.0001, random_state=12; total time=   0.1s\n",
      "[CV] END ..............C=1000, gamma=0.0001, random_state=12; total time=   0.1s\n",
      "[CV] END ..............C=1000, gamma=0.0001, random_state=12; total time=   0.0s\n",
      "[CV] END ..............C=1000, gamma=0.0001, random_state=13; total time=   0.0s\n",
      "[CV] END ..............C=1000, gamma=0.0001, random_state=13; total time=   0.1s\n",
      "[CV] END ..............C=1000, gamma=0.0001, random_state=13; total time=   0.0s\n",
      "[CV] END ..............C=1000, gamma=0.0001, random_state=13; total time=   0.1s\n",
      "[CV] END ..............C=1000, gamma=0.0001, random_state=13; total time=   0.0s\n",
      "[CV] END ..............C=1000, gamma=0.0001, random_state=14; total time=   0.0s\n",
      "[CV] END ..............C=1000, gamma=0.0001, random_state=14; total time=   0.0s\n",
      "[CV] END ..............C=1000, gamma=0.0001, random_state=14; total time=   0.1s\n",
      "[CV] END ..............C=1000, gamma=0.0001, random_state=14; total time=   0.1s\n",
      "[CV] END ..............C=1000, gamma=0.0001, random_state=14; total time=   0.0s\n",
      "[CV] END ..............C=1000, gamma=0.0001, random_state=15; total time=   0.0s\n",
      "[CV] END ..............C=1000, gamma=0.0001, random_state=15; total time=   0.1s\n",
      "[CV] END ..............C=1000, gamma=0.0001, random_state=15; total time=   0.1s\n",
      "[CV] END ..............C=1000, gamma=0.0001, random_state=15; total time=   0.1s\n",
      "[CV] END ..............C=1000, gamma=0.0001, random_state=15; total time=   0.0s\n",
      "[CV] END ..............C=1000, gamma=0.0001, random_state=16; total time=   0.0s\n",
      "[CV] END ..............C=1000, gamma=0.0001, random_state=16; total time=   0.1s\n",
      "[CV] END ..............C=1000, gamma=0.0001, random_state=16; total time=   0.0s\n",
      "[CV] END ..............C=1000, gamma=0.0001, random_state=16; total time=   0.1s\n",
      "[CV] END ..............C=1000, gamma=0.0001, random_state=16; total time=   0.0s\n",
      "[CV] END ..............C=1000, gamma=0.0001, random_state=17; total time=   0.0s\n",
      "[CV] END ..............C=1000, gamma=0.0001, random_state=17; total time=   0.0s\n",
      "[CV] END ..............C=1000, gamma=0.0001, random_state=17; total time=   0.1s\n",
      "[CV] END ..............C=1000, gamma=0.0001, random_state=17; total time=   0.1s\n",
      "[CV] END ..............C=1000, gamma=0.0001, random_state=17; total time=   0.0s\n",
      "[CV] END ..............C=1000, gamma=0.0001, random_state=18; total time=   0.0s\n",
      "[CV] END ..............C=1000, gamma=0.0001, random_state=18; total time=   0.1s\n",
      "[CV] END ..............C=1000, gamma=0.0001, random_state=18; total time=   0.0s\n",
      "[CV] END ..............C=1000, gamma=0.0001, random_state=18; total time=   0.1s\n",
      "[CV] END ..............C=1000, gamma=0.0001, random_state=18; total time=   0.0s\n",
      "[CV] END ..............C=1000, gamma=0.0001, random_state=19; total time=   0.1s\n",
      "[CV] END ..............C=1000, gamma=0.0001, random_state=19; total time=   0.0s\n",
      "[CV] END ..............C=1000, gamma=0.0001, random_state=19; total time=   0.1s\n",
      "[CV] END ..............C=1000, gamma=0.0001, random_state=19; total time=   0.1s\n",
      "[CV] END ..............C=1000, gamma=0.0001, random_state=19; total time=   0.0s\n"
     ]
    },
    {
     "data": {
      "text/plain": [
       "GridSearchCV(cv=5, estimator=SVC(),\n",
       "             param_grid={'C': [0.1, 1, 10, 100, 1000],\n",
       "                         'gamma': [1, 0.1, 0.01, 0.001, 0.0001],\n",
       "                         'random_state': [1, 2, 3, 4, 5, 6, 7, 8, 9, 10, 11, 12,\n",
       "                                          13, 14, 15, 16, 17, 18, 19]},\n",
       "             scoring='f1', verbose=2)"
      ]
     },
     "execution_count": 67,
     "metadata": {},
     "output_type": "execute_result"
    }
   ],
   "source": [
    "from sklearn.model_selection import GridSearchCV\n",
    "  \n",
    "# defining parameter range\n",
    "param_grid = {'C': [0.1, 1, 10, 100, 1000], \n",
    "              'gamma': [1, 0.1, 0.01, 0.001, 0.0001],\n",
    "             'random_state':(list(range(1, 20)))} \n",
    "model=SVC()\n",
    "grid = GridSearchCV(model, param_grid, refit = True, verbose = 2,scoring='f1',cv=5)\n",
    "  \n",
    "# fitting the model for grid search\n",
    "grid.fit(X,y)"
   ]
  },
  {
   "cell_type": "code",
   "execution_count": 68,
   "metadata": {
    "colab": {
     "base_uri": "https://localhost:8080/"
    },
    "executionInfo": {
     "elapsed": 442,
     "status": "ok",
     "timestamp": 1642345008442,
     "user": {
      "displayName": "Shubhangi Sakarkar",
      "photoUrl": "https://lh3.googleusercontent.com/a-/AOh14GjiJriRrUWKSeoxmYnVoL2uz2i6E3RLOwZgeqHG=s64",
      "userId": "12180749557274197061"
     },
     "user_tz": -330
    },
    "id": "H1VSFR7QtV62",
    "outputId": "dc9b953c-e8f3-42e7-8a99-9ca5bb4cda37"
   },
   "outputs": [
    {
     "name": "stdout",
     "output_type": "stream",
     "text": [
      "{'C': 1, 'gamma': 0.1, 'random_state': 1}\n"
     ]
    }
   ],
   "source": [
    "# print best parameter after tuning\n",
    "print(grid.best_params_)\n",
    "  \n",
    "# print how our model looks after hyper-parameter tuning\n",
    "#print(grid.best_estimator_)"
   ]
  },
  {
   "cell_type": "code",
   "execution_count": 69,
   "metadata": {
    "executionInfo": {
     "elapsed": 360,
     "status": "ok",
     "timestamp": 1642345042581,
     "user": {
      "displayName": "Shubhangi Sakarkar",
      "photoUrl": "https://lh3.googleusercontent.com/a-/AOh14GjiJriRrUWKSeoxmYnVoL2uz2i6E3RLOwZgeqHG=s64",
      "userId": "12180749557274197061"
     },
     "user_tz": -330
    },
    "id": "9IzC9tpjtV65"
   },
   "outputs": [],
   "source": [
    "#clf=SVC(C=100, gamma=0.001,random_state=42) ##0.1\n",
    "clf=SVC(C=1, gamma=0.1,random_state=1) ##0.1"
   ]
  },
  {
   "cell_type": "code",
   "execution_count": 70,
   "metadata": {
    "colab": {
     "base_uri": "https://localhost:8080/"
    },
    "executionInfo": {
     "elapsed": 521,
     "status": "ok",
     "timestamp": 1642345069987,
     "user": {
      "displayName": "Shubhangi Sakarkar",
      "photoUrl": "https://lh3.googleusercontent.com/a-/AOh14GjiJriRrUWKSeoxmYnVoL2uz2i6E3RLOwZgeqHG=s64",
      "userId": "12180749557274197061"
     },
     "user_tz": -330
    },
    "id": "ZeyABB5ntV7V",
    "outputId": "65193651-7bb1-4828-a19e-0c6e9b6db02d"
   },
   "outputs": [
    {
     "data": {
      "text/plain": [
       "SVC(C=1, gamma=0.1, random_state=1)"
      ]
     },
     "execution_count": 70,
     "metadata": {},
     "output_type": "execute_result"
    }
   ],
   "source": [
    "clf.fit(X_smote, y_smote)"
   ]
  },
  {
   "cell_type": "code",
   "execution_count": 71,
   "metadata": {
    "executionInfo": {
     "elapsed": 430,
     "status": "ok",
     "timestamp": 1642345073766,
     "user": {
      "displayName": "Shubhangi Sakarkar",
      "photoUrl": "https://lh3.googleusercontent.com/a-/AOh14GjiJriRrUWKSeoxmYnVoL2uz2i6E3RLOwZgeqHG=s64",
      "userId": "12180749557274197061"
     },
     "user_tz": -330
    },
    "id": "L0miAUmWtV7X"
   },
   "outputs": [],
   "source": [
    "y_clf=clf.predict(X_test)"
   ]
  },
  {
   "cell_type": "code",
   "execution_count": 72,
   "metadata": {
    "colab": {
     "base_uri": "https://localhost:8080/"
    },
    "executionInfo": {
     "elapsed": 5,
     "status": "ok",
     "timestamp": 1642345076069,
     "user": {
      "displayName": "Shubhangi Sakarkar",
      "photoUrl": "https://lh3.googleusercontent.com/a-/AOh14GjiJriRrUWKSeoxmYnVoL2uz2i6E3RLOwZgeqHG=s64",
      "userId": "12180749557274197061"
     },
     "user_tz": -330
    },
    "id": "PYEkLS39tV7Y",
    "outputId": "0cf18d8d-9e31-47a6-8224-a28c79a79ea3"
   },
   "outputs": [
    {
     "name": "stdout",
     "output_type": "stream",
     "text": [
      "              precision    recall  f1-score   support\n",
      "\n",
      "           0       0.71      0.36      0.48        33\n",
      "           1       0.85      0.96      0.90       121\n",
      "\n",
      "    accuracy                           0.83       154\n",
      "   macro avg       0.78      0.66      0.69       154\n",
      "weighted avg       0.82      0.83      0.81       154\n",
      "\n"
     ]
    }
   ],
   "source": [
    "print(classification_report(y_test,y_clf))"
   ]
  },
  {
   "cell_type": "code",
   "execution_count": null,
   "metadata": {
    "colab": {
     "base_uri": "https://localhost:8080/",
     "height": 142
    },
    "executionInfo": {
     "elapsed": 418,
     "status": "ok",
     "timestamp": 1642345127942,
     "user": {
      "displayName": "Shubhangi Sakarkar",
      "photoUrl": "https://lh3.googleusercontent.com/a-/AOh14GjiJriRrUWKSeoxmYnVoL2uz2i6E3RLOwZgeqHG=s64",
      "userId": "12180749557274197061"
     },
     "user_tz": -330
    },
    "id": "_VNu0VBCZYVy",
    "outputId": "db52508a-1b31-459f-d567-298541c06938"
   },
   "outputs": [],
   "source": [
    "cm=pd.crosstab(y_test,y_clf)\n",
    "cm"
   ]
  },
  {
   "cell_type": "code",
   "execution_count": 73,
   "metadata": {
    "colab": {
     "base_uri": "https://localhost:8080/"
    },
    "collapsed": true,
    "executionInfo": {
     "elapsed": 415,
     "status": "ok",
     "timestamp": 1642345155382,
     "user": {
      "displayName": "Shubhangi Sakarkar",
      "photoUrl": "https://lh3.googleusercontent.com/a-/AOh14GjiJriRrUWKSeoxmYnVoL2uz2i6E3RLOwZgeqHG=s64",
      "userId": "12180749557274197061"
     },
     "user_tz": -330
    },
    "id": "gckZi4TCtV7a",
    "outputId": "439d4dd1-ca30-4a78-81a0-9c8f01ca3943"
   },
   "outputs": [
    {
     "data": {
      "text/plain": [
       "0.8992248062015504"
      ]
     },
     "execution_count": 73,
     "metadata": {},
     "output_type": "execute_result"
    }
   ],
   "source": [
    "f1=f1_score(y_test,y_clf)\n",
    "f1"
   ]
  },
  {
   "cell_type": "code",
   "execution_count": null,
   "metadata": {
    "colab": {
     "base_uri": "https://localhost:8080/"
    },
    "executionInfo": {
     "elapsed": 497,
     "status": "ok",
     "timestamp": 1642345174732,
     "user": {
      "displayName": "Shubhangi Sakarkar",
      "photoUrl": "https://lh3.googleusercontent.com/a-/AOh14GjiJriRrUWKSeoxmYnVoL2uz2i6E3RLOwZgeqHG=s64",
      "userId": "12180749557274197061"
     },
     "user_tz": -330
    },
    "id": "OKzm6SL4tV7c",
    "outputId": "19a2723a-ba76-4e72-d1e6-0a65be5e8510"
   },
   "outputs": [],
   "source": [
    "scores_after = cross_val_score(clf,X,y,cv=3,scoring='f1')\n",
    "print(scores_after)\n",
    "print(\"Cross validation Score:\",scores_after.mean())\n",
    "print(\"Std :\",scores.std())\n",
    "#std of < 0.05 is good. "
   ]
  },
  {
   "cell_type": "markdown",
   "metadata": {
    "id": "SDjMThwTZ0cu"
   },
   "source": [
    "# If you can see f1 score is improved however the recall is still lagging.\n",
    "\n",
    "# Task:-Change the all preprocessing technqiue and try to see if performance can be improved for not.\n",
    "\n",
    "# We still have ot gone through feature selection technqiue.\n"
   ]
  }
 ],
 "metadata": {
  "colab": {
   "collapsed_sections": [
    "PGlLFlEEtV6p",
    "a5rJZqB3tV6r",
    "j8EQN0q4tV6r",
    "2FKrgbUytV6t",
    "MOv9QRY6tV6x"
   ],
   "name": "SupportVectorMachines.ipynb",
   "provenance": []
  },
  "kernelspec": {
   "display_name": "Python 3 (ipykernel)",
   "language": "python",
   "name": "python3"
  },
  "language_info": {
   "codemirror_mode": {
    "name": "ipython",
    "version": 3
   },
   "file_extension": ".py",
   "mimetype": "text/x-python",
   "name": "python",
   "nbconvert_exporter": "python",
   "pygments_lexer": "ipython3",
   "version": "3.9.7"
  }
 },
 "nbformat": 4,
 "nbformat_minor": 1
}
